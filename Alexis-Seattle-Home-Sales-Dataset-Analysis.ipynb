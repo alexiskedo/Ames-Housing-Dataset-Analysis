{
 "cells": [
  {
   "cell_type": "markdown",
   "metadata": {},
   "source": [
    "# 1. Prep and Data Exploration"
   ]
  },
  {
   "cell_type": "code",
   "execution_count": 1,
   "metadata": {},
   "outputs": [],
   "source": [
    "# import all libraries required to load, transform, analyze and plot\n",
    "import numpy as np\n",
    "import pandas as pd\n",
    "import matplotlib.pyplot as plt\n",
    "import seaborn as sns\n",
    "%matplotlib inline\n",
    "import math\n",
    "\n",
    "import statsmodels.api as sm\n",
    "from statsmodels.formula.api import ols\n",
    "from sklearn.linear_model import LinearRegression\n",
    "from sklearn.model_selection import train_test_split\n",
    "\n",
    "import scipy.stats as stats\n",
    "import functions as fn\n",
    "# set display option to remove scientific notation and \n",
    "# remove restrictions on dataframe rows/columns display\n",
    "pd.options.display.float_format = '{:,.2f}'.format\n",
    "pd.set_option('display.max_columns', None)\n",
    "pd.set_option(\"max_rows\", None)\n",
    "\n",
    "\n",
    "data = pd.read_csv('data/kc_house_data.csv')"
   ]
  },
  {
   "cell_type": "code",
   "execution_count": 2,
   "metadata": {
    "scrolled": false
   },
   "outputs": [
    {
     "data": {
      "text/html": [
       "<div>\n",
       "<style scoped>\n",
       "    .dataframe tbody tr th:only-of-type {\n",
       "        vertical-align: middle;\n",
       "    }\n",
       "\n",
       "    .dataframe tbody tr th {\n",
       "        vertical-align: top;\n",
       "    }\n",
       "\n",
       "    .dataframe thead th {\n",
       "        text-align: right;\n",
       "    }\n",
       "</style>\n",
       "<table border=\"1\" class=\"dataframe\">\n",
       "  <thead>\n",
       "    <tr style=\"text-align: right;\">\n",
       "      <th></th>\n",
       "      <th>id</th>\n",
       "      <th>date</th>\n",
       "      <th>price</th>\n",
       "      <th>bedrooms</th>\n",
       "      <th>bathrooms</th>\n",
       "      <th>sqft_living</th>\n",
       "      <th>sqft_lot</th>\n",
       "      <th>floors</th>\n",
       "      <th>waterfront</th>\n",
       "      <th>view</th>\n",
       "      <th>condition</th>\n",
       "      <th>grade</th>\n",
       "      <th>sqft_above</th>\n",
       "      <th>sqft_basement</th>\n",
       "      <th>yr_built</th>\n",
       "      <th>yr_renovated</th>\n",
       "      <th>zipcode</th>\n",
       "      <th>lat</th>\n",
       "      <th>long</th>\n",
       "      <th>sqft_living15</th>\n",
       "      <th>sqft_lot15</th>\n",
       "    </tr>\n",
       "  </thead>\n",
       "  <tbody>\n",
       "    <tr>\n",
       "      <th>0</th>\n",
       "      <td>7129300520</td>\n",
       "      <td>10/13/2014</td>\n",
       "      <td>221,900.00</td>\n",
       "      <td>3</td>\n",
       "      <td>1.00</td>\n",
       "      <td>1180</td>\n",
       "      <td>5650</td>\n",
       "      <td>1.00</td>\n",
       "      <td>nan</td>\n",
       "      <td>0.00</td>\n",
       "      <td>3</td>\n",
       "      <td>7</td>\n",
       "      <td>1180</td>\n",
       "      <td>0.0</td>\n",
       "      <td>1955</td>\n",
       "      <td>0.00</td>\n",
       "      <td>98178</td>\n",
       "      <td>47.51</td>\n",
       "      <td>-122.26</td>\n",
       "      <td>1340</td>\n",
       "      <td>5650</td>\n",
       "    </tr>\n",
       "    <tr>\n",
       "      <th>1</th>\n",
       "      <td>6414100192</td>\n",
       "      <td>12/9/2014</td>\n",
       "      <td>538,000.00</td>\n",
       "      <td>3</td>\n",
       "      <td>2.25</td>\n",
       "      <td>2570</td>\n",
       "      <td>7242</td>\n",
       "      <td>2.00</td>\n",
       "      <td>0.00</td>\n",
       "      <td>0.00</td>\n",
       "      <td>3</td>\n",
       "      <td>7</td>\n",
       "      <td>2170</td>\n",
       "      <td>400.0</td>\n",
       "      <td>1951</td>\n",
       "      <td>1,991.00</td>\n",
       "      <td>98125</td>\n",
       "      <td>47.72</td>\n",
       "      <td>-122.32</td>\n",
       "      <td>1690</td>\n",
       "      <td>7639</td>\n",
       "    </tr>\n",
       "    <tr>\n",
       "      <th>2</th>\n",
       "      <td>5631500400</td>\n",
       "      <td>2/25/2015</td>\n",
       "      <td>180,000.00</td>\n",
       "      <td>2</td>\n",
       "      <td>1.00</td>\n",
       "      <td>770</td>\n",
       "      <td>10000</td>\n",
       "      <td>1.00</td>\n",
       "      <td>0.00</td>\n",
       "      <td>0.00</td>\n",
       "      <td>3</td>\n",
       "      <td>6</td>\n",
       "      <td>770</td>\n",
       "      <td>0.0</td>\n",
       "      <td>1933</td>\n",
       "      <td>nan</td>\n",
       "      <td>98028</td>\n",
       "      <td>47.74</td>\n",
       "      <td>-122.23</td>\n",
       "      <td>2720</td>\n",
       "      <td>8062</td>\n",
       "    </tr>\n",
       "    <tr>\n",
       "      <th>3</th>\n",
       "      <td>2487200875</td>\n",
       "      <td>12/9/2014</td>\n",
       "      <td>604,000.00</td>\n",
       "      <td>4</td>\n",
       "      <td>3.00</td>\n",
       "      <td>1960</td>\n",
       "      <td>5000</td>\n",
       "      <td>1.00</td>\n",
       "      <td>0.00</td>\n",
       "      <td>0.00</td>\n",
       "      <td>5</td>\n",
       "      <td>7</td>\n",
       "      <td>1050</td>\n",
       "      <td>910.0</td>\n",
       "      <td>1965</td>\n",
       "      <td>0.00</td>\n",
       "      <td>98136</td>\n",
       "      <td>47.52</td>\n",
       "      <td>-122.39</td>\n",
       "      <td>1360</td>\n",
       "      <td>5000</td>\n",
       "    </tr>\n",
       "    <tr>\n",
       "      <th>4</th>\n",
       "      <td>1954400510</td>\n",
       "      <td>2/18/2015</td>\n",
       "      <td>510,000.00</td>\n",
       "      <td>3</td>\n",
       "      <td>2.00</td>\n",
       "      <td>1680</td>\n",
       "      <td>8080</td>\n",
       "      <td>1.00</td>\n",
       "      <td>0.00</td>\n",
       "      <td>0.00</td>\n",
       "      <td>3</td>\n",
       "      <td>8</td>\n",
       "      <td>1680</td>\n",
       "      <td>0.0</td>\n",
       "      <td>1987</td>\n",
       "      <td>0.00</td>\n",
       "      <td>98074</td>\n",
       "      <td>47.62</td>\n",
       "      <td>-122.05</td>\n",
       "      <td>1800</td>\n",
       "      <td>7503</td>\n",
       "    </tr>\n",
       "  </tbody>\n",
       "</table>\n",
       "</div>"
      ],
      "text/plain": [
       "           id        date      price  bedrooms  bathrooms  sqft_living  \\\n",
       "0  7129300520  10/13/2014 221,900.00         3       1.00         1180   \n",
       "1  6414100192   12/9/2014 538,000.00         3       2.25         2570   \n",
       "2  5631500400   2/25/2015 180,000.00         2       1.00          770   \n",
       "3  2487200875   12/9/2014 604,000.00         4       3.00         1960   \n",
       "4  1954400510   2/18/2015 510,000.00         3       2.00         1680   \n",
       "\n",
       "   sqft_lot  floors  waterfront  view  condition  grade  sqft_above  \\\n",
       "0      5650    1.00         nan  0.00          3      7        1180   \n",
       "1      7242    2.00        0.00  0.00          3      7        2170   \n",
       "2     10000    1.00        0.00  0.00          3      6         770   \n",
       "3      5000    1.00        0.00  0.00          5      7        1050   \n",
       "4      8080    1.00        0.00  0.00          3      8        1680   \n",
       "\n",
       "  sqft_basement  yr_built  yr_renovated  zipcode   lat    long  sqft_living15  \\\n",
       "0           0.0      1955          0.00    98178 47.51 -122.26           1340   \n",
       "1         400.0      1951      1,991.00    98125 47.72 -122.32           1690   \n",
       "2           0.0      1933           nan    98028 47.74 -122.23           2720   \n",
       "3         910.0      1965          0.00    98136 47.52 -122.39           1360   \n",
       "4           0.0      1987          0.00    98074 47.62 -122.05           1800   \n",
       "\n",
       "   sqft_lot15  \n",
       "0        5650  \n",
       "1        7639  \n",
       "2        8062  \n",
       "3        5000  \n",
       "4        7503  "
      ]
     },
     "execution_count": 2,
     "metadata": {},
     "output_type": "execute_result"
    }
   ],
   "source": [
    "data.head()"
   ]
  },
  {
   "cell_type": "code",
   "execution_count": 3,
   "metadata": {
    "scrolled": true
   },
   "outputs": [
    {
     "name": "stdout",
     "output_type": "stream",
     "text": [
      "<class 'pandas.core.frame.DataFrame'>\n",
      "RangeIndex: 21597 entries, 0 to 21596\n",
      "Data columns (total 21 columns):\n",
      " #   Column         Non-Null Count  Dtype  \n",
      "---  ------         --------------  -----  \n",
      " 0   id             21597 non-null  int64  \n",
      " 1   date           21597 non-null  object \n",
      " 2   price          21597 non-null  float64\n",
      " 3   bedrooms       21597 non-null  int64  \n",
      " 4   bathrooms      21597 non-null  float64\n",
      " 5   sqft_living    21597 non-null  int64  \n",
      " 6   sqft_lot       21597 non-null  int64  \n",
      " 7   floors         21597 non-null  float64\n",
      " 8   waterfront     19221 non-null  float64\n",
      " 9   view           21534 non-null  float64\n",
      " 10  condition      21597 non-null  int64  \n",
      " 11  grade          21597 non-null  int64  \n",
      " 12  sqft_above     21597 non-null  int64  \n",
      " 13  sqft_basement  21597 non-null  object \n",
      " 14  yr_built       21597 non-null  int64  \n",
      " 15  yr_renovated   17755 non-null  float64\n",
      " 16  zipcode        21597 non-null  int64  \n",
      " 17  lat            21597 non-null  float64\n",
      " 18  long           21597 non-null  float64\n",
      " 19  sqft_living15  21597 non-null  int64  \n",
      " 20  sqft_lot15     21597 non-null  int64  \n",
      "dtypes: float64(8), int64(11), object(2)\n",
      "memory usage: 3.5+ MB\n"
     ]
    }
   ],
   "source": [
    "data.info()"
   ]
  },
  {
   "cell_type": "code",
   "execution_count": 4,
   "metadata": {},
   "outputs": [],
   "source": [
    "# Note missing values for waterfront, view, year renovated\n",
    "# Zipcode is an integer, which is pretty useless as zipcodes do not work \n",
    "# numerically. Should be a string or category. \n",
    "# \"Date\" is a datetime object, which cannot be in a model \n",
    "# sqfootbasement is an object due to ? in some rows"
   ]
  },
  {
   "cell_type": "code",
   "execution_count": 5,
   "metadata": {
    "scrolled": true
   },
   "outputs": [
    {
     "data": {
      "text/html": [
       "<div>\n",
       "<style scoped>\n",
       "    .dataframe tbody tr th:only-of-type {\n",
       "        vertical-align: middle;\n",
       "    }\n",
       "\n",
       "    .dataframe tbody tr th {\n",
       "        vertical-align: top;\n",
       "    }\n",
       "\n",
       "    .dataframe thead th {\n",
       "        text-align: right;\n",
       "    }\n",
       "</style>\n",
       "<table border=\"1\" class=\"dataframe\">\n",
       "  <thead>\n",
       "    <tr style=\"text-align: right;\">\n",
       "      <th></th>\n",
       "      <th>id</th>\n",
       "      <th>price</th>\n",
       "      <th>bedrooms</th>\n",
       "      <th>bathrooms</th>\n",
       "      <th>sqft_living</th>\n",
       "      <th>sqft_lot</th>\n",
       "      <th>floors</th>\n",
       "      <th>waterfront</th>\n",
       "      <th>view</th>\n",
       "      <th>condition</th>\n",
       "      <th>grade</th>\n",
       "      <th>sqft_above</th>\n",
       "      <th>yr_built</th>\n",
       "      <th>yr_renovated</th>\n",
       "      <th>zipcode</th>\n",
       "      <th>lat</th>\n",
       "      <th>long</th>\n",
       "      <th>sqft_living15</th>\n",
       "      <th>sqft_lot15</th>\n",
       "    </tr>\n",
       "  </thead>\n",
       "  <tbody>\n",
       "    <tr>\n",
       "      <th>count</th>\n",
       "      <td>21,597.00</td>\n",
       "      <td>21,597.00</td>\n",
       "      <td>21,597.00</td>\n",
       "      <td>21,597.00</td>\n",
       "      <td>21,597.00</td>\n",
       "      <td>21,597.00</td>\n",
       "      <td>21,597.00</td>\n",
       "      <td>19,221.00</td>\n",
       "      <td>21,534.00</td>\n",
       "      <td>21,597.00</td>\n",
       "      <td>21,597.00</td>\n",
       "      <td>21,597.00</td>\n",
       "      <td>21,597.00</td>\n",
       "      <td>17,755.00</td>\n",
       "      <td>21,597.00</td>\n",
       "      <td>21,597.00</td>\n",
       "      <td>21,597.00</td>\n",
       "      <td>21,597.00</td>\n",
       "      <td>21,597.00</td>\n",
       "    </tr>\n",
       "    <tr>\n",
       "      <th>mean</th>\n",
       "      <td>4,580,474,287.77</td>\n",
       "      <td>540,296.57</td>\n",
       "      <td>3.37</td>\n",
       "      <td>2.12</td>\n",
       "      <td>2,080.32</td>\n",
       "      <td>15,099.41</td>\n",
       "      <td>1.49</td>\n",
       "      <td>0.01</td>\n",
       "      <td>0.23</td>\n",
       "      <td>3.41</td>\n",
       "      <td>7.66</td>\n",
       "      <td>1,788.60</td>\n",
       "      <td>1,971.00</td>\n",
       "      <td>83.64</td>\n",
       "      <td>98,077.95</td>\n",
       "      <td>47.56</td>\n",
       "      <td>-122.21</td>\n",
       "      <td>1,986.62</td>\n",
       "      <td>12,758.28</td>\n",
       "    </tr>\n",
       "    <tr>\n",
       "      <th>std</th>\n",
       "      <td>2,876,735,715.75</td>\n",
       "      <td>367,368.14</td>\n",
       "      <td>0.93</td>\n",
       "      <td>0.77</td>\n",
       "      <td>918.11</td>\n",
       "      <td>41,412.64</td>\n",
       "      <td>0.54</td>\n",
       "      <td>0.09</td>\n",
       "      <td>0.77</td>\n",
       "      <td>0.65</td>\n",
       "      <td>1.17</td>\n",
       "      <td>827.76</td>\n",
       "      <td>29.38</td>\n",
       "      <td>399.95</td>\n",
       "      <td>53.51</td>\n",
       "      <td>0.14</td>\n",
       "      <td>0.14</td>\n",
       "      <td>685.23</td>\n",
       "      <td>27,274.44</td>\n",
       "    </tr>\n",
       "    <tr>\n",
       "      <th>min</th>\n",
       "      <td>1,000,102.00</td>\n",
       "      <td>78,000.00</td>\n",
       "      <td>1.00</td>\n",
       "      <td>0.50</td>\n",
       "      <td>370.00</td>\n",
       "      <td>520.00</td>\n",
       "      <td>1.00</td>\n",
       "      <td>0.00</td>\n",
       "      <td>0.00</td>\n",
       "      <td>1.00</td>\n",
       "      <td>3.00</td>\n",
       "      <td>370.00</td>\n",
       "      <td>1,900.00</td>\n",
       "      <td>0.00</td>\n",
       "      <td>98,001.00</td>\n",
       "      <td>47.16</td>\n",
       "      <td>-122.52</td>\n",
       "      <td>399.00</td>\n",
       "      <td>651.00</td>\n",
       "    </tr>\n",
       "    <tr>\n",
       "      <th>25%</th>\n",
       "      <td>2,123,049,175.00</td>\n",
       "      <td>322,000.00</td>\n",
       "      <td>3.00</td>\n",
       "      <td>1.75</td>\n",
       "      <td>1,430.00</td>\n",
       "      <td>5,040.00</td>\n",
       "      <td>1.00</td>\n",
       "      <td>0.00</td>\n",
       "      <td>0.00</td>\n",
       "      <td>3.00</td>\n",
       "      <td>7.00</td>\n",
       "      <td>1,190.00</td>\n",
       "      <td>1,951.00</td>\n",
       "      <td>0.00</td>\n",
       "      <td>98,033.00</td>\n",
       "      <td>47.47</td>\n",
       "      <td>-122.33</td>\n",
       "      <td>1,490.00</td>\n",
       "      <td>5,100.00</td>\n",
       "    </tr>\n",
       "    <tr>\n",
       "      <th>50%</th>\n",
       "      <td>3,904,930,410.00</td>\n",
       "      <td>450,000.00</td>\n",
       "      <td>3.00</td>\n",
       "      <td>2.25</td>\n",
       "      <td>1,910.00</td>\n",
       "      <td>7,618.00</td>\n",
       "      <td>1.50</td>\n",
       "      <td>0.00</td>\n",
       "      <td>0.00</td>\n",
       "      <td>3.00</td>\n",
       "      <td>7.00</td>\n",
       "      <td>1,560.00</td>\n",
       "      <td>1,975.00</td>\n",
       "      <td>0.00</td>\n",
       "      <td>98,065.00</td>\n",
       "      <td>47.57</td>\n",
       "      <td>-122.23</td>\n",
       "      <td>1,840.00</td>\n",
       "      <td>7,620.00</td>\n",
       "    </tr>\n",
       "    <tr>\n",
       "      <th>75%</th>\n",
       "      <td>7,308,900,490.00</td>\n",
       "      <td>645,000.00</td>\n",
       "      <td>4.00</td>\n",
       "      <td>2.50</td>\n",
       "      <td>2,550.00</td>\n",
       "      <td>10,685.00</td>\n",
       "      <td>2.00</td>\n",
       "      <td>0.00</td>\n",
       "      <td>0.00</td>\n",
       "      <td>4.00</td>\n",
       "      <td>8.00</td>\n",
       "      <td>2,210.00</td>\n",
       "      <td>1,997.00</td>\n",
       "      <td>0.00</td>\n",
       "      <td>98,118.00</td>\n",
       "      <td>47.68</td>\n",
       "      <td>-122.12</td>\n",
       "      <td>2,360.00</td>\n",
       "      <td>10,083.00</td>\n",
       "    </tr>\n",
       "    <tr>\n",
       "      <th>max</th>\n",
       "      <td>9,900,000,190.00</td>\n",
       "      <td>7,700,000.00</td>\n",
       "      <td>33.00</td>\n",
       "      <td>8.00</td>\n",
       "      <td>13,540.00</td>\n",
       "      <td>1,651,359.00</td>\n",
       "      <td>3.50</td>\n",
       "      <td>1.00</td>\n",
       "      <td>4.00</td>\n",
       "      <td>5.00</td>\n",
       "      <td>13.00</td>\n",
       "      <td>9,410.00</td>\n",
       "      <td>2,015.00</td>\n",
       "      <td>2,015.00</td>\n",
       "      <td>98,199.00</td>\n",
       "      <td>47.78</td>\n",
       "      <td>-121.31</td>\n",
       "      <td>6,210.00</td>\n",
       "      <td>871,200.00</td>\n",
       "    </tr>\n",
       "  </tbody>\n",
       "</table>\n",
       "</div>"
      ],
      "text/plain": [
       "                    id        price  bedrooms  bathrooms  sqft_living  \\\n",
       "count        21,597.00    21,597.00 21,597.00  21,597.00    21,597.00   \n",
       "mean  4,580,474,287.77   540,296.57      3.37       2.12     2,080.32   \n",
       "std   2,876,735,715.75   367,368.14      0.93       0.77       918.11   \n",
       "min       1,000,102.00    78,000.00      1.00       0.50       370.00   \n",
       "25%   2,123,049,175.00   322,000.00      3.00       1.75     1,430.00   \n",
       "50%   3,904,930,410.00   450,000.00      3.00       2.25     1,910.00   \n",
       "75%   7,308,900,490.00   645,000.00      4.00       2.50     2,550.00   \n",
       "max   9,900,000,190.00 7,700,000.00     33.00       8.00    13,540.00   \n",
       "\n",
       "          sqft_lot    floors  waterfront      view  condition     grade  \\\n",
       "count    21,597.00 21,597.00   19,221.00 21,534.00  21,597.00 21,597.00   \n",
       "mean     15,099.41      1.49        0.01      0.23       3.41      7.66   \n",
       "std      41,412.64      0.54        0.09      0.77       0.65      1.17   \n",
       "min         520.00      1.00        0.00      0.00       1.00      3.00   \n",
       "25%       5,040.00      1.00        0.00      0.00       3.00      7.00   \n",
       "50%       7,618.00      1.50        0.00      0.00       3.00      7.00   \n",
       "75%      10,685.00      2.00        0.00      0.00       4.00      8.00   \n",
       "max   1,651,359.00      3.50        1.00      4.00       5.00     13.00   \n",
       "\n",
       "       sqft_above  yr_built  yr_renovated   zipcode       lat      long  \\\n",
       "count   21,597.00 21,597.00     17,755.00 21,597.00 21,597.00 21,597.00   \n",
       "mean     1,788.60  1,971.00         83.64 98,077.95     47.56   -122.21   \n",
       "std        827.76     29.38        399.95     53.51      0.14      0.14   \n",
       "min        370.00  1,900.00          0.00 98,001.00     47.16   -122.52   \n",
       "25%      1,190.00  1,951.00          0.00 98,033.00     47.47   -122.33   \n",
       "50%      1,560.00  1,975.00          0.00 98,065.00     47.57   -122.23   \n",
       "75%      2,210.00  1,997.00          0.00 98,118.00     47.68   -122.12   \n",
       "max      9,410.00  2,015.00      2,015.00 98,199.00     47.78   -121.31   \n",
       "\n",
       "       sqft_living15  sqft_lot15  \n",
       "count      21,597.00   21,597.00  \n",
       "mean        1,986.62   12,758.28  \n",
       "std           685.23   27,274.44  \n",
       "min           399.00      651.00  \n",
       "25%         1,490.00    5,100.00  \n",
       "50%         1,840.00    7,620.00  \n",
       "75%         2,360.00   10,083.00  \n",
       "max         6,210.00  871,200.00  "
      ]
     },
     "execution_count": 5,
     "metadata": {},
     "output_type": "execute_result"
    }
   ],
   "source": [
    "data.describe()"
   ]
  },
  {
   "cell_type": "markdown",
   "metadata": {},
   "source": [
    "* Waterfront has very few 1's, which tells us waterfront is sparsely populated \n",
    "* Small percentage of home have been renovated recently given 75th percentile 0.\n",
    "* Standard deviation in price is almost $370,000."
   ]
  },
  {
   "cell_type": "code",
   "execution_count": 6,
   "metadata": {
    "scrolled": true
   },
   "outputs": [
    {
     "name": "stdout",
     "output_type": "stream",
     "text": [
      "<class 'pandas.core.frame.DataFrame'>\n",
      "Int64Index: 17011 entries, 0 to 21596\n",
      "Data columns (total 21 columns):\n",
      " #   Column         Non-Null Count  Dtype  \n",
      "---  ------         --------------  -----  \n",
      " 0   id             17011 non-null  int64  \n",
      " 1   date           17011 non-null  object \n",
      " 2   price          17011 non-null  float64\n",
      " 3   bedrooms       17011 non-null  int64  \n",
      " 4   bathrooms      17011 non-null  float64\n",
      " 5   sqft_living    17011 non-null  int64  \n",
      " 6   sqft_lot       17011 non-null  int64  \n",
      " 7   floors         17011 non-null  float64\n",
      " 8   waterfront     15157 non-null  float64\n",
      " 9   view           16961 non-null  float64\n",
      " 10  condition      17011 non-null  int64  \n",
      " 11  grade          17011 non-null  int64  \n",
      " 12  sqft_above     17011 non-null  int64  \n",
      " 13  sqft_basement  17011 non-null  object \n",
      " 14  yr_built       17011 non-null  int64  \n",
      " 15  yr_renovated   17011 non-null  float64\n",
      " 16  zipcode        17011 non-null  int64  \n",
      " 17  lat            17011 non-null  float64\n",
      " 18  long           17011 non-null  float64\n",
      " 19  sqft_living15  17011 non-null  int64  \n",
      " 20  sqft_lot15     17011 non-null  int64  \n",
      "dtypes: float64(8), int64(11), object(2)\n",
      "memory usage: 2.9+ MB\n"
     ]
    }
   ],
   "source": [
    "not_renovated = data.loc[data['yr_renovated'] == 0]\n",
    "not_renovated.head()\n",
    "not_renovated.info()"
   ]
  },
  {
   "cell_type": "code",
   "execution_count": 7,
   "metadata": {},
   "outputs": [
    {
     "data": {
      "text/plain": [
       "0.787655692920313"
      ]
     },
     "execution_count": 7,
     "metadata": {},
     "output_type": "execute_result"
    }
   ],
   "source": [
    "17011/21597\n",
    "# About 78% of home have not been renovated. "
   ]
  },
  {
   "cell_type": "code",
   "execution_count": 8,
   "metadata": {
    "scrolled": true
   },
   "outputs": [
    {
     "data": {
      "text/html": [
       "<div>\n",
       "<style scoped>\n",
       "    .dataframe tbody tr th:only-of-type {\n",
       "        vertical-align: middle;\n",
       "    }\n",
       "\n",
       "    .dataframe tbody tr th {\n",
       "        vertical-align: top;\n",
       "    }\n",
       "\n",
       "    .dataframe thead th {\n",
       "        text-align: right;\n",
       "    }\n",
       "</style>\n",
       "<table border=\"1\" class=\"dataframe\">\n",
       "  <thead>\n",
       "    <tr style=\"text-align: right;\">\n",
       "      <th></th>\n",
       "      <th>id</th>\n",
       "      <th>price</th>\n",
       "      <th>bedrooms</th>\n",
       "      <th>bathrooms</th>\n",
       "      <th>sqft_living</th>\n",
       "      <th>sqft_lot</th>\n",
       "      <th>floors</th>\n",
       "      <th>waterfront</th>\n",
       "      <th>view</th>\n",
       "      <th>condition</th>\n",
       "      <th>grade</th>\n",
       "      <th>sqft_above</th>\n",
       "      <th>yr_built</th>\n",
       "      <th>yr_renovated</th>\n",
       "      <th>zipcode</th>\n",
       "      <th>lat</th>\n",
       "      <th>long</th>\n",
       "      <th>sqft_living15</th>\n",
       "      <th>sqft_lot15</th>\n",
       "    </tr>\n",
       "  </thead>\n",
       "  <tbody>\n",
       "    <tr>\n",
       "      <th>median</th>\n",
       "      <td>3,904,930,410.00</td>\n",
       "      <td>450,000.00</td>\n",
       "      <td>3.00</td>\n",
       "      <td>2.25</td>\n",
       "      <td>1,910.00</td>\n",
       "      <td>7,618.00</td>\n",
       "      <td>1.50</td>\n",
       "      <td>0.00</td>\n",
       "      <td>0.00</td>\n",
       "      <td>3.00</td>\n",
       "      <td>7.00</td>\n",
       "      <td>1,560.00</td>\n",
       "      <td>1,975.00</td>\n",
       "      <td>0.00</td>\n",
       "      <td>98,065.00</td>\n",
       "      <td>47.57</td>\n",
       "      <td>-122.23</td>\n",
       "      <td>1,840.00</td>\n",
       "      <td>7,620.00</td>\n",
       "    </tr>\n",
       "    <tr>\n",
       "      <th>mean</th>\n",
       "      <td>4,580,474,287.77</td>\n",
       "      <td>540,296.57</td>\n",
       "      <td>3.37</td>\n",
       "      <td>2.12</td>\n",
       "      <td>2,080.32</td>\n",
       "      <td>15,099.41</td>\n",
       "      <td>1.49</td>\n",
       "      <td>0.01</td>\n",
       "      <td>0.23</td>\n",
       "      <td>3.41</td>\n",
       "      <td>7.66</td>\n",
       "      <td>1,788.60</td>\n",
       "      <td>1,971.00</td>\n",
       "      <td>83.64</td>\n",
       "      <td>98,077.95</td>\n",
       "      <td>47.56</td>\n",
       "      <td>-122.21</td>\n",
       "      <td>1,986.62</td>\n",
       "      <td>12,758.28</td>\n",
       "    </tr>\n",
       "  </tbody>\n",
       "</table>\n",
       "</div>"
      ],
      "text/plain": [
       "                     id      price  bedrooms  bathrooms  sqft_living  \\\n",
       "median 3,904,930,410.00 450,000.00      3.00       2.25     1,910.00   \n",
       "mean   4,580,474,287.77 540,296.57      3.37       2.12     2,080.32   \n",
       "\n",
       "        sqft_lot  floors  waterfront  view  condition  grade  sqft_above  \\\n",
       "median  7,618.00    1.50        0.00  0.00       3.00   7.00    1,560.00   \n",
       "mean   15,099.41    1.49        0.01  0.23       3.41   7.66    1,788.60   \n",
       "\n",
       "        yr_built  yr_renovated   zipcode   lat    long  sqft_living15  \\\n",
       "median  1,975.00          0.00 98,065.00 47.57 -122.23       1,840.00   \n",
       "mean    1,971.00         83.64 98,077.95 47.56 -122.21       1,986.62   \n",
       "\n",
       "        sqft_lot15  \n",
       "median    7,620.00  \n",
       "mean     12,758.28  "
      ]
     },
     "execution_count": 8,
     "metadata": {},
     "output_type": "execute_result"
    }
   ],
   "source": [
    "# From Eldrich \n",
    "df_mean_median = pd.DataFrame(data = (data.median(), data.mean()), index = ['median', 'mean'])\n",
    "# Creating a df 'data_mean_median' which compares the median and mean of each column \n",
    "# in order to glimpse at skewness of each feature\n",
    "df_mean_median"
   ]
  },
  {
   "cell_type": "markdown",
   "metadata": {},
   "source": [
    "* Sqft_lot has a significant right skew (positive skew), with the mean double that of the median\n",
    "* Price has a slightly less significant postive skew, with the mean being around 120% that of the median "
   ]
  },
  {
   "cell_type": "code",
   "execution_count": 9,
   "metadata": {
    "scrolled": true
   },
   "outputs": [
    {
     "data": {
      "text/html": [
       "<div>\n",
       "<style scoped>\n",
       "    .dataframe tbody tr th:only-of-type {\n",
       "        vertical-align: middle;\n",
       "    }\n",
       "\n",
       "    .dataframe tbody tr th {\n",
       "        vertical-align: top;\n",
       "    }\n",
       "\n",
       "    .dataframe thead th {\n",
       "        text-align: right;\n",
       "    }\n",
       "</style>\n",
       "<table border=\"1\" class=\"dataframe\">\n",
       "  <thead>\n",
       "    <tr style=\"text-align: right;\">\n",
       "      <th></th>\n",
       "      <th>id</th>\n",
       "      <th>date</th>\n",
       "      <th>price</th>\n",
       "      <th>bedrooms</th>\n",
       "      <th>bathrooms</th>\n",
       "      <th>sqft_living</th>\n",
       "      <th>sqft_lot</th>\n",
       "      <th>floors</th>\n",
       "      <th>waterfront</th>\n",
       "      <th>view</th>\n",
       "      <th>condition</th>\n",
       "      <th>grade</th>\n",
       "      <th>sqft_above</th>\n",
       "      <th>sqft_basement</th>\n",
       "      <th>yr_built</th>\n",
       "      <th>yr_renovated</th>\n",
       "      <th>zipcode</th>\n",
       "      <th>lat</th>\n",
       "      <th>long</th>\n",
       "      <th>sqft_living15</th>\n",
       "      <th>sqft_lot15</th>\n",
       "    </tr>\n",
       "  </thead>\n",
       "  <tbody>\n",
       "    <tr>\n",
       "      <th>15856</th>\n",
       "      <td>2402100895</td>\n",
       "      <td>6/25/2014</td>\n",
       "      <td>640,000.00</td>\n",
       "      <td>33</td>\n",
       "      <td>1.75</td>\n",
       "      <td>1620</td>\n",
       "      <td>6000</td>\n",
       "      <td>1.00</td>\n",
       "      <td>0.00</td>\n",
       "      <td>0.00</td>\n",
       "      <td>5</td>\n",
       "      <td>7</td>\n",
       "      <td>1040</td>\n",
       "      <td>580.0</td>\n",
       "      <td>1947</td>\n",
       "      <td>0.00</td>\n",
       "      <td>98103</td>\n",
       "      <td>47.69</td>\n",
       "      <td>-122.33</td>\n",
       "      <td>1330</td>\n",
       "      <td>4700</td>\n",
       "    </tr>\n",
       "  </tbody>\n",
       "</table>\n",
       "</div>"
      ],
      "text/plain": [
       "               id       date      price  bedrooms  bathrooms  sqft_living  \\\n",
       "15856  2402100895  6/25/2014 640,000.00        33       1.75         1620   \n",
       "\n",
       "       sqft_lot  floors  waterfront  view  condition  grade  sqft_above  \\\n",
       "15856      6000    1.00        0.00  0.00          5      7        1040   \n",
       "\n",
       "      sqft_basement  yr_built  yr_renovated  zipcode   lat    long  \\\n",
       "15856         580.0      1947          0.00    98103 47.69 -122.33   \n",
       "\n",
       "       sqft_living15  sqft_lot15  \n",
       "15856           1330        4700  "
      ]
     },
     "execution_count": 9,
     "metadata": {},
     "output_type": "execute_result"
    }
   ],
   "source": [
    "# Investigating outliers\n",
    "data.loc[data['bedrooms'] == 33]"
   ]
  },
  {
   "cell_type": "code",
   "execution_count": 10,
   "metadata": {
    "scrolled": true
   },
   "outputs": [
    {
     "data": {
      "text/html": [
       "<div>\n",
       "<style scoped>\n",
       "    .dataframe tbody tr th:only-of-type {\n",
       "        vertical-align: middle;\n",
       "    }\n",
       "\n",
       "    .dataframe tbody tr th {\n",
       "        vertical-align: top;\n",
       "    }\n",
       "\n",
       "    .dataframe thead th {\n",
       "        text-align: right;\n",
       "    }\n",
       "</style>\n",
       "<table border=\"1\" class=\"dataframe\">\n",
       "  <thead>\n",
       "    <tr style=\"text-align: right;\">\n",
       "      <th></th>\n",
       "      <th>id</th>\n",
       "      <th>date</th>\n",
       "      <th>price</th>\n",
       "      <th>bedrooms</th>\n",
       "      <th>bathrooms</th>\n",
       "      <th>sqft_living</th>\n",
       "      <th>sqft_lot</th>\n",
       "      <th>floors</th>\n",
       "      <th>waterfront</th>\n",
       "      <th>view</th>\n",
       "      <th>condition</th>\n",
       "      <th>grade</th>\n",
       "      <th>sqft_above</th>\n",
       "      <th>sqft_basement</th>\n",
       "      <th>yr_built</th>\n",
       "      <th>yr_renovated</th>\n",
       "      <th>zipcode</th>\n",
       "      <th>lat</th>\n",
       "      <th>long</th>\n",
       "      <th>sqft_living15</th>\n",
       "      <th>sqft_lot15</th>\n",
       "    </tr>\n",
       "  </thead>\n",
       "  <tbody>\n",
       "    <tr>\n",
       "      <th>7245</th>\n",
       "      <td>6762700020</td>\n",
       "      <td>10/13/2014</td>\n",
       "      <td>7,700,000.00</td>\n",
       "      <td>6</td>\n",
       "      <td>8.00</td>\n",
       "      <td>12050</td>\n",
       "      <td>27600</td>\n",
       "      <td>2.50</td>\n",
       "      <td>0.00</td>\n",
       "      <td>3.00</td>\n",
       "      <td>4</td>\n",
       "      <td>13</td>\n",
       "      <td>8570</td>\n",
       "      <td>3480.0</td>\n",
       "      <td>1910</td>\n",
       "      <td>1,987.00</td>\n",
       "      <td>98102</td>\n",
       "      <td>47.63</td>\n",
       "      <td>-122.32</td>\n",
       "      <td>3940</td>\n",
       "      <td>8800</td>\n",
       "    </tr>\n",
       "    <tr>\n",
       "      <th>12764</th>\n",
       "      <td>1225069038</td>\n",
       "      <td>5/5/2014</td>\n",
       "      <td>2,280,000.00</td>\n",
       "      <td>7</td>\n",
       "      <td>8.00</td>\n",
       "      <td>13540</td>\n",
       "      <td>307752</td>\n",
       "      <td>3.00</td>\n",
       "      <td>0.00</td>\n",
       "      <td>4.00</td>\n",
       "      <td>3</td>\n",
       "      <td>12</td>\n",
       "      <td>9410</td>\n",
       "      <td>4130.0</td>\n",
       "      <td>1999</td>\n",
       "      <td>0.00</td>\n",
       "      <td>98053</td>\n",
       "      <td>47.67</td>\n",
       "      <td>-121.99</td>\n",
       "      <td>4850</td>\n",
       "      <td>217800</td>\n",
       "    </tr>\n",
       "  </tbody>\n",
       "</table>\n",
       "</div>"
      ],
      "text/plain": [
       "               id        date        price  bedrooms  bathrooms  sqft_living  \\\n",
       "7245   6762700020  10/13/2014 7,700,000.00         6       8.00        12050   \n",
       "12764  1225069038    5/5/2014 2,280,000.00         7       8.00        13540   \n",
       "\n",
       "       sqft_lot  floors  waterfront  view  condition  grade  sqft_above  \\\n",
       "7245      27600    2.50        0.00  3.00          4     13        8570   \n",
       "12764    307752    3.00        0.00  4.00          3     12        9410   \n",
       "\n",
       "      sqft_basement  yr_built  yr_renovated  zipcode   lat    long  \\\n",
       "7245         3480.0      1910      1,987.00    98102 47.63 -122.32   \n",
       "12764        4130.0      1999          0.00    98053 47.67 -121.99   \n",
       "\n",
       "       sqft_living15  sqft_lot15  \n",
       "7245            3940        8800  \n",
       "12764           4850      217800  "
      ]
     },
     "execution_count": 10,
     "metadata": {},
     "output_type": "execute_result"
    }
   ],
   "source": [
    "data.loc[data['bathrooms'] == 8]"
   ]
  },
  {
   "cell_type": "code",
   "execution_count": 11,
   "metadata": {
    "scrolled": false
   },
   "outputs": [
    {
     "data": {
      "text/html": [
       "<div>\n",
       "<style scoped>\n",
       "    .dataframe tbody tr th:only-of-type {\n",
       "        vertical-align: middle;\n",
       "    }\n",
       "\n",
       "    .dataframe tbody tr th {\n",
       "        vertical-align: top;\n",
       "    }\n",
       "\n",
       "    .dataframe thead th {\n",
       "        text-align: right;\n",
       "    }\n",
       "</style>\n",
       "<table border=\"1\" class=\"dataframe\">\n",
       "  <thead>\n",
       "    <tr style=\"text-align: right;\">\n",
       "      <th></th>\n",
       "      <th>id</th>\n",
       "      <th>date</th>\n",
       "      <th>price</th>\n",
       "      <th>bedrooms</th>\n",
       "      <th>bathrooms</th>\n",
       "      <th>sqft_living</th>\n",
       "      <th>sqft_lot</th>\n",
       "      <th>floors</th>\n",
       "      <th>waterfront</th>\n",
       "      <th>view</th>\n",
       "      <th>condition</th>\n",
       "      <th>grade</th>\n",
       "      <th>sqft_above</th>\n",
       "      <th>sqft_basement</th>\n",
       "      <th>yr_built</th>\n",
       "      <th>yr_renovated</th>\n",
       "      <th>zipcode</th>\n",
       "      <th>lat</th>\n",
       "      <th>long</th>\n",
       "      <th>sqft_living15</th>\n",
       "      <th>sqft_lot15</th>\n",
       "    </tr>\n",
       "  </thead>\n",
       "  <tbody>\n",
       "    <tr>\n",
       "      <th>1717</th>\n",
       "      <td>1020069017</td>\n",
       "      <td>3/27/2015</td>\n",
       "      <td>700,000.00</td>\n",
       "      <td>4</td>\n",
       "      <td>1.00</td>\n",
       "      <td>1300</td>\n",
       "      <td>1651359</td>\n",
       "      <td>1.00</td>\n",
       "      <td>0.00</td>\n",
       "      <td>3.00</td>\n",
       "      <td>4</td>\n",
       "      <td>6</td>\n",
       "      <td>1300</td>\n",
       "      <td>0.0</td>\n",
       "      <td>1920</td>\n",
       "      <td>0.00</td>\n",
       "      <td>98022</td>\n",
       "      <td>47.23</td>\n",
       "      <td>-122.02</td>\n",
       "      <td>2560</td>\n",
       "      <td>425581</td>\n",
       "    </tr>\n",
       "  </tbody>\n",
       "</table>\n",
       "</div>"
      ],
      "text/plain": [
       "              id       date      price  bedrooms  bathrooms  sqft_living  \\\n",
       "1717  1020069017  3/27/2015 700,000.00         4       1.00         1300   \n",
       "\n",
       "      sqft_lot  floors  waterfront  view  condition  grade  sqft_above  \\\n",
       "1717   1651359    1.00        0.00  3.00          4      6        1300   \n",
       "\n",
       "     sqft_basement  yr_built  yr_renovated  zipcode   lat    long  \\\n",
       "1717           0.0      1920          0.00    98022 47.23 -122.02   \n",
       "\n",
       "      sqft_living15  sqft_lot15  \n",
       "1717           2560      425581  "
      ]
     },
     "execution_count": 11,
     "metadata": {},
     "output_type": "execute_result"
    }
   ],
   "source": [
    "data.loc[data['sqft_lot'] == 1651359]"
   ]
  },
  {
   "cell_type": "code",
   "execution_count": 12,
   "metadata": {
    "scrolled": true
   },
   "outputs": [
    {
     "data": {
      "text/html": [
       "<div>\n",
       "<style scoped>\n",
       "    .dataframe tbody tr th:only-of-type {\n",
       "        vertical-align: middle;\n",
       "    }\n",
       "\n",
       "    .dataframe tbody tr th {\n",
       "        vertical-align: top;\n",
       "    }\n",
       "\n",
       "    .dataframe thead th {\n",
       "        text-align: right;\n",
       "    }\n",
       "</style>\n",
       "<table border=\"1\" class=\"dataframe\">\n",
       "  <thead>\n",
       "    <tr style=\"text-align: right;\">\n",
       "      <th></th>\n",
       "      <th>id</th>\n",
       "      <th>date</th>\n",
       "      <th>price</th>\n",
       "      <th>bedrooms</th>\n",
       "      <th>bathrooms</th>\n",
       "      <th>sqft_living</th>\n",
       "      <th>sqft_lot</th>\n",
       "      <th>floors</th>\n",
       "      <th>waterfront</th>\n",
       "      <th>view</th>\n",
       "      <th>condition</th>\n",
       "      <th>grade</th>\n",
       "      <th>sqft_above</th>\n",
       "      <th>sqft_basement</th>\n",
       "      <th>yr_built</th>\n",
       "      <th>yr_renovated</th>\n",
       "      <th>zipcode</th>\n",
       "      <th>lat</th>\n",
       "      <th>long</th>\n",
       "      <th>sqft_living15</th>\n",
       "      <th>sqft_lot15</th>\n",
       "    </tr>\n",
       "  </thead>\n",
       "  <tbody>\n",
       "    <tr>\n",
       "      <th>7245</th>\n",
       "      <td>6762700020</td>\n",
       "      <td>10/13/2014</td>\n",
       "      <td>7,700,000.00</td>\n",
       "      <td>6</td>\n",
       "      <td>8.00</td>\n",
       "      <td>12050</td>\n",
       "      <td>27600</td>\n",
       "      <td>2.50</td>\n",
       "      <td>0.00</td>\n",
       "      <td>3.00</td>\n",
       "      <td>4</td>\n",
       "      <td>13</td>\n",
       "      <td>8570</td>\n",
       "      <td>3480.0</td>\n",
       "      <td>1910</td>\n",
       "      <td>1,987.00</td>\n",
       "      <td>98102</td>\n",
       "      <td>47.63</td>\n",
       "      <td>-122.32</td>\n",
       "      <td>3940</td>\n",
       "      <td>8800</td>\n",
       "    </tr>\n",
       "  </tbody>\n",
       "</table>\n",
       "</div>"
      ],
      "text/plain": [
       "              id        date        price  bedrooms  bathrooms  sqft_living  \\\n",
       "7245  6762700020  10/13/2014 7,700,000.00         6       8.00        12050   \n",
       "\n",
       "      sqft_lot  floors  waterfront  view  condition  grade  sqft_above  \\\n",
       "7245     27600    2.50        0.00  3.00          4     13        8570   \n",
       "\n",
       "     sqft_basement  yr_built  yr_renovated  zipcode   lat    long  \\\n",
       "7245        3480.0      1910      1,987.00    98102 47.63 -122.32   \n",
       "\n",
       "      sqft_living15  sqft_lot15  \n",
       "7245           3940        8800  "
      ]
     },
     "execution_count": 12,
     "metadata": {},
     "output_type": "execute_result"
    }
   ],
   "source": [
    "data.loc[data['price'] == 7700000]"
   ]
  },
  {
   "cell_type": "markdown",
   "metadata": {},
   "source": [
    "* Bedrooms: One outlier at 33 bedrooms - though only sold for 640k so most likely a data entry error\n",
    "* Square footage: obvious outlier at 1,651,359. Mean is nearly double median. \n",
    "* Sale price: 7.7 million sale price outlier for sale price; mean is higher than median "
   ]
  },
  {
   "cell_type": "code",
   "execution_count": 13,
   "metadata": {},
   "outputs": [],
   "source": [
    "#plt.figure(figsize=(10,8))\n",
    "#sns.heatmap(data.corr().abs(), annot=True)\n",
    "#plt.show()"
   ]
  },
  {
   "cell_type": "markdown",
   "metadata": {},
   "source": [
    "* Just eyeballing, sqft_living (.70), grade (.67), sqft_above (.61), sq_ftliving15 (.59) & bathrooms (.53) seem to be relatively strong predictors. \n",
    "* Disappointingly bedrooms is not all that strong at .31, but we'll keep it in for now, because it is often a differentiating factor when buying or selling a home\n",
    "* Bathrooms and sqft_living may possess a multicollinarity issue"
   ]
  },
  {
   "cell_type": "code",
   "execution_count": 14,
   "metadata": {},
   "outputs": [],
   "source": [
    "#sns.pairplot(data)"
   ]
  },
  {
   "cell_type": "markdown",
   "metadata": {},
   "source": [
    "# 2. Some Preliminary Visualizations"
   ]
  },
  {
   "cell_type": "code",
   "execution_count": 15,
   "metadata": {},
   "outputs": [
    {
     "data": {
      "image/png": "[encoded data removed]",
      "text/plain": [
       "<Figure size 432x288 with 1 Axes>"
      ]
     },
     "metadata": {
      "needs_background": "light"
     },
     "output_type": "display_data"
    }
   ],
   "source": [
    "#From Eldrich\n",
    "plt.hist(x = data.price, bins = 'auto', alpha = 0.80, rwidth= .85)\n",
    "plt.xlabel('Price in $ Millions')\n",
    "plt.ylabel('Frequency')\n",
    "plt.title('Distribution of Price');"
   ]
  },
  {
   "cell_type": "markdown",
   "metadata": {},
   "source": [
    "* Price is fairly normally distributed, with a mean of about $500,000. "
   ]
  },
  {
   "cell_type": "code",
   "execution_count": 16,
   "metadata": {},
   "outputs": [],
   "source": [
    "# From Eldrich\n",
    "def boxit(DataFrame, independent, dependent):\n",
    "    \"\"\" Returns boxplot of chosen independent column and dependent column.\n",
    "        \n",
    "        Parameters:\n",
    "        DataFrame: A Pandas DataFrame\n",
    "        Independent: Column or feature from dataframe to be chosen as the predictor variable\n",
    "        Dependent: Column to be predicted\n",
    "        \"\"\"\n",
    "    ax = sns.boxplot(data = DataFrame, x = independent, y = dependent)\n",
    "    return"
   ]
  },
  {
   "cell_type": "code",
   "execution_count": 17,
   "metadata": {
    "scrolled": true
   },
   "outputs": [
    {
     "data": {
      "image/png": "[encoded data removed]",
      "text/plain": [
       "<Figure size 432x288 with 1 Axes>"
      ]
     },
     "metadata": {
      "needs_background": "light"
     },
     "output_type": "display_data"
    }
   ],
   "source": [
    "boxit(data, 'waterfront', 'price')"
   ]
  },
  {
   "cell_type": "markdown",
   "metadata": {},
   "source": [
    "* The interquartile range of waterfront properties (marked as 1.0 on boxplot) is larger thus the range of price for the middle half of waterfront properties is also larger\n",
    "\n",
    "* The upper quartile of waterfront properties is more expensive while its lower quartile is around the same price as the upper quartile of non-waterfront properties\n",
    "\n",
    "* Both maximum and minimum values (denoted by the boxplot's whiskers) are higher respectively for waterfront properties\n",
    "\n",
    "* Non-waterfront properties have extreme outliers"
   ]
  },
  {
   "cell_type": "code",
   "execution_count": 18,
   "metadata": {
    "scrolled": true
   },
   "outputs": [
    {
     "data": {
      "image/png": "[encoded data removed]",
      "text/plain": [
       "<Figure size 432x288 with 1 Axes>"
      ]
     },
     "metadata": {
      "needs_background": "light"
     },
     "output_type": "display_data"
    }
   ],
   "source": [
    "boxit(data, 'condition', 'price')"
   ]
  },
  {
   "cell_type": "markdown",
   "metadata": {},
   "source": [
    "* Properties' condition don't appear to show high correlation with price, with each condition posting relatively similar price ranges. \n",
    "* It does appear that outliers peak at condition-3 "
   ]
  },
  {
   "cell_type": "code",
   "execution_count": 19,
   "metadata": {},
   "outputs": [
    {
     "data": {
      "image/png": "[encoded data removed]",
      "text/plain": [
       "<Figure size 432x288 with 1 Axes>"
      ]
     },
     "metadata": {
      "needs_background": "light"
     },
     "output_type": "display_data"
    }
   ],
   "source": [
    "boxit(data, 'grade', 'price')"
   ]
  },
  {
   "cell_type": "markdown",
   "metadata": {},
   "source": [
    "* There is a rising pattern in prices as the grade of properties go up; this can certainly be an indicator of a linear relationship between property grade and price. "
   ]
  },
  {
   "cell_type": "code",
   "execution_count": 20,
   "metadata": {
    "scrolled": false
   },
   "outputs": [
    {
     "data": {
      "image/png": "[encoded data removed]",
      "text/plain": [
       "<Figure size 432x288 with 1 Axes>"
      ]
     },
     "metadata": {
      "needs_background": "light"
     },
     "output_type": "display_data"
    }
   ],
   "source": [
    "# Since the majority of homes have not been renovated, replace nulls with\n",
    "# value 0 and change values to either 1 or 0. \n",
    "data.yr_renovated.fillna(value = 0, inplace = True)\n",
    "data.loc[(data.yr_renovated > 0), 'yr_renovated'] = 1\n",
    "boxit(data, 'yr_renovated', 'price')"
   ]
  },
  {
   "cell_type": "markdown",
   "metadata": {},
   "source": [
    "* Being renovated does not seem to have an outsize impact on price. "
   ]
  },
  {
   "cell_type": "code",
   "execution_count": 21,
   "metadata": {},
   "outputs": [],
   "source": [
    "# Taking a closer look at our target variable, sales price\n",
    "bins=[0,100000,300000,500000,900000,2000000,7000000]\n",
    "choices =['$0-$100k','$100k-$300k','$400k-$500k','$600k-$900k','$1mlln-$2mlln','$2mlln-$7mlln']\n",
    "data['price_range']=pd.cut(data['price'],bins=bins,labels=choices)"
   ]
  },
  {
   "cell_type": "code",
   "execution_count": 22,
   "metadata": {},
   "outputs": [
    {
     "data": {
      "text/html": [
       "<div>\n",
       "<style scoped>\n",
       "    .dataframe tbody tr th:only-of-type {\n",
       "        vertical-align: middle;\n",
       "    }\n",
       "\n",
       "    .dataframe tbody tr th {\n",
       "        vertical-align: top;\n",
       "    }\n",
       "\n",
       "    .dataframe thead th {\n",
       "        text-align: right;\n",
       "    }\n",
       "</style>\n",
       "<table border=\"1\" class=\"dataframe\">\n",
       "  <thead>\n",
       "    <tr style=\"text-align: right;\">\n",
       "      <th></th>\n",
       "      <th>id</th>\n",
       "      <th>date</th>\n",
       "      <th>price</th>\n",
       "      <th>bedrooms</th>\n",
       "      <th>bathrooms</th>\n",
       "      <th>sqft_living</th>\n",
       "      <th>sqft_lot</th>\n",
       "      <th>floors</th>\n",
       "      <th>waterfront</th>\n",
       "      <th>view</th>\n",
       "      <th>condition</th>\n",
       "      <th>grade</th>\n",
       "      <th>sqft_above</th>\n",
       "      <th>sqft_basement</th>\n",
       "      <th>yr_built</th>\n",
       "      <th>yr_renovated</th>\n",
       "      <th>zipcode</th>\n",
       "      <th>lat</th>\n",
       "      <th>long</th>\n",
       "      <th>sqft_living15</th>\n",
       "      <th>sqft_lot15</th>\n",
       "      <th>price_range</th>\n",
       "      <th>year_of_sale</th>\n",
       "    </tr>\n",
       "  </thead>\n",
       "  <tbody>\n",
       "    <tr>\n",
       "      <th>0</th>\n",
       "      <td>7129300520</td>\n",
       "      <td>2014-10-13</td>\n",
       "      <td>221,900.00</td>\n",
       "      <td>3</td>\n",
       "      <td>1.00</td>\n",
       "      <td>1180</td>\n",
       "      <td>5650</td>\n",
       "      <td>1.00</td>\n",
       "      <td>nan</td>\n",
       "      <td>0.00</td>\n",
       "      <td>3</td>\n",
       "      <td>7</td>\n",
       "      <td>1180</td>\n",
       "      <td>0.0</td>\n",
       "      <td>1955</td>\n",
       "      <td>0.00</td>\n",
       "      <td>98178</td>\n",
       "      <td>47.51</td>\n",
       "      <td>-122.26</td>\n",
       "      <td>1340</td>\n",
       "      <td>5650</td>\n",
       "      <td>$100k-$300k</td>\n",
       "      <td>2014</td>\n",
       "    </tr>\n",
       "    <tr>\n",
       "      <th>1</th>\n",
       "      <td>6414100192</td>\n",
       "      <td>2014-12-09</td>\n",
       "      <td>538,000.00</td>\n",
       "      <td>3</td>\n",
       "      <td>2.25</td>\n",
       "      <td>2570</td>\n",
       "      <td>7242</td>\n",
       "      <td>2.00</td>\n",
       "      <td>0.00</td>\n",
       "      <td>0.00</td>\n",
       "      <td>3</td>\n",
       "      <td>7</td>\n",
       "      <td>2170</td>\n",
       "      <td>400.0</td>\n",
       "      <td>1951</td>\n",
       "      <td>1.00</td>\n",
       "      <td>98125</td>\n",
       "      <td>47.72</td>\n",
       "      <td>-122.32</td>\n",
       "      <td>1690</td>\n",
       "      <td>7639</td>\n",
       "      <td>$600k-$900k</td>\n",
       "      <td>2014</td>\n",
       "    </tr>\n",
       "    <tr>\n",
       "      <th>2</th>\n",
       "      <td>5631500400</td>\n",
       "      <td>2015-02-25</td>\n",
       "      <td>180,000.00</td>\n",
       "      <td>2</td>\n",
       "      <td>1.00</td>\n",
       "      <td>770</td>\n",
       "      <td>10000</td>\n",
       "      <td>1.00</td>\n",
       "      <td>0.00</td>\n",
       "      <td>0.00</td>\n",
       "      <td>3</td>\n",
       "      <td>6</td>\n",
       "      <td>770</td>\n",
       "      <td>0.0</td>\n",
       "      <td>1933</td>\n",
       "      <td>0.00</td>\n",
       "      <td>98028</td>\n",
       "      <td>47.74</td>\n",
       "      <td>-122.23</td>\n",
       "      <td>2720</td>\n",
       "      <td>8062</td>\n",
       "      <td>$100k-$300k</td>\n",
       "      <td>2015</td>\n",
       "    </tr>\n",
       "    <tr>\n",
       "      <th>3</th>\n",
       "      <td>2487200875</td>\n",
       "      <td>2014-12-09</td>\n",
       "      <td>604,000.00</td>\n",
       "      <td>4</td>\n",
       "      <td>3.00</td>\n",
       "      <td>1960</td>\n",
       "      <td>5000</td>\n",
       "      <td>1.00</td>\n",
       "      <td>0.00</td>\n",
       "      <td>0.00</td>\n",
       "      <td>5</td>\n",
       "      <td>7</td>\n",
       "      <td>1050</td>\n",
       "      <td>910.0</td>\n",
       "      <td>1965</td>\n",
       "      <td>0.00</td>\n",
       "      <td>98136</td>\n",
       "      <td>47.52</td>\n",
       "      <td>-122.39</td>\n",
       "      <td>1360</td>\n",
       "      <td>5000</td>\n",
       "      <td>$600k-$900k</td>\n",
       "      <td>2014</td>\n",
       "    </tr>\n",
       "    <tr>\n",
       "      <th>4</th>\n",
       "      <td>1954400510</td>\n",
       "      <td>2015-02-18</td>\n",
       "      <td>510,000.00</td>\n",
       "      <td>3</td>\n",
       "      <td>2.00</td>\n",
       "      <td>1680</td>\n",
       "      <td>8080</td>\n",
       "      <td>1.00</td>\n",
       "      <td>0.00</td>\n",
       "      <td>0.00</td>\n",
       "      <td>3</td>\n",
       "      <td>8</td>\n",
       "      <td>1680</td>\n",
       "      <td>0.0</td>\n",
       "      <td>1987</td>\n",
       "      <td>0.00</td>\n",
       "      <td>98074</td>\n",
       "      <td>47.62</td>\n",
       "      <td>-122.05</td>\n",
       "      <td>1800</td>\n",
       "      <td>7503</td>\n",
       "      <td>$600k-$900k</td>\n",
       "      <td>2015</td>\n",
       "    </tr>\n",
       "  </tbody>\n",
       "</table>\n",
       "</div>"
      ],
      "text/plain": [
       "           id       date      price  bedrooms  bathrooms  sqft_living  \\\n",
       "0  7129300520 2014-10-13 221,900.00         3       1.00         1180   \n",
       "1  6414100192 2014-12-09 538,000.00         3       2.25         2570   \n",
       "2  5631500400 2015-02-25 180,000.00         2       1.00          770   \n",
       "3  2487200875 2014-12-09 604,000.00         4       3.00         1960   \n",
       "4  1954400510 2015-02-18 510,000.00         3       2.00         1680   \n",
       "\n",
       "   sqft_lot  floors  waterfront  view  condition  grade  sqft_above  \\\n",
       "0      5650    1.00         nan  0.00          3      7        1180   \n",
       "1      7242    2.00        0.00  0.00          3      7        2170   \n",
       "2     10000    1.00        0.00  0.00          3      6         770   \n",
       "3      5000    1.00        0.00  0.00          5      7        1050   \n",
       "4      8080    1.00        0.00  0.00          3      8        1680   \n",
       "\n",
       "  sqft_basement  yr_built  yr_renovated  zipcode   lat    long  sqft_living15  \\\n",
       "0           0.0      1955          0.00    98178 47.51 -122.26           1340   \n",
       "1         400.0      1951          1.00    98125 47.72 -122.32           1690   \n",
       "2           0.0      1933          0.00    98028 47.74 -122.23           2720   \n",
       "3         910.0      1965          0.00    98136 47.52 -122.39           1360   \n",
       "4           0.0      1987          0.00    98074 47.62 -122.05           1800   \n",
       "\n",
       "   sqft_lot15  price_range  year_of_sale  \n",
       "0        5650  $100k-$300k          2014  \n",
       "1        7639  $600k-$900k          2014  \n",
       "2        8062  $100k-$300k          2015  \n",
       "3        5000  $600k-$900k          2014  \n",
       "4        7503  $600k-$900k          2015  "
      ]
     },
     "execution_count": 22,
     "metadata": {},
     "output_type": "execute_result"
    }
   ],
   "source": [
    "#Convert \"date\" column into datetime format\n",
    "data['date']= pd.to_datetime(data['date'])\n",
    "# Grab year from date column\n",
    "data['year_of_sale'] = pd.DatetimeIndex(data['date']).year\n",
    "data.head()"
   ]
  },
  {
   "cell_type": "code",
   "execution_count": 23,
   "metadata": {},
   "outputs": [
    {
     "data": {
      "text/plain": [
       "2014    14622\n",
       "2015     6975\n",
       "Name: year_of_sale, dtype: int64"
      ]
     },
     "execution_count": 23,
     "metadata": {},
     "output_type": "execute_result"
    }
   ],
   "source": [
    "data['year_of_sale'].value_counts()"
   ]
  },
  {
   "cell_type": "code",
   "execution_count": 24,
   "metadata": {
    "scrolled": false
   },
   "outputs": [
    {
     "data": {
      "image/png": "[encoded data removed]",
      "text/plain": [
       "<Figure size 576x324 with 1 Axes>"
      ]
     },
     "metadata": {
      "needs_background": "light"
     },
     "output_type": "display_data"
    }
   ],
   "source": [
    "plt.rcParams[\"figure.figsize\"] = [8,4.5]\n",
    "ax = data.groupby(['year_of_sale','price_range']).size().unstack().plot.bar(stacked=True, color=['mediumblue','mediumturquoise','cornflowerblue','deepskyblue','royalblue','dodgerblue'])\n",
    "horiz_offset = 1\n",
    "vert_offset = 1\n",
    "ax.set_xlabel('Years')\n",
    "ax.set_ylabel('Number of Sales')\n",
    "ax.legend(bbox_to_anchor=(1.1, 1.05));"
   ]
  },
  {
   "cell_type": "markdown",
   "metadata": {},
   "source": [
    "* The supply of homes (i.e. number of sales) decreased by almost half from 2014 to 2015 \n",
    "* The the proportion of homes sold within each price range has remained relatively constant from year to year despite the decrease in total overall sales; this stability is helpful for teasing out strong features for the particularly high-value homes. "
   ]
  },
  {
   "cell_type": "code",
   "execution_count": 25,
   "metadata": {},
   "outputs": [],
   "source": [
    "def conv(year):\n",
    "  return data[data['year_of_sale']==year].groupby('price_range').size()\n",
    "perc_total = [x/sum(x)*100 for x in [conv(2014),conv(2015)]]\n",
    "year_names = list(range(2014,2016))\n",
    "housing_df = pd.DataFrame(perc_total, index= year_names)"
   ]
  },
  {
   "cell_type": "markdown",
   "metadata": {},
   "source": [
    "Function courtesy of [Emmanuel Sibanda](https://hackernoon.com/predicting-the-price-of-houses-in-brooklyn-using-python-1abd7997083b)"
   ]
  },
  {
   "cell_type": "code",
   "execution_count": 26,
   "metadata": {
    "scrolled": true
   },
   "outputs": [
    {
     "data": {
      "image/png": "[encoded data removed]",
      "text/plain": [
       "<Figure size 576x324 with 1 Axes>"
      ]
     },
     "metadata": {
      "needs_background": "light"
     },
     "output_type": "display_data"
    }
   ],
   "source": [
    "plt.rcParams[\"figure.figsize\"] = [8,4.5]\n",
    "ax_two = housing_df.plot(kind='barh', stacked=True, color=['mediumblue','mediumturquoise','cornflowerblue','deepskyblue','royalblue','dodgerblue'], width=0.8)\n",
    "horiz_offset = 1\n",
    "vert_offset = 1\n",
    "ax_two.set_xlabel('Percentages')\n",
    "ax_two.set_ylabel('Years')\n",
    "ax_two.legend(bbox_to_anchor=(1.0, 1.05));"
   ]
  },
  {
   "cell_type": "markdown",
   "metadata": {},
   "source": [
    "* Most homes sold are within the $400,000 - $500,000 range, with a sizeable chunk in the $600,000-$900,000 range "
   ]
  },
  {
   "cell_type": "markdown",
   "metadata": {},
   "source": [
    "# 3. Data Cleaning"
   ]
  },
  {
   "cell_type": "code",
   "execution_count": 27,
   "metadata": {
    "scrolled": true
   },
   "outputs": [
    {
     "data": {
      "text/html": [
       "<div>\n",
       "<style scoped>\n",
       "    .dataframe tbody tr th:only-of-type {\n",
       "        vertical-align: middle;\n",
       "    }\n",
       "\n",
       "    .dataframe tbody tr th {\n",
       "        vertical-align: top;\n",
       "    }\n",
       "\n",
       "    .dataframe thead th {\n",
       "        text-align: right;\n",
       "    }\n",
       "</style>\n",
       "<table border=\"1\" class=\"dataframe\">\n",
       "  <thead>\n",
       "    <tr style=\"text-align: right;\">\n",
       "      <th></th>\n",
       "      <th>id</th>\n",
       "      <th>date</th>\n",
       "      <th>price</th>\n",
       "      <th>bedrooms</th>\n",
       "      <th>bathrooms</th>\n",
       "      <th>sqft_living</th>\n",
       "      <th>sqft_lot</th>\n",
       "      <th>floors</th>\n",
       "      <th>waterfront</th>\n",
       "      <th>view</th>\n",
       "      <th>condition</th>\n",
       "      <th>grade</th>\n",
       "      <th>sqft_above</th>\n",
       "      <th>sqft_basement</th>\n",
       "      <th>yr_built</th>\n",
       "      <th>yr_renovated</th>\n",
       "      <th>zipcode</th>\n",
       "      <th>lat</th>\n",
       "      <th>long</th>\n",
       "      <th>sqft_living15</th>\n",
       "      <th>sqft_lot15</th>\n",
       "      <th>price_range</th>\n",
       "      <th>year_of_sale</th>\n",
       "    </tr>\n",
       "  </thead>\n",
       "  <tbody>\n",
       "    <tr>\n",
       "      <th>0</th>\n",
       "      <td>7129300520</td>\n",
       "      <td>2014-10-13</td>\n",
       "      <td>221,900.00</td>\n",
       "      <td>3</td>\n",
       "      <td>1.00</td>\n",
       "      <td>1180</td>\n",
       "      <td>5650</td>\n",
       "      <td>1.00</td>\n",
       "      <td>nan</td>\n",
       "      <td>0.00</td>\n",
       "      <td>3</td>\n",
       "      <td>7</td>\n",
       "      <td>1180</td>\n",
       "      <td>0.0</td>\n",
       "      <td>1955</td>\n",
       "      <td>0.00</td>\n",
       "      <td>98178</td>\n",
       "      <td>47.51</td>\n",
       "      <td>-122.26</td>\n",
       "      <td>1340</td>\n",
       "      <td>5650</td>\n",
       "      <td>$100k-$300k</td>\n",
       "      <td>2014</td>\n",
       "    </tr>\n",
       "    <tr>\n",
       "      <th>1</th>\n",
       "      <td>6414100192</td>\n",
       "      <td>2014-12-09</td>\n",
       "      <td>538,000.00</td>\n",
       "      <td>3</td>\n",
       "      <td>2.25</td>\n",
       "      <td>2570</td>\n",
       "      <td>7242</td>\n",
       "      <td>2.00</td>\n",
       "      <td>0.00</td>\n",
       "      <td>0.00</td>\n",
       "      <td>3</td>\n",
       "      <td>7</td>\n",
       "      <td>2170</td>\n",
       "      <td>400.0</td>\n",
       "      <td>1951</td>\n",
       "      <td>1.00</td>\n",
       "      <td>98125</td>\n",
       "      <td>47.72</td>\n",
       "      <td>-122.32</td>\n",
       "      <td>1690</td>\n",
       "      <td>7639</td>\n",
       "      <td>$600k-$900k</td>\n",
       "      <td>2014</td>\n",
       "    </tr>\n",
       "    <tr>\n",
       "      <th>2</th>\n",
       "      <td>5631500400</td>\n",
       "      <td>2015-02-25</td>\n",
       "      <td>180,000.00</td>\n",
       "      <td>2</td>\n",
       "      <td>1.00</td>\n",
       "      <td>770</td>\n",
       "      <td>10000</td>\n",
       "      <td>1.00</td>\n",
       "      <td>0.00</td>\n",
       "      <td>0.00</td>\n",
       "      <td>3</td>\n",
       "      <td>6</td>\n",
       "      <td>770</td>\n",
       "      <td>0.0</td>\n",
       "      <td>1933</td>\n",
       "      <td>0.00</td>\n",
       "      <td>98028</td>\n",
       "      <td>47.74</td>\n",
       "      <td>-122.23</td>\n",
       "      <td>2720</td>\n",
       "      <td>8062</td>\n",
       "      <td>$100k-$300k</td>\n",
       "      <td>2015</td>\n",
       "    </tr>\n",
       "    <tr>\n",
       "      <th>3</th>\n",
       "      <td>2487200875</td>\n",
       "      <td>2014-12-09</td>\n",
       "      <td>604,000.00</td>\n",
       "      <td>4</td>\n",
       "      <td>3.00</td>\n",
       "      <td>1960</td>\n",
       "      <td>5000</td>\n",
       "      <td>1.00</td>\n",
       "      <td>0.00</td>\n",
       "      <td>0.00</td>\n",
       "      <td>5</td>\n",
       "      <td>7</td>\n",
       "      <td>1050</td>\n",
       "      <td>910.0</td>\n",
       "      <td>1965</td>\n",
       "      <td>0.00</td>\n",
       "      <td>98136</td>\n",
       "      <td>47.52</td>\n",
       "      <td>-122.39</td>\n",
       "      <td>1360</td>\n",
       "      <td>5000</td>\n",
       "      <td>$600k-$900k</td>\n",
       "      <td>2014</td>\n",
       "    </tr>\n",
       "    <tr>\n",
       "      <th>4</th>\n",
       "      <td>1954400510</td>\n",
       "      <td>2015-02-18</td>\n",
       "      <td>510,000.00</td>\n",
       "      <td>3</td>\n",
       "      <td>2.00</td>\n",
       "      <td>1680</td>\n",
       "      <td>8080</td>\n",
       "      <td>1.00</td>\n",
       "      <td>0.00</td>\n",
       "      <td>0.00</td>\n",
       "      <td>3</td>\n",
       "      <td>8</td>\n",
       "      <td>1680</td>\n",
       "      <td>0.0</td>\n",
       "      <td>1987</td>\n",
       "      <td>0.00</td>\n",
       "      <td>98074</td>\n",
       "      <td>47.62</td>\n",
       "      <td>-122.05</td>\n",
       "      <td>1800</td>\n",
       "      <td>7503</td>\n",
       "      <td>$600k-$900k</td>\n",
       "      <td>2015</td>\n",
       "    </tr>\n",
       "  </tbody>\n",
       "</table>\n",
       "</div>"
      ],
      "text/plain": [
       "           id       date      price  bedrooms  bathrooms  sqft_living  \\\n",
       "0  7129300520 2014-10-13 221,900.00         3       1.00         1180   \n",
       "1  6414100192 2014-12-09 538,000.00         3       2.25         2570   \n",
       "2  5631500400 2015-02-25 180,000.00         2       1.00          770   \n",
       "3  2487200875 2014-12-09 604,000.00         4       3.00         1960   \n",
       "4  1954400510 2015-02-18 510,000.00         3       2.00         1680   \n",
       "\n",
       "   sqft_lot  floors  waterfront  view  condition  grade  sqft_above  \\\n",
       "0      5650    1.00         nan  0.00          3      7        1180   \n",
       "1      7242    2.00        0.00  0.00          3      7        2170   \n",
       "2     10000    1.00        0.00  0.00          3      6         770   \n",
       "3      5000    1.00        0.00  0.00          5      7        1050   \n",
       "4      8080    1.00        0.00  0.00          3      8        1680   \n",
       "\n",
       "  sqft_basement  yr_built  yr_renovated  zipcode   lat    long  sqft_living15  \\\n",
       "0           0.0      1955          0.00    98178 47.51 -122.26           1340   \n",
       "1         400.0      1951          1.00    98125 47.72 -122.32           1690   \n",
       "2           0.0      1933          0.00    98028 47.74 -122.23           2720   \n",
       "3         910.0      1965          0.00    98136 47.52 -122.39           1360   \n",
       "4           0.0      1987          0.00    98074 47.62 -122.05           1800   \n",
       "\n",
       "   sqft_lot15  price_range  year_of_sale  \n",
       "0        5650  $100k-$300k          2014  \n",
       "1        7639  $600k-$900k          2014  \n",
       "2        8062  $100k-$300k          2015  \n",
       "3        5000  $600k-$900k          2014  \n",
       "4        7503  $600k-$900k          2015  "
      ]
     },
     "execution_count": 27,
     "metadata": {},
     "output_type": "execute_result"
    }
   ],
   "source": [
    "data.head()"
   ]
  },
  {
   "cell_type": "code",
   "execution_count": 28,
   "metadata": {},
   "outputs": [],
   "source": [
    "# Dropping some columns that look less promising\n",
    "# df.drop(['B', 'C'], axis=1, inplace=True) <-- to make the change the df itself , use inplace=True\n",
    "to_drop = ['id', 'date', 'view', 'sqft_above', 'lat', 'long', 'sqft_lot15', 'sqft_basement', 'waterfront','yr_renovated', 'price_range', 'year_of_sale']"
   ]
  },
  {
   "cell_type": "code",
   "execution_count": 29,
   "metadata": {
    "scrolled": true
   },
   "outputs": [],
   "source": [
    "data.drop(to_drop, axis = 1, inplace = True)"
   ]
  },
  {
   "cell_type": "code",
   "execution_count": 30,
   "metadata": {},
   "outputs": [
    {
     "data": {
      "text/plain": [
       "(21597, 11)"
      ]
     },
     "execution_count": 30,
     "metadata": {},
     "output_type": "execute_result"
    }
   ],
   "source": [
    "data.shape"
   ]
  },
  {
   "cell_type": "code",
   "execution_count": 31,
   "metadata": {},
   "outputs": [],
   "source": [
    "# Drop one really obvious outlier that was clearly a data entry error\n",
    "mask = data.loc[data['bedrooms']>20].index\n",
    "data.drop(mask, axis = 0, inplace=True)"
   ]
  },
  {
   "cell_type": "code",
   "execution_count": 32,
   "metadata": {},
   "outputs": [
    {
     "data": {
      "text/plain": [
       "(21596, 11)"
      ]
     },
     "execution_count": 32,
     "metadata": {},
     "output_type": "execute_result"
    }
   ],
   "source": [
    "data.shape"
   ]
  },
  {
   "cell_type": "code",
   "execution_count": 33,
   "metadata": {
    "scrolled": true
   },
   "outputs": [
    {
     "data": {
      "image/png": "[encoded data removed]",
      "text/plain": [
       "<Figure size 720x576 with 2 Axes>"
      ]
     },
     "metadata": {
      "needs_background": "light"
     },
     "output_type": "display_data"
    }
   ],
   "source": [
    "plt.figure(figsize=(10,8))\n",
    "sns.heatmap(data.corr().abs(), annot=True)\n",
    "plt.show()"
   ]
  },
  {
   "cell_type": "code",
   "execution_count": 34,
   "metadata": {},
   "outputs": [],
   "source": [
    "#sns.pairplot(data)"
   ]
  },
  {
   "cell_type": "markdown",
   "metadata": {},
   "source": [
    "# 3. Split Data into Training and Test Sets"
   ]
  },
  {
   "cell_type": "code",
   "execution_count": 35,
   "metadata": {},
   "outputs": [],
   "source": [
    "# divide dataset into X predictors and y target\n",
    "X = data.drop(['price'], axis=1)\n",
    "y = data[['price']]\n",
    "\n",
    "# split data 80% training and 20% test w/ random state for reproducability\n",
    "X_train, X_test, y_train, y_test = train_test_split(\n",
    "    X, y, test_size=0.2, random_state=42)"
   ]
  },
  {
   "cell_type": "code",
   "execution_count": 36,
   "metadata": {
    "scrolled": true
   },
   "outputs": [
    {
     "data": {
      "text/plain": [
       "True"
      ]
     },
     "execution_count": 36,
     "metadata": {},
     "output_type": "execute_result"
    }
   ],
   "source": [
    "len(X_test) + len(X_train) == len(X)"
   ]
  },
  {
   "cell_type": "code",
   "execution_count": 37,
   "metadata": {
    "scrolled": true
   },
   "outputs": [
    {
     "data": {
      "text/plain": [
       "(17276, 10)"
      ]
     },
     "execution_count": 37,
     "metadata": {},
     "output_type": "execute_result"
    }
   ],
   "source": [
    "X_train.shape"
   ]
  },
  {
   "cell_type": "code",
   "execution_count": 38,
   "metadata": {},
   "outputs": [
    {
     "data": {
      "text/plain": [
       "(4320, 10)"
      ]
     },
     "execution_count": 38,
     "metadata": {},
     "output_type": "execute_result"
    }
   ],
   "source": [
    "X_test.shape"
   ]
  },
  {
   "cell_type": "code",
   "execution_count": 39,
   "metadata": {},
   "outputs": [],
   "source": [
    "# Instantiate a scaler\n",
    "from sklearn.preprocessing import StandardScaler"
   ]
  },
  {
   "cell_type": "code",
   "execution_count": 40,
   "metadata": {},
   "outputs": [],
   "source": [
    "scaler = StandardScaler()"
   ]
  },
  {
   "cell_type": "code",
   "execution_count": 41,
   "metadata": {},
   "outputs": [],
   "source": [
    "# Train our scaler on training data, then fit to testing\n",
    "X_train_scaled = scaler.fit_transform(X_train)\n",
    "X_test_scaled = scaler.transform(X_test)"
   ]
  },
  {
   "cell_type": "markdown",
   "metadata": {},
   "source": [
    "# 4. First Substandard Model"
   ]
  },
  {
   "cell_type": "code",
   "execution_count": 42,
   "metadata": {},
   "outputs": [],
   "source": [
    "# Instantiate a linear regression model\n",
    "lr = LinearRegression()"
   ]
  },
  {
   "cell_type": "code",
   "execution_count": 43,
   "metadata": {},
   "outputs": [
    {
     "data": {
      "text/plain": [
       "LinearRegression()"
      ]
     },
     "execution_count": 43,
     "metadata": {},
     "output_type": "execute_result"
    }
   ],
   "source": [
    "# Fit our model on our scaled data\n",
    "lr.fit(X_train_scaled, y_train)"
   ]
  },
  {
   "cell_type": "code",
   "execution_count": 44,
   "metadata": {},
   "outputs": [],
   "source": [
    "from sklearn.metrics import r2_score, mean_absolute_error"
   ]
  },
  {
   "cell_type": "code",
   "execution_count": 45,
   "metadata": {
    "scrolled": true
   },
   "outputs": [
    {
     "name": "stdout",
     "output_type": "stream",
     "text": [
      "Training Scores:\n",
      "R2: 0.6237661706892493\n",
      "Mean Absolute Error: 144945.57636353228\n",
      "---\n",
      "Testing Scores:\n",
      "R2: 0.6052645946329722\n",
      "Mean Absolute Error: 145254.48398036984\n"
     ]
    }
   ],
   "source": [
    "# Evaluate\n",
    "y_train_pred = lr.predict(X_train_scaled)\n",
    "y_test_pred = lr.predict(X_test_scaled)\n",
    "\n",
    "print(\"Training Scores:\")\n",
    "print(f\"R2: {r2_score(y_train, y_train_pred)}\")\n",
    "print(f\"Mean Absolute Error: {mean_absolute_error(y_train, y_train_pred)}\")\n",
    "print(\"---\")\n",
    "print(\"Testing Scores:\")\n",
    "print(f\"R2: {r2_score(y_test, y_test_pred)}\")\n",
    "print(f\"Mean Absolute Error: {mean_absolute_error(y_test, y_test_pred)}\")"
   ]
  },
  {
   "cell_type": "markdown",
   "metadata": {},
   "source": [
    "* Fine, but not great\n",
    "* Training higher than testing, which is an indication of underfitting \n",
    "* MAE = $145,254 indicates average error in predicting a home price, which is almost 2x more than the minimum in the dataset"
   ]
  },
  {
   "cell_type": "markdown",
   "metadata": {},
   "source": [
    "# 5. Model 1 (Zip Code Engineering)"
   ]
  },
  {
   "cell_type": "markdown",
   "metadata": {},
   "source": [
    "To engineer a location feature, I chose to use the median price for each individual zip code. Zip code is a categorical feature, which is oftentimes dealt with through one-hot encoding. However, given the many unique zip codes present in the dataset (70), I was concerned that adding 70 additional variables to my dataset would increase the dimensionality to a point that decreases the reliability of the model. \n",
    "\n",
    "Therefore, using the median price for each zip code seemed like an appropriate proxy and could be a reasonably good predictor of future home prices for that area. "
   ]
  },
  {
   "cell_type": "code",
   "execution_count": 46,
   "metadata": {},
   "outputs": [],
   "source": [
    "traindf = X_train.copy()"
   ]
  },
  {
   "cell_type": "code",
   "execution_count": 47,
   "metadata": {},
   "outputs": [
    {
     "data": {
      "text/html": [
       "<div>\n",
       "<style scoped>\n",
       "    .dataframe tbody tr th:only-of-type {\n",
       "        vertical-align: middle;\n",
       "    }\n",
       "\n",
       "    .dataframe tbody tr th {\n",
       "        vertical-align: top;\n",
       "    }\n",
       "\n",
       "    .dataframe thead th {\n",
       "        text-align: right;\n",
       "    }\n",
       "</style>\n",
       "<table border=\"1\" class=\"dataframe\">\n",
       "  <thead>\n",
       "    <tr style=\"text-align: right;\">\n",
       "      <th></th>\n",
       "      <th>bedrooms</th>\n",
       "      <th>bathrooms</th>\n",
       "      <th>sqft_living</th>\n",
       "      <th>sqft_lot</th>\n",
       "      <th>floors</th>\n",
       "      <th>condition</th>\n",
       "      <th>grade</th>\n",
       "      <th>yr_built</th>\n",
       "      <th>zipcode</th>\n",
       "      <th>sqft_living15</th>\n",
       "    </tr>\n",
       "  </thead>\n",
       "  <tbody>\n",
       "    <tr>\n",
       "      <th>6243</th>\n",
       "      <td>4</td>\n",
       "      <td>2.00</td>\n",
       "      <td>1440</td>\n",
       "      <td>4855</td>\n",
       "      <td>2.00</td>\n",
       "      <td>4</td>\n",
       "      <td>7</td>\n",
       "      <td>1972</td>\n",
       "      <td>98144</td>\n",
       "      <td>1300</td>\n",
       "    </tr>\n",
       "    <tr>\n",
       "      <th>8986</th>\n",
       "      <td>3</td>\n",
       "      <td>1.75</td>\n",
       "      <td>1430</td>\n",
       "      <td>9857</td>\n",
       "      <td>1.00</td>\n",
       "      <td>4</td>\n",
       "      <td>7</td>\n",
       "      <td>1980</td>\n",
       "      <td>98045</td>\n",
       "      <td>1310</td>\n",
       "    </tr>\n",
       "    <tr>\n",
       "      <th>9419</th>\n",
       "      <td>4</td>\n",
       "      <td>2.75</td>\n",
       "      <td>3120</td>\n",
       "      <td>5000</td>\n",
       "      <td>2.00</td>\n",
       "      <td>3</td>\n",
       "      <td>9</td>\n",
       "      <td>2010</td>\n",
       "      <td>98074</td>\n",
       "      <td>3200</td>\n",
       "    </tr>\n",
       "    <tr>\n",
       "      <th>10155</th>\n",
       "      <td>4</td>\n",
       "      <td>2.50</td>\n",
       "      <td>2060</td>\n",
       "      <td>6958</td>\n",
       "      <td>1.00</td>\n",
       "      <td>3</td>\n",
       "      <td>7</td>\n",
       "      <td>1974</td>\n",
       "      <td>98034</td>\n",
       "      <td>1760</td>\n",
       "    </tr>\n",
       "    <tr>\n",
       "      <th>10436</th>\n",
       "      <td>3</td>\n",
       "      <td>2.00</td>\n",
       "      <td>2500</td>\n",
       "      <td>4080</td>\n",
       "      <td>1.50</td>\n",
       "      <td>5</td>\n",
       "      <td>7</td>\n",
       "      <td>1922</td>\n",
       "      <td>98103</td>\n",
       "      <td>1550</td>\n",
       "    </tr>\n",
       "  </tbody>\n",
       "</table>\n",
       "</div>"
      ],
      "text/plain": [
       "       bedrooms  bathrooms  sqft_living  sqft_lot  floors  condition  grade  \\\n",
       "6243          4       2.00         1440      4855    2.00          4      7   \n",
       "8986          3       1.75         1430      9857    1.00          4      7   \n",
       "9419          4       2.75         3120      5000    2.00          3      9   \n",
       "10155         4       2.50         2060      6958    1.00          3      7   \n",
       "10436         3       2.00         2500      4080    1.50          5      7   \n",
       "\n",
       "       yr_built  zipcode  sqft_living15  \n",
       "6243       1972    98144           1300  \n",
       "8986       1980    98045           1310  \n",
       "9419       2010    98074           3200  \n",
       "10155      1974    98034           1760  \n",
       "10436      1922    98103           1550  "
      ]
     },
     "execution_count": 47,
     "metadata": {},
     "output_type": "execute_result"
    }
   ],
   "source": [
    "traindf.head()"
   ]
  },
  {
   "cell_type": "code",
   "execution_count": 48,
   "metadata": {},
   "outputs": [
    {
     "data": {
      "text/html": [
       "<div>\n",
       "<style scoped>\n",
       "    .dataframe tbody tr th:only-of-type {\n",
       "        vertical-align: middle;\n",
       "    }\n",
       "\n",
       "    .dataframe tbody tr th {\n",
       "        vertical-align: top;\n",
       "    }\n",
       "\n",
       "    .dataframe thead th {\n",
       "        text-align: right;\n",
       "    }\n",
       "</style>\n",
       "<table border=\"1\" class=\"dataframe\">\n",
       "  <thead>\n",
       "    <tr style=\"text-align: right;\">\n",
       "      <th></th>\n",
       "      <th>bedrooms</th>\n",
       "      <th>bathrooms</th>\n",
       "      <th>sqft_living</th>\n",
       "      <th>sqft_lot</th>\n",
       "      <th>floors</th>\n",
       "      <th>condition</th>\n",
       "      <th>grade</th>\n",
       "      <th>yr_built</th>\n",
       "      <th>zipcode</th>\n",
       "      <th>sqft_living15</th>\n",
       "      <th>price</th>\n",
       "    </tr>\n",
       "  </thead>\n",
       "  <tbody>\n",
       "    <tr>\n",
       "      <th>6243</th>\n",
       "      <td>4</td>\n",
       "      <td>2.00</td>\n",
       "      <td>1440</td>\n",
       "      <td>4855</td>\n",
       "      <td>2.00</td>\n",
       "      <td>4</td>\n",
       "      <td>7</td>\n",
       "      <td>1972</td>\n",
       "      <td>98144</td>\n",
       "      <td>1300</td>\n",
       "      <td>332,500.00</td>\n",
       "    </tr>\n",
       "    <tr>\n",
       "      <th>8986</th>\n",
       "      <td>3</td>\n",
       "      <td>1.75</td>\n",
       "      <td>1430</td>\n",
       "      <td>9857</td>\n",
       "      <td>1.00</td>\n",
       "      <td>4</td>\n",
       "      <td>7</td>\n",
       "      <td>1980</td>\n",
       "      <td>98045</td>\n",
       "      <td>1310</td>\n",
       "      <td>390,000.00</td>\n",
       "    </tr>\n",
       "    <tr>\n",
       "      <th>9419</th>\n",
       "      <td>4</td>\n",
       "      <td>2.75</td>\n",
       "      <td>3120</td>\n",
       "      <td>5000</td>\n",
       "      <td>2.00</td>\n",
       "      <td>3</td>\n",
       "      <td>9</td>\n",
       "      <td>2010</td>\n",
       "      <td>98074</td>\n",
       "      <td>3200</td>\n",
       "      <td>800,000.00</td>\n",
       "    </tr>\n",
       "    <tr>\n",
       "      <th>10155</th>\n",
       "      <td>4</td>\n",
       "      <td>2.50</td>\n",
       "      <td>2060</td>\n",
       "      <td>6958</td>\n",
       "      <td>1.00</td>\n",
       "      <td>3</td>\n",
       "      <td>7</td>\n",
       "      <td>1974</td>\n",
       "      <td>98034</td>\n",
       "      <td>1760</td>\n",
       "      <td>462,000.00</td>\n",
       "    </tr>\n",
       "    <tr>\n",
       "      <th>10436</th>\n",
       "      <td>3</td>\n",
       "      <td>2.00</td>\n",
       "      <td>2500</td>\n",
       "      <td>4080</td>\n",
       "      <td>1.50</td>\n",
       "      <td>5</td>\n",
       "      <td>7</td>\n",
       "      <td>1922</td>\n",
       "      <td>98103</td>\n",
       "      <td>1550</td>\n",
       "      <td>695,000.00</td>\n",
       "    </tr>\n",
       "  </tbody>\n",
       "</table>\n",
       "</div>"
      ],
      "text/plain": [
       "       bedrooms  bathrooms  sqft_living  sqft_lot  floors  condition  grade  \\\n",
       "6243          4       2.00         1440      4855    2.00          4      7   \n",
       "8986          3       1.75         1430      9857    1.00          4      7   \n",
       "9419          4       2.75         3120      5000    2.00          3      9   \n",
       "10155         4       2.50         2060      6958    1.00          3      7   \n",
       "10436         3       2.00         2500      4080    1.50          5      7   \n",
       "\n",
       "       yr_built  zipcode  sqft_living15      price  \n",
       "6243       1972    98144           1300 332,500.00  \n",
       "8986       1980    98045           1310 390,000.00  \n",
       "9419       2010    98074           3200 800,000.00  \n",
       "10155      1974    98034           1760 462,000.00  \n",
       "10436      1922    98103           1550 695,000.00  "
      ]
     },
     "execution_count": 48,
     "metadata": {},
     "output_type": "execute_result"
    }
   ],
   "source": [
    "traindf['price'] = y_train\n",
    "traindf.head()"
   ]
  },
  {
   "cell_type": "code",
   "execution_count": 49,
   "metadata": {},
   "outputs": [
    {
     "data": {
      "text/plain": [
       "(17276, 11)"
      ]
     },
     "execution_count": 49,
     "metadata": {},
     "output_type": "execute_result"
    }
   ],
   "source": [
    "traindf.shape"
   ]
  },
  {
   "cell_type": "code",
   "execution_count": 50,
   "metadata": {
    "scrolled": true
   },
   "outputs": [
    {
     "data": {
      "text/html": [
       "<div>\n",
       "<style scoped>\n",
       "    .dataframe tbody tr th:only-of-type {\n",
       "        vertical-align: middle;\n",
       "    }\n",
       "\n",
       "    .dataframe tbody tr th {\n",
       "        vertical-align: top;\n",
       "    }\n",
       "\n",
       "    .dataframe thead th {\n",
       "        text-align: right;\n",
       "    }\n",
       "</style>\n",
       "<table border=\"1\" class=\"dataframe\">\n",
       "  <thead>\n",
       "    <tr style=\"text-align: right;\">\n",
       "      <th></th>\n",
       "      <th>bedrooms</th>\n",
       "      <th>bathrooms</th>\n",
       "      <th>sqft_living</th>\n",
       "      <th>sqft_lot</th>\n",
       "      <th>floors</th>\n",
       "      <th>condition</th>\n",
       "      <th>grade</th>\n",
       "      <th>yr_built</th>\n",
       "      <th>zipcode</th>\n",
       "      <th>sqft_living15</th>\n",
       "      <th>price</th>\n",
       "    </tr>\n",
       "  </thead>\n",
       "  <tbody>\n",
       "    <tr>\n",
       "      <th>6243</th>\n",
       "      <td>4</td>\n",
       "      <td>2.00</td>\n",
       "      <td>1440</td>\n",
       "      <td>4855</td>\n",
       "      <td>2.00</td>\n",
       "      <td>4</td>\n",
       "      <td>7</td>\n",
       "      <td>1972</td>\n",
       "      <td>98144</td>\n",
       "      <td>1300</td>\n",
       "      <td>332,500.00</td>\n",
       "    </tr>\n",
       "    <tr>\n",
       "      <th>8986</th>\n",
       "      <td>3</td>\n",
       "      <td>1.75</td>\n",
       "      <td>1430</td>\n",
       "      <td>9857</td>\n",
       "      <td>1.00</td>\n",
       "      <td>4</td>\n",
       "      <td>7</td>\n",
       "      <td>1980</td>\n",
       "      <td>98045</td>\n",
       "      <td>1310</td>\n",
       "      <td>390,000.00</td>\n",
       "    </tr>\n",
       "    <tr>\n",
       "      <th>9419</th>\n",
       "      <td>4</td>\n",
       "      <td>2.75</td>\n",
       "      <td>3120</td>\n",
       "      <td>5000</td>\n",
       "      <td>2.00</td>\n",
       "      <td>3</td>\n",
       "      <td>9</td>\n",
       "      <td>2010</td>\n",
       "      <td>98074</td>\n",
       "      <td>3200</td>\n",
       "      <td>800,000.00</td>\n",
       "    </tr>\n",
       "    <tr>\n",
       "      <th>10155</th>\n",
       "      <td>4</td>\n",
       "      <td>2.50</td>\n",
       "      <td>2060</td>\n",
       "      <td>6958</td>\n",
       "      <td>1.00</td>\n",
       "      <td>3</td>\n",
       "      <td>7</td>\n",
       "      <td>1974</td>\n",
       "      <td>98034</td>\n",
       "      <td>1760</td>\n",
       "      <td>462,000.00</td>\n",
       "    </tr>\n",
       "    <tr>\n",
       "      <th>10436</th>\n",
       "      <td>3</td>\n",
       "      <td>2.00</td>\n",
       "      <td>2500</td>\n",
       "      <td>4080</td>\n",
       "      <td>1.50</td>\n",
       "      <td>5</td>\n",
       "      <td>7</td>\n",
       "      <td>1922</td>\n",
       "      <td>98103</td>\n",
       "      <td>1550</td>\n",
       "      <td>695,000.00</td>\n",
       "    </tr>\n",
       "  </tbody>\n",
       "</table>\n",
       "</div>"
      ],
      "text/plain": [
       "       bedrooms  bathrooms  sqft_living  sqft_lot  floors  condition  grade  \\\n",
       "6243          4       2.00         1440      4855    2.00          4      7   \n",
       "8986          3       1.75         1430      9857    1.00          4      7   \n",
       "9419          4       2.75         3120      5000    2.00          3      9   \n",
       "10155         4       2.50         2060      6958    1.00          3      7   \n",
       "10436         3       2.00         2500      4080    1.50          5      7   \n",
       "\n",
       "       yr_built  zipcode  sqft_living15      price  \n",
       "6243       1972    98144           1300 332,500.00  \n",
       "8986       1980    98045           1310 390,000.00  \n",
       "9419       2010    98074           3200 800,000.00  \n",
       "10155      1974    98034           1760 462,000.00  \n",
       "10436      1922    98103           1550 695,000.00  "
      ]
     },
     "execution_count": 50,
     "metadata": {},
     "output_type": "execute_result"
    }
   ],
   "source": [
    "traindf.head()"
   ]
  },
  {
   "cell_type": "code",
   "execution_count": 51,
   "metadata": {},
   "outputs": [],
   "source": [
    "testdf = X_test.copy()"
   ]
  },
  {
   "cell_type": "code",
   "execution_count": 52,
   "metadata": {},
   "outputs": [],
   "source": [
    "testdf['price'] = y_test"
   ]
  },
  {
   "cell_type": "code",
   "execution_count": 53,
   "metadata": {},
   "outputs": [
    {
     "data": {
      "text/plain": [
       "(4320, 11)"
      ]
     },
     "execution_count": 53,
     "metadata": {},
     "output_type": "execute_result"
    }
   ],
   "source": [
    "testdf.shape"
   ]
  },
  {
   "cell_type": "code",
   "execution_count": 54,
   "metadata": {},
   "outputs": [
    {
     "data": {
      "text/html": [
       "<div>\n",
       "<style scoped>\n",
       "    .dataframe tbody tr th:only-of-type {\n",
       "        vertical-align: middle;\n",
       "    }\n",
       "\n",
       "    .dataframe tbody tr th {\n",
       "        vertical-align: top;\n",
       "    }\n",
       "\n",
       "    .dataframe thead th {\n",
       "        text-align: right;\n",
       "    }\n",
       "</style>\n",
       "<table border=\"1\" class=\"dataframe\">\n",
       "  <thead>\n",
       "    <tr style=\"text-align: right;\">\n",
       "      <th></th>\n",
       "      <th>bedrooms</th>\n",
       "      <th>bathrooms</th>\n",
       "      <th>sqft_living</th>\n",
       "      <th>sqft_lot</th>\n",
       "      <th>floors</th>\n",
       "      <th>condition</th>\n",
       "      <th>grade</th>\n",
       "      <th>yr_built</th>\n",
       "      <th>zipcode</th>\n",
       "      <th>sqft_living15</th>\n",
       "      <th>price</th>\n",
       "    </tr>\n",
       "  </thead>\n",
       "  <tbody>\n",
       "    <tr>\n",
       "      <th>3686</th>\n",
       "      <td>3</td>\n",
       "      <td>0.75</td>\n",
       "      <td>850</td>\n",
       "      <td>8573</td>\n",
       "      <td>1.00</td>\n",
       "      <td>3</td>\n",
       "      <td>6</td>\n",
       "      <td>1945</td>\n",
       "      <td>98146</td>\n",
       "      <td>850</td>\n",
       "      <td>132,500.00</td>\n",
       "    </tr>\n",
       "    <tr>\n",
       "      <th>10247</th>\n",
       "      <td>3</td>\n",
       "      <td>1.00</td>\n",
       "      <td>1510</td>\n",
       "      <td>6083</td>\n",
       "      <td>1.00</td>\n",
       "      <td>4</td>\n",
       "      <td>6</td>\n",
       "      <td>1940</td>\n",
       "      <td>98115</td>\n",
       "      <td>1510</td>\n",
       "      <td>415,000.00</td>\n",
       "    </tr>\n",
       "    <tr>\n",
       "      <th>4037</th>\n",
       "      <td>4</td>\n",
       "      <td>2.25</td>\n",
       "      <td>1790</td>\n",
       "      <td>42000</td>\n",
       "      <td>1.00</td>\n",
       "      <td>3</td>\n",
       "      <td>7</td>\n",
       "      <td>1983</td>\n",
       "      <td>98045</td>\n",
       "      <td>2060</td>\n",
       "      <td>494,000.00</td>\n",
       "    </tr>\n",
       "    <tr>\n",
       "      <th>3437</th>\n",
       "      <td>2</td>\n",
       "      <td>1.50</td>\n",
       "      <td>1140</td>\n",
       "      <td>2500</td>\n",
       "      <td>1.00</td>\n",
       "      <td>3</td>\n",
       "      <td>7</td>\n",
       "      <td>1988</td>\n",
       "      <td>98106</td>\n",
       "      <td>1500</td>\n",
       "      <td>355,000.00</td>\n",
       "    </tr>\n",
       "    <tr>\n",
       "      <th>19291</th>\n",
       "      <td>3</td>\n",
       "      <td>1.00</td>\n",
       "      <td>1500</td>\n",
       "      <td>3920</td>\n",
       "      <td>1.00</td>\n",
       "      <td>3</td>\n",
       "      <td>7</td>\n",
       "      <td>1947</td>\n",
       "      <td>98107</td>\n",
       "      <td>1640</td>\n",
       "      <td>606,000.00</td>\n",
       "    </tr>\n",
       "  </tbody>\n",
       "</table>\n",
       "</div>"
      ],
      "text/plain": [
       "       bedrooms  bathrooms  sqft_living  sqft_lot  floors  condition  grade  \\\n",
       "3686          3       0.75          850      8573    1.00          3      6   \n",
       "10247         3       1.00         1510      6083    1.00          4      6   \n",
       "4037          4       2.25         1790     42000    1.00          3      7   \n",
       "3437          2       1.50         1140      2500    1.00          3      7   \n",
       "19291         3       1.00         1500      3920    1.00          3      7   \n",
       "\n",
       "       yr_built  zipcode  sqft_living15      price  \n",
       "3686       1945    98146            850 132,500.00  \n",
       "10247      1940    98115           1510 415,000.00  \n",
       "4037       1983    98045           2060 494,000.00  \n",
       "3437       1988    98106           1500 355,000.00  \n",
       "19291      1947    98107           1640 606,000.00  "
      ]
     },
     "execution_count": 54,
     "metadata": {},
     "output_type": "execute_result"
    }
   ],
   "source": [
    "testdf.head()"
   ]
  },
  {
   "cell_type": "code",
   "execution_count": 55,
   "metadata": {},
   "outputs": [],
   "source": [
    "# Replace all values in zipcode column with median sale price \n",
    "# 1. Group all zipcodes together with median average sale price \n",
    "# 2. Replace any zipcode value corresponding to a particular zip code \n",
    "# with its median average sales price \n",
    "zip_group = traindf.groupby(['zipcode']).median()"
   ]
  },
  {
   "cell_type": "code",
   "execution_count": 56,
   "metadata": {},
   "outputs": [],
   "source": [
    "test_zip_group = testdf.groupby(['zipcode']).median()"
   ]
  },
  {
   "cell_type": "code",
   "execution_count": 57,
   "metadata": {
    "scrolled": false
   },
   "outputs": [
    {
     "data": {
      "text/html": [
       "<div>\n",
       "<style scoped>\n",
       "    .dataframe tbody tr th:only-of-type {\n",
       "        vertical-align: middle;\n",
       "    }\n",
       "\n",
       "    .dataframe tbody tr th {\n",
       "        vertical-align: top;\n",
       "    }\n",
       "\n",
       "    .dataframe thead th {\n",
       "        text-align: right;\n",
       "    }\n",
       "</style>\n",
       "<table border=\"1\" class=\"dataframe\">\n",
       "  <thead>\n",
       "    <tr style=\"text-align: right;\">\n",
       "      <th></th>\n",
       "      <th>bedrooms</th>\n",
       "      <th>bathrooms</th>\n",
       "      <th>sqft_living</th>\n",
       "      <th>sqft_lot</th>\n",
       "      <th>floors</th>\n",
       "      <th>condition</th>\n",
       "      <th>grade</th>\n",
       "      <th>yr_built</th>\n",
       "      <th>sqft_living15</th>\n",
       "      <th>price</th>\n",
       "    </tr>\n",
       "    <tr>\n",
       "      <th>zipcode</th>\n",
       "      <th></th>\n",
       "      <th></th>\n",
       "      <th></th>\n",
       "      <th></th>\n",
       "      <th></th>\n",
       "      <th></th>\n",
       "      <th></th>\n",
       "      <th></th>\n",
       "      <th></th>\n",
       "      <th></th>\n",
       "    </tr>\n",
       "  </thead>\n",
       "  <tbody>\n",
       "    <tr>\n",
       "      <th>98001</th>\n",
       "      <td>3.00</td>\n",
       "      <td>2.12</td>\n",
       "      <td>1,875.00</td>\n",
       "      <td>9,303.50</td>\n",
       "      <td>1.00</td>\n",
       "      <td>3.00</td>\n",
       "      <td>7.00</td>\n",
       "      <td>1,981.00</td>\n",
       "      <td>1,710.00</td>\n",
       "      <td>264,750.00</td>\n",
       "    </tr>\n",
       "    <tr>\n",
       "      <th>98002</th>\n",
       "      <td>3.00</td>\n",
       "      <td>1.75</td>\n",
       "      <td>1,575.00</td>\n",
       "      <td>7,279.00</td>\n",
       "      <td>1.00</td>\n",
       "      <td>4.00</td>\n",
       "      <td>7.00</td>\n",
       "      <td>1,967.00</td>\n",
       "      <td>1,420.00</td>\n",
       "      <td>235,000.00</td>\n",
       "    </tr>\n",
       "    <tr>\n",
       "      <th>98003</th>\n",
       "      <td>3.00</td>\n",
       "      <td>2.00</td>\n",
       "      <td>1,730.00</td>\n",
       "      <td>8,900.00</td>\n",
       "      <td>1.00</td>\n",
       "      <td>3.00</td>\n",
       "      <td>7.00</td>\n",
       "      <td>1,975.00</td>\n",
       "      <td>1,755.00</td>\n",
       "      <td>265,000.00</td>\n",
       "    </tr>\n",
       "    <tr>\n",
       "      <th>98004</th>\n",
       "      <td>4.00</td>\n",
       "      <td>2.50</td>\n",
       "      <td>2,620.00</td>\n",
       "      <td>11,125.00</td>\n",
       "      <td>1.00</td>\n",
       "      <td>3.00</td>\n",
       "      <td>8.00</td>\n",
       "      <td>1,964.00</td>\n",
       "      <td>2,510.00</td>\n",
       "      <td>1,100,000.00</td>\n",
       "    </tr>\n",
       "    <tr>\n",
       "      <th>98005</th>\n",
       "      <td>4.00</td>\n",
       "      <td>2.25</td>\n",
       "      <td>2,500.00</td>\n",
       "      <td>12,815.50</td>\n",
       "      <td>1.00</td>\n",
       "      <td>4.00</td>\n",
       "      <td>8.00</td>\n",
       "      <td>1,967.00</td>\n",
       "      <td>2,490.00</td>\n",
       "      <td>779,000.00</td>\n",
       "    </tr>\n",
       "  </tbody>\n",
       "</table>\n",
       "</div>"
      ],
      "text/plain": [
       "         bedrooms  bathrooms  sqft_living  sqft_lot  floors  condition  grade  \\\n",
       "zipcode                                                                         \n",
       "98001        3.00       2.12     1,875.00  9,303.50    1.00       3.00   7.00   \n",
       "98002        3.00       1.75     1,575.00  7,279.00    1.00       4.00   7.00   \n",
       "98003        3.00       2.00     1,730.00  8,900.00    1.00       3.00   7.00   \n",
       "98004        4.00       2.50     2,620.00 11,125.00    1.00       3.00   8.00   \n",
       "98005        4.00       2.25     2,500.00 12,815.50    1.00       4.00   8.00   \n",
       "\n",
       "         yr_built  sqft_living15        price  \n",
       "zipcode                                        \n",
       "98001    1,981.00       1,710.00   264,750.00  \n",
       "98002    1,967.00       1,420.00   235,000.00  \n",
       "98003    1,975.00       1,755.00   265,000.00  \n",
       "98004    1,964.00       2,510.00 1,100,000.00  \n",
       "98005    1,967.00       2,490.00   779,000.00  "
      ]
     },
     "execution_count": 57,
     "metadata": {},
     "output_type": "execute_result"
    }
   ],
   "source": [
    "zip_group.head()"
   ]
  },
  {
   "cell_type": "code",
   "execution_count": 58,
   "metadata": {},
   "outputs": [
    {
     "data": {
      "text/html": [
       "<div>\n",
       "<style scoped>\n",
       "    .dataframe tbody tr th:only-of-type {\n",
       "        vertical-align: middle;\n",
       "    }\n",
       "\n",
       "    .dataframe tbody tr th {\n",
       "        vertical-align: top;\n",
       "    }\n",
       "\n",
       "    .dataframe thead th {\n",
       "        text-align: right;\n",
       "    }\n",
       "</style>\n",
       "<table border=\"1\" class=\"dataframe\">\n",
       "  <thead>\n",
       "    <tr style=\"text-align: right;\">\n",
       "      <th></th>\n",
       "      <th>bedrooms</th>\n",
       "      <th>bathrooms</th>\n",
       "      <th>sqft_living</th>\n",
       "      <th>sqft_lot</th>\n",
       "      <th>floors</th>\n",
       "      <th>condition</th>\n",
       "      <th>grade</th>\n",
       "      <th>yr_built</th>\n",
       "      <th>sqft_living15</th>\n",
       "      <th>price</th>\n",
       "    </tr>\n",
       "    <tr>\n",
       "      <th>zipcode</th>\n",
       "      <th></th>\n",
       "      <th></th>\n",
       "      <th></th>\n",
       "      <th></th>\n",
       "      <th></th>\n",
       "      <th></th>\n",
       "      <th></th>\n",
       "      <th></th>\n",
       "      <th></th>\n",
       "      <th></th>\n",
       "    </tr>\n",
       "  </thead>\n",
       "  <tbody>\n",
       "    <tr>\n",
       "      <th>98001</th>\n",
       "      <td>3.00</td>\n",
       "      <td>2.00</td>\n",
       "      <td>1,620.00</td>\n",
       "      <td>9,135.00</td>\n",
       "      <td>1.00</td>\n",
       "      <td>3.00</td>\n",
       "      <td>7.00</td>\n",
       "      <td>1,984.00</td>\n",
       "      <td>1,610.00</td>\n",
       "      <td>246,900.00</td>\n",
       "    </tr>\n",
       "    <tr>\n",
       "      <th>98002</th>\n",
       "      <td>3.00</td>\n",
       "      <td>2.00</td>\n",
       "      <td>1,550.00</td>\n",
       "      <td>7,314.00</td>\n",
       "      <td>1.00</td>\n",
       "      <td>4.00</td>\n",
       "      <td>7.00</td>\n",
       "      <td>1,961.00</td>\n",
       "      <td>1,340.00</td>\n",
       "      <td>235,000.00</td>\n",
       "    </tr>\n",
       "    <tr>\n",
       "      <th>98003</th>\n",
       "      <td>3.00</td>\n",
       "      <td>2.25</td>\n",
       "      <td>2,020.00</td>\n",
       "      <td>8,620.00</td>\n",
       "      <td>1.00</td>\n",
       "      <td>3.00</td>\n",
       "      <td>7.00</td>\n",
       "      <td>1,977.00</td>\n",
       "      <td>1,840.00</td>\n",
       "      <td>271,500.00</td>\n",
       "    </tr>\n",
       "    <tr>\n",
       "      <th>98004</th>\n",
       "      <td>4.00</td>\n",
       "      <td>2.50</td>\n",
       "      <td>2,920.00</td>\n",
       "      <td>10,929.00</td>\n",
       "      <td>1.50</td>\n",
       "      <td>3.00</td>\n",
       "      <td>9.00</td>\n",
       "      <td>1,966.00</td>\n",
       "      <td>2,600.00</td>\n",
       "      <td>1,430,000.00</td>\n",
       "    </tr>\n",
       "    <tr>\n",
       "      <th>98005</th>\n",
       "      <td>4.00</td>\n",
       "      <td>2.50</td>\n",
       "      <td>2,605.00</td>\n",
       "      <td>10,769.50</td>\n",
       "      <td>1.00</td>\n",
       "      <td>4.00</td>\n",
       "      <td>8.00</td>\n",
       "      <td>1,967.50</td>\n",
       "      <td>2,260.00</td>\n",
       "      <td>742,250.00</td>\n",
       "    </tr>\n",
       "  </tbody>\n",
       "</table>\n",
       "</div>"
      ],
      "text/plain": [
       "         bedrooms  bathrooms  sqft_living  sqft_lot  floors  condition  grade  \\\n",
       "zipcode                                                                         \n",
       "98001        3.00       2.00     1,620.00  9,135.00    1.00       3.00   7.00   \n",
       "98002        3.00       2.00     1,550.00  7,314.00    1.00       4.00   7.00   \n",
       "98003        3.00       2.25     2,020.00  8,620.00    1.00       3.00   7.00   \n",
       "98004        4.00       2.50     2,920.00 10,929.00    1.50       3.00   9.00   \n",
       "98005        4.00       2.50     2,605.00 10,769.50    1.00       4.00   8.00   \n",
       "\n",
       "         yr_built  sqft_living15        price  \n",
       "zipcode                                        \n",
       "98001    1,984.00       1,610.00   246,900.00  \n",
       "98002    1,961.00       1,340.00   235,000.00  \n",
       "98003    1,977.00       1,840.00   271,500.00  \n",
       "98004    1,966.00       2,600.00 1,430,000.00  \n",
       "98005    1,967.50       2,260.00   742,250.00  "
      ]
     },
     "execution_count": 58,
     "metadata": {},
     "output_type": "execute_result"
    }
   ],
   "source": [
    "test_zip_group.head()"
   ]
  },
  {
   "cell_type": "code",
   "execution_count": 59,
   "metadata": {},
   "outputs": [
    {
     "data": {
      "text/plain": [
       "(70, 10)"
      ]
     },
     "execution_count": 59,
     "metadata": {},
     "output_type": "execute_result"
    }
   ],
   "source": [
    "zip_group.shape"
   ]
  },
  {
   "cell_type": "code",
   "execution_count": 60,
   "metadata": {},
   "outputs": [],
   "source": [
    "zip_group = zip_group['price'].reset_index()"
   ]
  },
  {
   "cell_type": "code",
   "execution_count": 61,
   "metadata": {},
   "outputs": [
    {
     "data": {
      "text/html": [
       "<div>\n",
       "<style scoped>\n",
       "    .dataframe tbody tr th:only-of-type {\n",
       "        vertical-align: middle;\n",
       "    }\n",
       "\n",
       "    .dataframe tbody tr th {\n",
       "        vertical-align: top;\n",
       "    }\n",
       "\n",
       "    .dataframe thead th {\n",
       "        text-align: right;\n",
       "    }\n",
       "</style>\n",
       "<table border=\"1\" class=\"dataframe\">\n",
       "  <thead>\n",
       "    <tr style=\"text-align: right;\">\n",
       "      <th></th>\n",
       "      <th>zipcode</th>\n",
       "      <th>price</th>\n",
       "    </tr>\n",
       "  </thead>\n",
       "  <tbody>\n",
       "    <tr>\n",
       "      <th>0</th>\n",
       "      <td>98001</td>\n",
       "      <td>264,750.00</td>\n",
       "    </tr>\n",
       "    <tr>\n",
       "      <th>1</th>\n",
       "      <td>98002</td>\n",
       "      <td>235,000.00</td>\n",
       "    </tr>\n",
       "    <tr>\n",
       "      <th>2</th>\n",
       "      <td>98003</td>\n",
       "      <td>265,000.00</td>\n",
       "    </tr>\n",
       "    <tr>\n",
       "      <th>3</th>\n",
       "      <td>98004</td>\n",
       "      <td>1,100,000.00</td>\n",
       "    </tr>\n",
       "    <tr>\n",
       "      <th>4</th>\n",
       "      <td>98005</td>\n",
       "      <td>779,000.00</td>\n",
       "    </tr>\n",
       "  </tbody>\n",
       "</table>\n",
       "</div>"
      ],
      "text/plain": [
       "   zipcode        price\n",
       "0    98001   264,750.00\n",
       "1    98002   235,000.00\n",
       "2    98003   265,000.00\n",
       "3    98004 1,100,000.00\n",
       "4    98005   779,000.00"
      ]
     },
     "execution_count": 61,
     "metadata": {},
     "output_type": "execute_result"
    }
   ],
   "source": [
    "zip_group.head()"
   ]
  },
  {
   "cell_type": "code",
   "execution_count": 62,
   "metadata": {
    "scrolled": false
   },
   "outputs": [
    {
     "data": {
      "text/html": [
       "<div>\n",
       "<style scoped>\n",
       "    .dataframe tbody tr th:only-of-type {\n",
       "        vertical-align: middle;\n",
       "    }\n",
       "\n",
       "    .dataframe tbody tr th {\n",
       "        vertical-align: top;\n",
       "    }\n",
       "\n",
       "    .dataframe thead th {\n",
       "        text-align: right;\n",
       "    }\n",
       "</style>\n",
       "<table border=\"1\" class=\"dataframe\">\n",
       "  <thead>\n",
       "    <tr style=\"text-align: right;\">\n",
       "      <th></th>\n",
       "      <th>index</th>\n",
       "      <th>zipcode</th>\n",
       "      <th>price_x</th>\n",
       "      <th>bedrooms</th>\n",
       "      <th>bathrooms</th>\n",
       "      <th>sqft_living</th>\n",
       "      <th>sqft_lot</th>\n",
       "      <th>floors</th>\n",
       "      <th>condition</th>\n",
       "      <th>grade</th>\n",
       "      <th>yr_built</th>\n",
       "      <th>sqft_living15</th>\n",
       "      <th>price_y</th>\n",
       "    </tr>\n",
       "  </thead>\n",
       "  <tbody>\n",
       "    <tr>\n",
       "      <th>0</th>\n",
       "      <td>0</td>\n",
       "      <td>98001</td>\n",
       "      <td>264,750.00</td>\n",
       "      <td>2</td>\n",
       "      <td>1.75</td>\n",
       "      <td>1220</td>\n",
       "      <td>15600</td>\n",
       "      <td>1.00</td>\n",
       "      <td>3</td>\n",
       "      <td>6</td>\n",
       "      <td>1972</td>\n",
       "      <td>1510</td>\n",
       "      <td>215,500.00</td>\n",
       "    </tr>\n",
       "    <tr>\n",
       "      <th>1</th>\n",
       "      <td>1</td>\n",
       "      <td>98001</td>\n",
       "      <td>264,750.00</td>\n",
       "      <td>4</td>\n",
       "      <td>2.50</td>\n",
       "      <td>2400</td>\n",
       "      <td>4596</td>\n",
       "      <td>2.00</td>\n",
       "      <td>3</td>\n",
       "      <td>8</td>\n",
       "      <td>2004</td>\n",
       "      <td>2230</td>\n",
       "      <td>280,000.00</td>\n",
       "    </tr>\n",
       "    <tr>\n",
       "      <th>2</th>\n",
       "      <td>2</td>\n",
       "      <td>98001</td>\n",
       "      <td>264,750.00</td>\n",
       "      <td>5</td>\n",
       "      <td>1.75</td>\n",
       "      <td>1950</td>\n",
       "      <td>8720</td>\n",
       "      <td>1.00</td>\n",
       "      <td>3</td>\n",
       "      <td>7</td>\n",
       "      <td>1962</td>\n",
       "      <td>1660</td>\n",
       "      <td>274,000.00</td>\n",
       "    </tr>\n",
       "    <tr>\n",
       "      <th>3</th>\n",
       "      <td>3</td>\n",
       "      <td>98001</td>\n",
       "      <td>264,750.00</td>\n",
       "      <td>3</td>\n",
       "      <td>1.00</td>\n",
       "      <td>1390</td>\n",
       "      <td>16000</td>\n",
       "      <td>1.00</td>\n",
       "      <td>4</td>\n",
       "      <td>6</td>\n",
       "      <td>1960</td>\n",
       "      <td>1420</td>\n",
       "      <td>230,000.00</td>\n",
       "    </tr>\n",
       "    <tr>\n",
       "      <th>4</th>\n",
       "      <td>4</td>\n",
       "      <td>98001</td>\n",
       "      <td>264,750.00</td>\n",
       "      <td>4</td>\n",
       "      <td>1.75</td>\n",
       "      <td>1790</td>\n",
       "      <td>12000</td>\n",
       "      <td>1.00</td>\n",
       "      <td>5</td>\n",
       "      <td>6</td>\n",
       "      <td>1944</td>\n",
       "      <td>1550</td>\n",
       "      <td>199,900.00</td>\n",
       "    </tr>\n",
       "  </tbody>\n",
       "</table>\n",
       "</div>"
      ],
      "text/plain": [
       "   index  zipcode    price_x  bedrooms  bathrooms  sqft_living  sqft_lot  \\\n",
       "0      0    98001 264,750.00         2       1.75         1220     15600   \n",
       "1      1    98001 264,750.00         4       2.50         2400      4596   \n",
       "2      2    98001 264,750.00         5       1.75         1950      8720   \n",
       "3      3    98001 264,750.00         3       1.00         1390     16000   \n",
       "4      4    98001 264,750.00         4       1.75         1790     12000   \n",
       "\n",
       "   floors  condition  grade  yr_built  sqft_living15    price_y  \n",
       "0    1.00          3      6      1972           1510 215,500.00  \n",
       "1    2.00          3      8      2004           2230 280,000.00  \n",
       "2    1.00          3      7      1962           1660 274,000.00  \n",
       "3    1.00          4      6      1960           1420 230,000.00  \n",
       "4    1.00          5      6      1944           1550 199,900.00  "
      ]
     },
     "execution_count": 62,
     "metadata": {},
     "output_type": "execute_result"
    }
   ],
   "source": [
    "# Join zip_group with train df\n",
    "joined_zip = pd.merge(zip_group, traindf, how = 'inner', on='zipcode').reset_index()\n",
    "joined_zip.head()"
   ]
  },
  {
   "cell_type": "code",
   "execution_count": 63,
   "metadata": {
    "scrolled": true
   },
   "outputs": [
    {
     "data": {
      "text/html": [
       "<div>\n",
       "<style scoped>\n",
       "    .dataframe tbody tr th:only-of-type {\n",
       "        vertical-align: middle;\n",
       "    }\n",
       "\n",
       "    .dataframe tbody tr th {\n",
       "        vertical-align: top;\n",
       "    }\n",
       "\n",
       "    .dataframe thead th {\n",
       "        text-align: right;\n",
       "    }\n",
       "</style>\n",
       "<table border=\"1\" class=\"dataframe\">\n",
       "  <thead>\n",
       "    <tr style=\"text-align: right;\">\n",
       "      <th></th>\n",
       "      <th>index</th>\n",
       "      <th>zipcode</th>\n",
       "      <th>price_x</th>\n",
       "      <th>bedrooms</th>\n",
       "      <th>bathrooms</th>\n",
       "      <th>sqft_living</th>\n",
       "      <th>sqft_lot</th>\n",
       "      <th>floors</th>\n",
       "      <th>condition</th>\n",
       "      <th>grade</th>\n",
       "      <th>yr_built</th>\n",
       "      <th>sqft_living15</th>\n",
       "      <th>price_y</th>\n",
       "    </tr>\n",
       "  </thead>\n",
       "  <tbody>\n",
       "    <tr>\n",
       "      <th>0</th>\n",
       "      <td>0</td>\n",
       "      <td>98001</td>\n",
       "      <td>264,750.00</td>\n",
       "      <td>3</td>\n",
       "      <td>1.75</td>\n",
       "      <td>2170</td>\n",
       "      <td>10018</td>\n",
       "      <td>1.00</td>\n",
       "      <td>4</td>\n",
       "      <td>7</td>\n",
       "      <td>1978</td>\n",
       "      <td>2049</td>\n",
       "      <td>260,000.00</td>\n",
       "    </tr>\n",
       "    <tr>\n",
       "      <th>1</th>\n",
       "      <td>1</td>\n",
       "      <td>98001</td>\n",
       "      <td>264,750.00</td>\n",
       "      <td>3</td>\n",
       "      <td>1.00</td>\n",
       "      <td>1150</td>\n",
       "      <td>6480</td>\n",
       "      <td>1.50</td>\n",
       "      <td>4</td>\n",
       "      <td>5</td>\n",
       "      <td>1946</td>\n",
       "      <td>1100</td>\n",
       "      <td>171,500.00</td>\n",
       "    </tr>\n",
       "    <tr>\n",
       "      <th>2</th>\n",
       "      <td>2</td>\n",
       "      <td>98001</td>\n",
       "      <td>264,750.00</td>\n",
       "      <td>3</td>\n",
       "      <td>2.00</td>\n",
       "      <td>1050</td>\n",
       "      <td>18304</td>\n",
       "      <td>1.00</td>\n",
       "      <td>4</td>\n",
       "      <td>7</td>\n",
       "      <td>1953</td>\n",
       "      <td>1690</td>\n",
       "      <td>250,000.00</td>\n",
       "    </tr>\n",
       "    <tr>\n",
       "      <th>3</th>\n",
       "      <td>3</td>\n",
       "      <td>98001</td>\n",
       "      <td>264,750.00</td>\n",
       "      <td>5</td>\n",
       "      <td>2.50</td>\n",
       "      <td>2406</td>\n",
       "      <td>7093</td>\n",
       "      <td>2.00</td>\n",
       "      <td>3</td>\n",
       "      <td>8</td>\n",
       "      <td>2006</td>\n",
       "      <td>1767</td>\n",
       "      <td>270,500.00</td>\n",
       "    </tr>\n",
       "    <tr>\n",
       "      <th>4</th>\n",
       "      <td>4</td>\n",
       "      <td>98001</td>\n",
       "      <td>264,750.00</td>\n",
       "      <td>3</td>\n",
       "      <td>2.25</td>\n",
       "      <td>1830</td>\n",
       "      <td>11331</td>\n",
       "      <td>1.00</td>\n",
       "      <td>3</td>\n",
       "      <td>7</td>\n",
       "      <td>1965</td>\n",
       "      <td>2240</td>\n",
       "      <td>230,000.00</td>\n",
       "    </tr>\n",
       "  </tbody>\n",
       "</table>\n",
       "</div>"
      ],
      "text/plain": [
       "   index  zipcode    price_x  bedrooms  bathrooms  sqft_living  sqft_lot  \\\n",
       "0      0    98001 264,750.00         3       1.75         2170     10018   \n",
       "1      1    98001 264,750.00         3       1.00         1150      6480   \n",
       "2      2    98001 264,750.00         3       2.00         1050     18304   \n",
       "3      3    98001 264,750.00         5       2.50         2406      7093   \n",
       "4      4    98001 264,750.00         3       2.25         1830     11331   \n",
       "\n",
       "   floors  condition  grade  yr_built  sqft_living15    price_y  \n",
       "0    1.00          4      7      1978           2049 260,000.00  \n",
       "1    1.50          4      5      1946           1100 171,500.00  \n",
       "2    1.00          4      7      1953           1690 250,000.00  \n",
       "3    2.00          3      8      2006           1767 270,500.00  \n",
       "4    1.00          3      7      1965           2240 230,000.00  "
      ]
     },
     "execution_count": 63,
     "metadata": {},
     "output_type": "execute_result"
    }
   ],
   "source": [
    "# Join zip_group with test df \n",
    "joined_test_zip = pd.merge(zip_group, testdf, how='inner', on='zipcode').reset_index()\n",
    "joined_test_zip.head()"
   ]
  },
  {
   "cell_type": "code",
   "execution_count": 64,
   "metadata": {},
   "outputs": [
    {
     "data": {
      "text/plain": [
       "(4320, 13)"
      ]
     },
     "execution_count": 64,
     "metadata": {},
     "output_type": "execute_result"
    }
   ],
   "source": [
    "joined_test_zip.shape"
   ]
  },
  {
   "cell_type": "markdown",
   "metadata": {},
   "source": [
    "##  Visualizing Median Price per Zip Code"
   ]
  },
  {
   "cell_type": "code",
   "execution_count": 65,
   "metadata": {},
   "outputs": [],
   "source": [
    "import folium\n",
    "import json\n",
    "import geopandas as gpd\n",
    "import branca.colormap as cm\n",
    "#from shapely.geometry import shape"
   ]
  },
  {
   "cell_type": "code",
   "execution_count": 66,
   "metadata": {},
   "outputs": [],
   "source": [
    "# Initiate folium map\n",
    "#Seattle_map = folium.Map(location = [47.608013,-122.335167], zoom_start = 10)\n",
    "#zipcodes_json = folium.GeoJson(\"data/Zipcodes_for_King_County_and_Surrounding_Area___zipcode_area.geojson\", name=\"geojson\").add_to(Seattle_map)\n",
    "#Seattle_map"
   ]
  },
  {
   "cell_type": "markdown",
   "metadata": {},
   "source": [
    "[Link to geojson file](https://www5.kingcounty.gov/sdc/Metadata.aspx?Layer=zipcode) from King County GIS Database"
   ]
  },
  {
   "cell_type": "code",
   "execution_count": 67,
   "metadata": {},
   "outputs": [],
   "source": [
    "#zipcodes_gdf = gpd.read_file(\"data/Zipcodes_for_King_County_and_Surrounding_Area___zipcode_area.geojson\", name=\"geojson\")"
   ]
  },
  {
   "cell_type": "code",
   "execution_count": 68,
   "metadata": {},
   "outputs": [],
   "source": [
    "# Load GeoJSON\n",
    "with open('data/Zipcodes_for_King_County_and_Surrounding_Area___zipcode_area.geojson', 'r') as jsonSea:\n",
    "    jsdata = json.load(jsonSea)\n",
    "tmp = jsdata"
   ]
  },
  {
   "cell_type": "code",
   "execution_count": 69,
   "metadata": {},
   "outputs": [],
   "source": [
    "# Load fresh version of original data to grab zipcodes \n",
    "orig_df = pd.read_csv('data/kc_house_data.csv')"
   ]
  },
  {
   "cell_type": "code",
   "execution_count": 70,
   "metadata": {
    "scrolled": true
   },
   "outputs": [
    {
     "data": {
      "text/plain": [
       "(70, 2)"
      ]
     },
     "execution_count": 70,
     "metadata": {},
     "output_type": "execute_result"
    }
   ],
   "source": [
    "zip_group.shape"
   ]
  },
  {
   "cell_type": "code",
   "execution_count": 71,
   "metadata": {},
   "outputs": [],
   "source": [
    "zipcodes_indf = []\n",
    "\n",
    "for x in orig_df['zipcode']:\n",
    "    if x not in zipcodes_indf:\n",
    "        zipcodes_indf.append(x)"
   ]
  },
  {
   "cell_type": "code",
   "execution_count": 72,
   "metadata": {},
   "outputs": [
    {
     "data": {
      "text/plain": [
       "70"
      ]
     },
     "execution_count": 72,
     "metadata": {},
     "output_type": "execute_result"
    }
   ],
   "source": [
    "len(zipcodes_indf)"
   ]
  },
  {
   "cell_type": "markdown",
   "metadata": {},
   "source": [
    "This method of cleaning the JSON and saving it as a new file is courtesy of [Jonny Hofmeister](https://github.com/jonnyhof). "
   ]
  },
  {
   "cell_type": "code",
   "execution_count": 73,
   "metadata": {},
   "outputs": [],
   "source": [
    "# Parse the GeoJSON for zipcodes that are in our dataset. \n",
    "geozips = []\n",
    "\n",
    "for i in range(len(tmp['features'])):\n",
    "    if int(tmp['features'][i]['properties']['ZIPCODE']) in zipcodes_indf:\n",
    "        geozips.append(tmp['features'][i])"
   ]
  },
  {
   "cell_type": "code",
   "execution_count": 74,
   "metadata": {
    "scrolled": true
   },
   "outputs": [
    {
     "data": {
      "text/plain": [
       "74"
      ]
     },
     "execution_count": 74,
     "metadata": {},
     "output_type": "execute_result"
    }
   ],
   "source": [
    "len(geozips)"
   ]
  },
  {
   "cell_type": "code",
   "execution_count": 75,
   "metadata": {},
   "outputs": [],
   "source": [
    "# We have four duplicate zipcodes. \n",
    "zips = []\n",
    "for i in geozips:\n",
    "    zips.append(i['properties']['ZIPCODE'])"
   ]
  },
  {
   "cell_type": "code",
   "execution_count": 76,
   "metadata": {
    "scrolled": true
   },
   "outputs": [
    {
     "data": {
      "text/plain": [
       "98072    2\n",
       "98077    2\n",
       "98092    2\n",
       "98022    2\n",
       "98199    1\n",
       "dtype: int64"
      ]
     },
     "execution_count": 76,
     "metadata": {},
     "output_type": "execute_result"
    }
   ],
   "source": [
    "# Use pandas to easily find duplicates. \n",
    "zips = pd.DataFrame(zips)\n",
    "zips.value_counts().head()"
   ]
  },
  {
   "cell_type": "code",
   "execution_count": 77,
   "metadata": {},
   "outputs": [
    {
     "name": "stdout",
     "output_type": "stream",
     "text": [
      "13 is an index of 98022\n",
      "14 is an index of 98022\n",
      "25 is an index of 98092\n",
      "41 is an index of 98072\n",
      "42 is an index of 98072\n",
      "46 is an index of 98077\n",
      "47 is an index of 98077\n",
      "48 is an index of 98092\n"
     ]
    }
   ],
   "source": [
    "# Find index of duplicates to remove them. \n",
    "for i in geozips:\n",
    "    if i['properties']['ZIPCODE'] in ['98072', '98077', '98092', '98022']:\n",
    "        print(str(geozips.index(i))+' is an index of '+i['properties']['ZIPCODE'])"
   ]
  },
  {
   "cell_type": "code",
   "execution_count": 78,
   "metadata": {},
   "outputs": [],
   "source": [
    "# Make list of indices to remove them. \n",
    "to_del = [14, 41, 46, 48]\n",
    "for d in to_del: \n",
    "    del geozips[d]"
   ]
  },
  {
   "cell_type": "code",
   "execution_count": 79,
   "metadata": {},
   "outputs": [
    {
     "data": {
      "text/plain": [
       "70"
      ]
     },
     "execution_count": 79,
     "metadata": {},
     "output_type": "execute_result"
    }
   ],
   "source": [
    "# Sanity check\n",
    "len(geozips)"
   ]
  },
  {
   "cell_type": "code",
   "execution_count": 80,
   "metadata": {},
   "outputs": [],
   "source": [
    "# Creating a new JSON object\n",
    "new_json = dict.fromkeys(['type', 'features', 'zipcode'])\n",
    "new_json['type'] = 'FeatureCollection'\n",
    "new_json['features'] = geozips"
   ]
  },
  {
   "cell_type": "code",
   "execution_count": 81,
   "metadata": {},
   "outputs": [
    {
     "data": {
      "text/plain": [
       "11110915"
      ]
     },
     "execution_count": 81,
     "metadata": {},
     "output_type": "execute_result"
    }
   ],
   "source": [
    "# Same GeoJSON object as an updated file. \n",
    "\n",
    "open('data/updated-file.json', 'w').write(\n",
    "    json.dumps(new_json, sort_keys=True, indent=4, separators=(',', ': '))\n",
    ")"
   ]
  },
  {
   "cell_type": "code",
   "execution_count": 87,
   "metadata": {},
   "outputs": [
    {
     "data": {
      "text/html": [
       "<div>\n",
       "<style scoped>\n",
       "    .dataframe tbody tr th:only-of-type {\n",
       "        vertical-align: middle;\n",
       "    }\n",
       "\n",
       "    .dataframe tbody tr th {\n",
       "        vertical-align: top;\n",
       "    }\n",
       "\n",
       "    .dataframe thead th {\n",
       "        text-align: right;\n",
       "    }\n",
       "</style>\n",
       "<table border=\"1\" class=\"dataframe\">\n",
       "  <thead>\n",
       "    <tr style=\"text-align: right;\">\n",
       "      <th></th>\n",
       "      <th>COUNTY</th>\n",
       "      <th>OBJECTID</th>\n",
       "      <th>Shape_Area</th>\n",
       "      <th>Shape_Length</th>\n",
       "      <th>ZIP</th>\n",
       "      <th>ZIPCODE</th>\n",
       "      <th>ZIP_TYPE</th>\n",
       "      <th>geometry</th>\n",
       "    </tr>\n",
       "  </thead>\n",
       "  <tbody>\n",
       "    <tr>\n",
       "      <th>0</th>\n",
       "      <td>033</td>\n",
       "      <td>1</td>\n",
       "      <td>228,012,907.12</td>\n",
       "      <td>117,508.23</td>\n",
       "      <td>98031</td>\n",
       "      <td>98031</td>\n",
       "      <td>Standard</td>\n",
       "      <td>POLYGON ((-122.21842 47.43750, -122.21896 47.4...</td>\n",
       "    </tr>\n",
       "    <tr>\n",
       "      <th>1</th>\n",
       "      <td>033</td>\n",
       "      <td>2</td>\n",
       "      <td>482,675,358.83</td>\n",
       "      <td>166,737.67</td>\n",
       "      <td>98032</td>\n",
       "      <td>98032</td>\n",
       "      <td>Standard</td>\n",
       "      <td>MULTIPOLYGON (((-122.24187 47.44122, -122.2436...</td>\n",
       "    </tr>\n",
       "    <tr>\n",
       "      <th>2</th>\n",
       "      <td>033</td>\n",
       "      <td>3</td>\n",
       "      <td>200,095,361.22</td>\n",
       "      <td>94,409.54</td>\n",
       "      <td>98030</td>\n",
       "      <td>98030</td>\n",
       "      <td>Standard</td>\n",
       "      <td>POLYGON ((-122.21006 47.38692, -122.21060 47.3...</td>\n",
       "    </tr>\n",
       "    <tr>\n",
       "      <th>3</th>\n",
       "      <td>033</td>\n",
       "      <td>4</td>\n",
       "      <td>277,424,676.85</td>\n",
       "      <td>111,093.72</td>\n",
       "      <td>98029</td>\n",
       "      <td>98029</td>\n",
       "      <td>Standard</td>\n",
       "      <td>POLYGON ((-121.97642 47.58430, -121.97640 47.5...</td>\n",
       "    </tr>\n",
       "    <tr>\n",
       "      <th>4</th>\n",
       "      <td>033</td>\n",
       "      <td>5</td>\n",
       "      <td>199,653,136.52</td>\n",
       "      <td>71,488.23</td>\n",
       "      <td>98028</td>\n",
       "      <td>98028</td>\n",
       "      <td>Standard</td>\n",
       "      <td>POLYGON ((-122.22788 47.76909, -122.22777 47.7...</td>\n",
       "    </tr>\n",
       "  </tbody>\n",
       "</table>\n",
       "</div>"
      ],
      "text/plain": [
       "  COUNTY  OBJECTID     Shape_Area  Shape_Length    ZIP ZIPCODE  ZIP_TYPE  \\\n",
       "0    033         1 228,012,907.12    117,508.23  98031   98031  Standard   \n",
       "1    033         2 482,675,358.83    166,737.67  98032   98032  Standard   \n",
       "2    033         3 200,095,361.22     94,409.54  98030   98030  Standard   \n",
       "3    033         4 277,424,676.85    111,093.72  98029   98029  Standard   \n",
       "4    033         5 199,653,136.52     71,488.23  98028   98028  Standard   \n",
       "\n",
       "                                            geometry  \n",
       "0  POLYGON ((-122.21842 47.43750, -122.21896 47.4...  \n",
       "1  MULTIPOLYGON (((-122.24187 47.44122, -122.2436...  \n",
       "2  POLYGON ((-122.21006 47.38692, -122.21060 47.3...  \n",
       "3  POLYGON ((-121.97642 47.58430, -121.97640 47.5...  \n",
       "4  POLYGON ((-122.22788 47.76909, -122.22777 47.7...  "
      ]
     },
     "execution_count": 87,
     "metadata": {},
     "output_type": "execute_result"
    }
   ],
   "source": [
    "# Read in cleaned GeoJSON file as a Geopandas dataframe \n",
    "loc_data = gpd.read_file('data/updated-file.json')\n",
    "loc_data.head()"
   ]
  },
  {
   "cell_type": "code",
   "execution_count": 88,
   "metadata": {
    "scrolled": true
   },
   "outputs": [
    {
     "data": {
      "text/html": [
       "<div>\n",
       "<style scoped>\n",
       "    .dataframe tbody tr th:only-of-type {\n",
       "        vertical-align: middle;\n",
       "    }\n",
       "\n",
       "    .dataframe tbody tr th {\n",
       "        vertical-align: top;\n",
       "    }\n",
       "\n",
       "    .dataframe thead th {\n",
       "        text-align: right;\n",
       "    }\n",
       "</style>\n",
       "<table border=\"1\" class=\"dataframe\">\n",
       "  <thead>\n",
       "    <tr style=\"text-align: right;\">\n",
       "      <th></th>\n",
       "      <th>ZIPCODE</th>\n",
       "      <th>geometry</th>\n",
       "    </tr>\n",
       "  </thead>\n",
       "  <tbody>\n",
       "    <tr>\n",
       "      <th>0</th>\n",
       "      <td>98031</td>\n",
       "      <td>POLYGON ((-122.21842 47.43750, -122.21896 47.4...</td>\n",
       "    </tr>\n",
       "    <tr>\n",
       "      <th>1</th>\n",
       "      <td>98032</td>\n",
       "      <td>MULTIPOLYGON (((-122.24187 47.44122, -122.2436...</td>\n",
       "    </tr>\n",
       "    <tr>\n",
       "      <th>2</th>\n",
       "      <td>98030</td>\n",
       "      <td>POLYGON ((-122.21006 47.38692, -122.21060 47.3...</td>\n",
       "    </tr>\n",
       "    <tr>\n",
       "      <th>3</th>\n",
       "      <td>98029</td>\n",
       "      <td>POLYGON ((-121.97642 47.58430, -121.97640 47.5...</td>\n",
       "    </tr>\n",
       "    <tr>\n",
       "      <th>4</th>\n",
       "      <td>98028</td>\n",
       "      <td>POLYGON ((-122.22788 47.76909, -122.22777 47.7...</td>\n",
       "    </tr>\n",
       "  </tbody>\n",
       "</table>\n",
       "</div>"
      ],
      "text/plain": [
       "  ZIPCODE                                           geometry\n",
       "0   98031  POLYGON ((-122.21842 47.43750, -122.21896 47.4...\n",
       "1   98032  MULTIPOLYGON (((-122.24187 47.44122, -122.2436...\n",
       "2   98030  POLYGON ((-122.21006 47.38692, -122.21060 47.3...\n",
       "3   98029  POLYGON ((-121.97642 47.58430, -121.97640 47.5...\n",
       "4   98028  POLYGON ((-122.22788 47.76909, -122.22777 47.7..."
      ]
     },
     "execution_count": 88,
     "metadata": {},
     "output_type": "execute_result"
    }
   ],
   "source": [
    "#All we need from the GeoJSON is the location data tied to zipcode, so drop all other columns\n",
    "geos = loc_data[['ZIPCODE' , 'geometry']]\n",
    "geos.head()"
   ]
  },
  {
   "cell_type": "code",
   "execution_count": 89,
   "metadata": {},
   "outputs": [],
   "source": [
    "# Change zipcode colum in zipcodes/price df to str so it can key on the json zipcode column\n",
    "zip_group['zipcode'] = zip_group['zipcode'].astype(str)"
   ]
  },
  {
   "cell_type": "code",
   "execution_count": 90,
   "metadata": {
    "scrolled": false
   },
   "outputs": [
    {
     "data": {
      "text/plain": [
       "ZIPCODE       object\n",
       "geometry    geometry\n",
       "dtype: object"
      ]
     },
     "execution_count": 90,
     "metadata": {},
     "output_type": "execute_result"
    }
   ],
   "source": [
    "geos.dtypes"
   ]
  },
  {
   "cell_type": "code",
   "execution_count": 91,
   "metadata": {},
   "outputs": [
    {
     "data": {
      "text/plain": [
       "zipcode     object\n",
       "price      float64\n",
       "dtype: object"
      ]
     },
     "execution_count": 91,
     "metadata": {},
     "output_type": "execute_result"
    }
   ],
   "source": [
    "zip_group.dtypes"
   ]
  },
  {
   "cell_type": "code",
   "execution_count": 92,
   "metadata": {
    "scrolled": false
   },
   "outputs": [
    {
     "data": {
      "text/html": [
       "<div>\n",
       "<style scoped>\n",
       "    .dataframe tbody tr th:only-of-type {\n",
       "        vertical-align: middle;\n",
       "    }\n",
       "\n",
       "    .dataframe tbody tr th {\n",
       "        vertical-align: top;\n",
       "    }\n",
       "\n",
       "    .dataframe thead th {\n",
       "        text-align: right;\n",
       "    }\n",
       "</style>\n",
       "<table border=\"1\" class=\"dataframe\">\n",
       "  <thead>\n",
       "    <tr style=\"text-align: right;\">\n",
       "      <th></th>\n",
       "      <th>ZIPCODE</th>\n",
       "      <th>geometry</th>\n",
       "      <th>zipcode</th>\n",
       "      <th>price</th>\n",
       "    </tr>\n",
       "  </thead>\n",
       "  <tbody>\n",
       "    <tr>\n",
       "      <th>0</th>\n",
       "      <td>98031</td>\n",
       "      <td>POLYGON ((-122.21842 47.43750, -122.21896 47.4...</td>\n",
       "      <td>98031</td>\n",
       "      <td>289,950.00</td>\n",
       "    </tr>\n",
       "    <tr>\n",
       "      <th>1</th>\n",
       "      <td>98032</td>\n",
       "      <td>MULTIPOLYGON (((-122.24187 47.44122, -122.2436...</td>\n",
       "      <td>98032</td>\n",
       "      <td>250,000.00</td>\n",
       "    </tr>\n",
       "    <tr>\n",
       "      <th>2</th>\n",
       "      <td>98030</td>\n",
       "      <td>POLYGON ((-122.21006 47.38692, -122.21060 47.3...</td>\n",
       "      <td>98030</td>\n",
       "      <td>285,000.00</td>\n",
       "    </tr>\n",
       "    <tr>\n",
       "      <th>3</th>\n",
       "      <td>98029</td>\n",
       "      <td>POLYGON ((-121.97642 47.58430, -121.97640 47.5...</td>\n",
       "      <td>98029</td>\n",
       "      <td>572,750.00</td>\n",
       "    </tr>\n",
       "    <tr>\n",
       "      <th>4</th>\n",
       "      <td>98028</td>\n",
       "      <td>POLYGON ((-122.22788 47.76909, -122.22777 47.7...</td>\n",
       "      <td>98028</td>\n",
       "      <td>446,000.00</td>\n",
       "    </tr>\n",
       "  </tbody>\n",
       "</table>\n",
       "</div>"
      ],
      "text/plain": [
       "  ZIPCODE                                           geometry zipcode  \\\n",
       "0   98031  POLYGON ((-122.21842 47.43750, -122.21896 47.4...   98031   \n",
       "1   98032  MULTIPOLYGON (((-122.24187 47.44122, -122.2436...   98032   \n",
       "2   98030  POLYGON ((-122.21006 47.38692, -122.21060 47.3...   98030   \n",
       "3   98029  POLYGON ((-121.97642 47.58430, -121.97640 47.5...   98029   \n",
       "4   98028  POLYGON ((-122.22788 47.76909, -122.22777 47.7...   98028   \n",
       "\n",
       "       price  \n",
       "0 289,950.00  \n",
       "1 250,000.00  \n",
       "2 285,000.00  \n",
       "3 572,750.00  \n",
       "4 446,000.00  "
      ]
     },
     "execution_count": 92,
     "metadata": {},
     "output_type": "execute_result"
    }
   ],
   "source": [
    "# Join zipcode/median price df with geos df (that has location data) \n",
    "geos = geos.merge(zip_group, left_on = 'ZIPCODE', right_on='zipcode', how='inner')\n",
    "geos.head()"
   ]
  },
  {
   "cell_type": "code",
   "execution_count": 93,
   "metadata": {
    "scrolled": true
   },
   "outputs": [],
   "source": [
    "geos.drop(['zipcode'],axis = 1, inplace=True)"
   ]
  },
  {
   "cell_type": "code",
   "execution_count": 94,
   "metadata": {},
   "outputs": [
    {
     "data": {
      "text/html": [
       "<div>\n",
       "<style scoped>\n",
       "    .dataframe tbody tr th:only-of-type {\n",
       "        vertical-align: middle;\n",
       "    }\n",
       "\n",
       "    .dataframe tbody tr th {\n",
       "        vertical-align: top;\n",
       "    }\n",
       "\n",
       "    .dataframe thead th {\n",
       "        text-align: right;\n",
       "    }\n",
       "</style>\n",
       "<table border=\"1\" class=\"dataframe\">\n",
       "  <thead>\n",
       "    <tr style=\"text-align: right;\">\n",
       "      <th></th>\n",
       "      <th>ZIPCODE</th>\n",
       "      <th>geometry</th>\n",
       "      <th>price</th>\n",
       "    </tr>\n",
       "  </thead>\n",
       "  <tbody>\n",
       "    <tr>\n",
       "      <th>0</th>\n",
       "      <td>98031</td>\n",
       "      <td>POLYGON ((-122.21842 47.43750, -122.21896 47.4...</td>\n",
       "      <td>289,950.00</td>\n",
       "    </tr>\n",
       "    <tr>\n",
       "      <th>1</th>\n",
       "      <td>98032</td>\n",
       "      <td>MULTIPOLYGON (((-122.24187 47.44122, -122.2436...</td>\n",
       "      <td>250,000.00</td>\n",
       "    </tr>\n",
       "    <tr>\n",
       "      <th>2</th>\n",
       "      <td>98030</td>\n",
       "      <td>POLYGON ((-122.21006 47.38692, -122.21060 47.3...</td>\n",
       "      <td>285,000.00</td>\n",
       "    </tr>\n",
       "    <tr>\n",
       "      <th>3</th>\n",
       "      <td>98029</td>\n",
       "      <td>POLYGON ((-121.97642 47.58430, -121.97640 47.5...</td>\n",
       "      <td>572,750.00</td>\n",
       "    </tr>\n",
       "    <tr>\n",
       "      <th>4</th>\n",
       "      <td>98028</td>\n",
       "      <td>POLYGON ((-122.22788 47.76909, -122.22777 47.7...</td>\n",
       "      <td>446,000.00</td>\n",
       "    </tr>\n",
       "  </tbody>\n",
       "</table>\n",
       "</div>"
      ],
      "text/plain": [
       "  ZIPCODE                                           geometry      price\n",
       "0   98031  POLYGON ((-122.21842 47.43750, -122.21896 47.4... 289,950.00\n",
       "1   98032  MULTIPOLYGON (((-122.24187 47.44122, -122.2436... 250,000.00\n",
       "2   98030  POLYGON ((-122.21006 47.38692, -122.21060 47.3... 285,000.00\n",
       "3   98029  POLYGON ((-121.97642 47.58430, -121.97640 47.5... 572,750.00\n",
       "4   98028  POLYGON ((-122.22788 47.76909, -122.22777 47.7... 446,000.00"
      ]
     },
     "execution_count": 94,
     "metadata": {},
     "output_type": "execute_result"
    }
   ],
   "source": [
    "geos.head()"
   ]
  },
  {
   "cell_type": "code",
   "execution_count": 104,
   "metadata": {
    "scrolled": true
   },
   "outputs": [
    {
     "data": {
      "text/plain": [
       "<folium.map.LayerControl at 0x7f994ddf3bb0>"
      ]
     },
     "execution_count": 104,
     "metadata": {},
     "output_type": "execute_result"
    }
   ],
   "source": [
    "# Visualize relationship between zip code and median house price \n",
    "\n",
    "# Initiate folium map \n",
    "Seattle_map = folium.Map(location = [47.608013,-122.335167], zoom_start = 10)\n",
    "\n",
    "# Change map to grayed-out version \n",
    "folium.TileLayer('CartoDB positron',name=\"Light Map\",control=False).add_to(Seattle_map)\n",
    "\n",
    "# Create colormap \n",
    "colormap = cm.linear.YlGnBu_09.to_step(data=geos['price'], method='quant', quantiles=[0,0.1,0.75,0.9,0.98,1])\n",
    "colormap\n",
    "\n",
    "# Creating a choropleth map \n",
    "folium.Choropleth(\n",
    "            geo_data = geos,\n",
    "            fill_opacity = 0.7,\n",
    "            line_opacity = 0.2,\n",
    "            data = geos,\n",
    "            #refers to which key within json file to map zip to\n",
    "            key_on = 'feature.properties.ZIPCODE',\n",
    "            # first element is location, second element is price\n",
    "            columns = ['ZIPCODE', 'price'],\n",
    "            # change the colormap to whatever you want, the diverging maps work well for price\n",
    "            fill_color = 'YlGnBu',\n",
    "            legend_name = 'Price'\n",
    ").add_to(Seattle_map)\n",
    "\n",
    "style_function = lambda x: {'fillColor': '#ffffff', \n",
    "                            'color':'#000000', \n",
    "                            'fillOpacity': 0.1, \n",
    "                            'weight': 0.1}\n",
    "highlight_function = lambda x: {'fillColor': '#000000', \n",
    "                                'color':'#000000', \n",
    "                                'fillOpacity': 0.50, \n",
    "                                'weight': 0.1}\n",
    "\n",
    "NIL = folium.features.GeoJson(\n",
    "    data = geos,\n",
    "    style_function=style_function, \n",
    "    control=False,\n",
    "    highlight_function=highlight_function, \n",
    "    tooltip=folium.features.GeoJsonTooltip(\n",
    "        fields=['ZIPCODE', 'price'],\n",
    "        aliases=['Zipcode', 'Median Price'],\n",
    "        style=(\"background-color: white; color: #333333; font-family: arial; font-size: 12px; padding: 10px;\") \n",
    "    )\n",
    ")\n",
    "Seattle_map.add_child(NIL)\n",
    "Seattle_map.keep_in_front(NIL)\n",
    "\n",
    "folium.LayerControl().add_to(Seattle_map)\n",
    "#Seattle_map.save('data/zipcode_price_map.html')\n",
    "\n",
    "#Seattle_map"
   ]
  },
  {
   "cell_type": "code",
   "execution_count": 105,
   "metadata": {},
   "outputs": [
    {
     "data": {
      "text/html": [
       "\n",
       "        <iframe\n",
       "            width=\"950\"\n",
       "            height=\"600\"\n",
       "            src=\"data/zipcode_price_map.html\"\n",
       "            frameborder=\"0\"\n",
       "            allowfullscreen\n",
       "        ></iframe>\n",
       "        "
      ],
      "text/plain": [
       "<IPython.lib.display.IFrame at 0x7f994ff004c0>"
      ]
     },
     "execution_count": 105,
     "metadata": {},
     "output_type": "execute_result"
    }
   ],
   "source": [
    "from IPython.display import IFrame\n",
    "\n",
    "IFrame(src='data/zipcode_price_map.html', width=950, height=600)"
   ]
  },
  {
   "cell_type": "markdown",
   "metadata": {},
   "source": [
    "## Back to Modeling"
   ]
  },
  {
   "cell_type": "code",
   "execution_count": 106,
   "metadata": {},
   "outputs": [
    {
     "data": {
      "text/plain": [
       "(17276, 13)"
      ]
     },
     "execution_count": 106,
     "metadata": {},
     "output_type": "execute_result"
    }
   ],
   "source": [
    "# Joined_zip is the training data for iteration 2\n",
    "joined_zip.shape"
   ]
  },
  {
   "cell_type": "code",
   "execution_count": 107,
   "metadata": {
    "scrolled": true
   },
   "outputs": [
    {
     "data": {
      "text/html": [
       "<div>\n",
       "<style scoped>\n",
       "    .dataframe tbody tr th:only-of-type {\n",
       "        vertical-align: middle;\n",
       "    }\n",
       "\n",
       "    .dataframe tbody tr th {\n",
       "        vertical-align: top;\n",
       "    }\n",
       "\n",
       "    .dataframe thead th {\n",
       "        text-align: right;\n",
       "    }\n",
       "</style>\n",
       "<table border=\"1\" class=\"dataframe\">\n",
       "  <thead>\n",
       "    <tr style=\"text-align: right;\">\n",
       "      <th></th>\n",
       "      <th>index</th>\n",
       "      <th>zipcode</th>\n",
       "      <th>price_x</th>\n",
       "      <th>bedrooms</th>\n",
       "      <th>bathrooms</th>\n",
       "      <th>sqft_living</th>\n",
       "      <th>sqft_lot</th>\n",
       "      <th>floors</th>\n",
       "      <th>condition</th>\n",
       "      <th>grade</th>\n",
       "      <th>yr_built</th>\n",
       "      <th>sqft_living15</th>\n",
       "      <th>price_y</th>\n",
       "    </tr>\n",
       "  </thead>\n",
       "  <tbody>\n",
       "    <tr>\n",
       "      <th>0</th>\n",
       "      <td>0</td>\n",
       "      <td>98001</td>\n",
       "      <td>264,750.00</td>\n",
       "      <td>2</td>\n",
       "      <td>1.75</td>\n",
       "      <td>1220</td>\n",
       "      <td>15600</td>\n",
       "      <td>1.00</td>\n",
       "      <td>3</td>\n",
       "      <td>6</td>\n",
       "      <td>1972</td>\n",
       "      <td>1510</td>\n",
       "      <td>215,500.00</td>\n",
       "    </tr>\n",
       "    <tr>\n",
       "      <th>1</th>\n",
       "      <td>1</td>\n",
       "      <td>98001</td>\n",
       "      <td>264,750.00</td>\n",
       "      <td>4</td>\n",
       "      <td>2.50</td>\n",
       "      <td>2400</td>\n",
       "      <td>4596</td>\n",
       "      <td>2.00</td>\n",
       "      <td>3</td>\n",
       "      <td>8</td>\n",
       "      <td>2004</td>\n",
       "      <td>2230</td>\n",
       "      <td>280,000.00</td>\n",
       "    </tr>\n",
       "    <tr>\n",
       "      <th>2</th>\n",
       "      <td>2</td>\n",
       "      <td>98001</td>\n",
       "      <td>264,750.00</td>\n",
       "      <td>5</td>\n",
       "      <td>1.75</td>\n",
       "      <td>1950</td>\n",
       "      <td>8720</td>\n",
       "      <td>1.00</td>\n",
       "      <td>3</td>\n",
       "      <td>7</td>\n",
       "      <td>1962</td>\n",
       "      <td>1660</td>\n",
       "      <td>274,000.00</td>\n",
       "    </tr>\n",
       "    <tr>\n",
       "      <th>3</th>\n",
       "      <td>3</td>\n",
       "      <td>98001</td>\n",
       "      <td>264,750.00</td>\n",
       "      <td>3</td>\n",
       "      <td>1.00</td>\n",
       "      <td>1390</td>\n",
       "      <td>16000</td>\n",
       "      <td>1.00</td>\n",
       "      <td>4</td>\n",
       "      <td>6</td>\n",
       "      <td>1960</td>\n",
       "      <td>1420</td>\n",
       "      <td>230,000.00</td>\n",
       "    </tr>\n",
       "    <tr>\n",
       "      <th>4</th>\n",
       "      <td>4</td>\n",
       "      <td>98001</td>\n",
       "      <td>264,750.00</td>\n",
       "      <td>4</td>\n",
       "      <td>1.75</td>\n",
       "      <td>1790</td>\n",
       "      <td>12000</td>\n",
       "      <td>1.00</td>\n",
       "      <td>5</td>\n",
       "      <td>6</td>\n",
       "      <td>1944</td>\n",
       "      <td>1550</td>\n",
       "      <td>199,900.00</td>\n",
       "    </tr>\n",
       "  </tbody>\n",
       "</table>\n",
       "</div>"
      ],
      "text/plain": [
       "   index  zipcode    price_x  bedrooms  bathrooms  sqft_living  sqft_lot  \\\n",
       "0      0    98001 264,750.00         2       1.75         1220     15600   \n",
       "1      1    98001 264,750.00         4       2.50         2400      4596   \n",
       "2      2    98001 264,750.00         5       1.75         1950      8720   \n",
       "3      3    98001 264,750.00         3       1.00         1390     16000   \n",
       "4      4    98001 264,750.00         4       1.75         1790     12000   \n",
       "\n",
       "   floors  condition  grade  yr_built  sqft_living15    price_y  \n",
       "0    1.00          3      6      1972           1510 215,500.00  \n",
       "1    2.00          3      8      2004           2230 280,000.00  \n",
       "2    1.00          3      7      1962           1660 274,000.00  \n",
       "3    1.00          4      6      1960           1420 230,000.00  \n",
       "4    1.00          5      6      1944           1550 199,900.00  "
      ]
     },
     "execution_count": 107,
     "metadata": {},
     "output_type": "execute_result"
    }
   ],
   "source": [
    "joined_zip.head()"
   ]
  },
  {
   "cell_type": "code",
   "execution_count": 108,
   "metadata": {},
   "outputs": [
    {
     "data": {
      "text/html": [
       "<div>\n",
       "<style scoped>\n",
       "    .dataframe tbody tr th:only-of-type {\n",
       "        vertical-align: middle;\n",
       "    }\n",
       "\n",
       "    .dataframe tbody tr th {\n",
       "        vertical-align: top;\n",
       "    }\n",
       "\n",
       "    .dataframe thead th {\n",
       "        text-align: right;\n",
       "    }\n",
       "</style>\n",
       "<table border=\"1\" class=\"dataframe\">\n",
       "  <thead>\n",
       "    <tr style=\"text-align: right;\">\n",
       "      <th></th>\n",
       "      <th>index</th>\n",
       "      <th>zipcode</th>\n",
       "      <th>med_price_for_zip</th>\n",
       "      <th>bedrooms</th>\n",
       "      <th>bathrooms</th>\n",
       "      <th>sqft_living</th>\n",
       "      <th>sqft_lot</th>\n",
       "      <th>floors</th>\n",
       "      <th>condition</th>\n",
       "      <th>grade</th>\n",
       "      <th>yr_built</th>\n",
       "      <th>sqft_living15</th>\n",
       "      <th>price_y</th>\n",
       "    </tr>\n",
       "  </thead>\n",
       "  <tbody>\n",
       "    <tr>\n",
       "      <th>0</th>\n",
       "      <td>0</td>\n",
       "      <td>98001</td>\n",
       "      <td>264,750.00</td>\n",
       "      <td>2</td>\n",
       "      <td>1.75</td>\n",
       "      <td>1220</td>\n",
       "      <td>15600</td>\n",
       "      <td>1.00</td>\n",
       "      <td>3</td>\n",
       "      <td>6</td>\n",
       "      <td>1972</td>\n",
       "      <td>1510</td>\n",
       "      <td>215,500.00</td>\n",
       "    </tr>\n",
       "    <tr>\n",
       "      <th>1</th>\n",
       "      <td>1</td>\n",
       "      <td>98001</td>\n",
       "      <td>264,750.00</td>\n",
       "      <td>4</td>\n",
       "      <td>2.50</td>\n",
       "      <td>2400</td>\n",
       "      <td>4596</td>\n",
       "      <td>2.00</td>\n",
       "      <td>3</td>\n",
       "      <td>8</td>\n",
       "      <td>2004</td>\n",
       "      <td>2230</td>\n",
       "      <td>280,000.00</td>\n",
       "    </tr>\n",
       "    <tr>\n",
       "      <th>2</th>\n",
       "      <td>2</td>\n",
       "      <td>98001</td>\n",
       "      <td>264,750.00</td>\n",
       "      <td>5</td>\n",
       "      <td>1.75</td>\n",
       "      <td>1950</td>\n",
       "      <td>8720</td>\n",
       "      <td>1.00</td>\n",
       "      <td>3</td>\n",
       "      <td>7</td>\n",
       "      <td>1962</td>\n",
       "      <td>1660</td>\n",
       "      <td>274,000.00</td>\n",
       "    </tr>\n",
       "    <tr>\n",
       "      <th>3</th>\n",
       "      <td>3</td>\n",
       "      <td>98001</td>\n",
       "      <td>264,750.00</td>\n",
       "      <td>3</td>\n",
       "      <td>1.00</td>\n",
       "      <td>1390</td>\n",
       "      <td>16000</td>\n",
       "      <td>1.00</td>\n",
       "      <td>4</td>\n",
       "      <td>6</td>\n",
       "      <td>1960</td>\n",
       "      <td>1420</td>\n",
       "      <td>230,000.00</td>\n",
       "    </tr>\n",
       "    <tr>\n",
       "      <th>4</th>\n",
       "      <td>4</td>\n",
       "      <td>98001</td>\n",
       "      <td>264,750.00</td>\n",
       "      <td>4</td>\n",
       "      <td>1.75</td>\n",
       "      <td>1790</td>\n",
       "      <td>12000</td>\n",
       "      <td>1.00</td>\n",
       "      <td>5</td>\n",
       "      <td>6</td>\n",
       "      <td>1944</td>\n",
       "      <td>1550</td>\n",
       "      <td>199,900.00</td>\n",
       "    </tr>\n",
       "  </tbody>\n",
       "</table>\n",
       "</div>"
      ],
      "text/plain": [
       "   index  zipcode  med_price_for_zip  bedrooms  bathrooms  sqft_living  \\\n",
       "0      0    98001         264,750.00         2       1.75         1220   \n",
       "1      1    98001         264,750.00         4       2.50         2400   \n",
       "2      2    98001         264,750.00         5       1.75         1950   \n",
       "3      3    98001         264,750.00         3       1.00         1390   \n",
       "4      4    98001         264,750.00         4       1.75         1790   \n",
       "\n",
       "   sqft_lot  floors  condition  grade  yr_built  sqft_living15    price_y  \n",
       "0     15600    1.00          3      6      1972           1510 215,500.00  \n",
       "1      4596    2.00          3      8      2004           2230 280,000.00  \n",
       "2      8720    1.00          3      7      1962           1660 274,000.00  \n",
       "3     16000    1.00          4      6      1960           1420 230,000.00  \n",
       "4     12000    1.00          5      6      1944           1550 199,900.00  "
      ]
     },
     "execution_count": 108,
     "metadata": {},
     "output_type": "execute_result"
    }
   ],
   "source": [
    "# Rename price_x column as median price per zipcode \n",
    "joined_zip = joined_zip.rename(columns={\"price_x\": \"med_price_for_zip\"})\n",
    "joined_zip.head()"
   ]
  },
  {
   "cell_type": "code",
   "execution_count": 109,
   "metadata": {
    "scrolled": true
   },
   "outputs": [
    {
     "data": {
      "text/html": [
       "<div>\n",
       "<style scoped>\n",
       "    .dataframe tbody tr th:only-of-type {\n",
       "        vertical-align: middle;\n",
       "    }\n",
       "\n",
       "    .dataframe tbody tr th {\n",
       "        vertical-align: top;\n",
       "    }\n",
       "\n",
       "    .dataframe thead th {\n",
       "        text-align: right;\n",
       "    }\n",
       "</style>\n",
       "<table border=\"1\" class=\"dataframe\">\n",
       "  <thead>\n",
       "    <tr style=\"text-align: right;\">\n",
       "      <th></th>\n",
       "      <th>med_price_for_zip</th>\n",
       "      <th>bedrooms</th>\n",
       "      <th>bathrooms</th>\n",
       "      <th>sqft_living</th>\n",
       "      <th>sqft_lot</th>\n",
       "      <th>floors</th>\n",
       "      <th>condition</th>\n",
       "      <th>grade</th>\n",
       "      <th>yr_built</th>\n",
       "      <th>sqft_living15</th>\n",
       "      <th>price_y</th>\n",
       "    </tr>\n",
       "  </thead>\n",
       "  <tbody>\n",
       "    <tr>\n",
       "      <th>0</th>\n",
       "      <td>264,750.00</td>\n",
       "      <td>2</td>\n",
       "      <td>1.75</td>\n",
       "      <td>1220</td>\n",
       "      <td>15600</td>\n",
       "      <td>1.00</td>\n",
       "      <td>3</td>\n",
       "      <td>6</td>\n",
       "      <td>1972</td>\n",
       "      <td>1510</td>\n",
       "      <td>215,500.00</td>\n",
       "    </tr>\n",
       "    <tr>\n",
       "      <th>1</th>\n",
       "      <td>264,750.00</td>\n",
       "      <td>4</td>\n",
       "      <td>2.50</td>\n",
       "      <td>2400</td>\n",
       "      <td>4596</td>\n",
       "      <td>2.00</td>\n",
       "      <td>3</td>\n",
       "      <td>8</td>\n",
       "      <td>2004</td>\n",
       "      <td>2230</td>\n",
       "      <td>280,000.00</td>\n",
       "    </tr>\n",
       "    <tr>\n",
       "      <th>2</th>\n",
       "      <td>264,750.00</td>\n",
       "      <td>5</td>\n",
       "      <td>1.75</td>\n",
       "      <td>1950</td>\n",
       "      <td>8720</td>\n",
       "      <td>1.00</td>\n",
       "      <td>3</td>\n",
       "      <td>7</td>\n",
       "      <td>1962</td>\n",
       "      <td>1660</td>\n",
       "      <td>274,000.00</td>\n",
       "    </tr>\n",
       "    <tr>\n",
       "      <th>3</th>\n",
       "      <td>264,750.00</td>\n",
       "      <td>3</td>\n",
       "      <td>1.00</td>\n",
       "      <td>1390</td>\n",
       "      <td>16000</td>\n",
       "      <td>1.00</td>\n",
       "      <td>4</td>\n",
       "      <td>6</td>\n",
       "      <td>1960</td>\n",
       "      <td>1420</td>\n",
       "      <td>230,000.00</td>\n",
       "    </tr>\n",
       "    <tr>\n",
       "      <th>4</th>\n",
       "      <td>264,750.00</td>\n",
       "      <td>4</td>\n",
       "      <td>1.75</td>\n",
       "      <td>1790</td>\n",
       "      <td>12000</td>\n",
       "      <td>1.00</td>\n",
       "      <td>5</td>\n",
       "      <td>6</td>\n",
       "      <td>1944</td>\n",
       "      <td>1550</td>\n",
       "      <td>199,900.00</td>\n",
       "    </tr>\n",
       "  </tbody>\n",
       "</table>\n",
       "</div>"
      ],
      "text/plain": [
       "   med_price_for_zip  bedrooms  bathrooms  sqft_living  sqft_lot  floors  \\\n",
       "0         264,750.00         2       1.75         1220     15600    1.00   \n",
       "1         264,750.00         4       2.50         2400      4596    2.00   \n",
       "2         264,750.00         5       1.75         1950      8720    1.00   \n",
       "3         264,750.00         3       1.00         1390     16000    1.00   \n",
       "4         264,750.00         4       1.75         1790     12000    1.00   \n",
       "\n",
       "   condition  grade  yr_built  sqft_living15    price_y  \n",
       "0          3      6      1972           1510 215,500.00  \n",
       "1          3      8      2004           2230 280,000.00  \n",
       "2          3      7      1962           1660 274,000.00  \n",
       "3          4      6      1960           1420 230,000.00  \n",
       "4          5      6      1944           1550 199,900.00  "
      ]
     },
     "execution_count": 109,
     "metadata": {},
     "output_type": "execute_result"
    }
   ],
   "source": [
    "# Drop zipcode and index columns\n",
    "trained_zip = joined_zip.drop(['index', 'zipcode'], axis=1)\n",
    "trained_zip.head()"
   ]
  },
  {
   "cell_type": "code",
   "execution_count": 110,
   "metadata": {
    "scrolled": true
   },
   "outputs": [
    {
     "data": {
      "text/html": [
       "<div>\n",
       "<style scoped>\n",
       "    .dataframe tbody tr th:only-of-type {\n",
       "        vertical-align: middle;\n",
       "    }\n",
       "\n",
       "    .dataframe tbody tr th {\n",
       "        vertical-align: top;\n",
       "    }\n",
       "\n",
       "    .dataframe thead th {\n",
       "        text-align: right;\n",
       "    }\n",
       "</style>\n",
       "<table border=\"1\" class=\"dataframe\">\n",
       "  <thead>\n",
       "    <tr style=\"text-align: right;\">\n",
       "      <th></th>\n",
       "      <th>index</th>\n",
       "      <th>zipcode</th>\n",
       "      <th>med_price_for_zip</th>\n",
       "      <th>bedrooms</th>\n",
       "      <th>bathrooms</th>\n",
       "      <th>sqft_living</th>\n",
       "      <th>sqft_lot</th>\n",
       "      <th>floors</th>\n",
       "      <th>condition</th>\n",
       "      <th>grade</th>\n",
       "      <th>yr_built</th>\n",
       "      <th>sqft_living15</th>\n",
       "      <th>price_y</th>\n",
       "    </tr>\n",
       "  </thead>\n",
       "  <tbody>\n",
       "    <tr>\n",
       "      <th>0</th>\n",
       "      <td>0</td>\n",
       "      <td>98001</td>\n",
       "      <td>264,750.00</td>\n",
       "      <td>3</td>\n",
       "      <td>1.75</td>\n",
       "      <td>2170</td>\n",
       "      <td>10018</td>\n",
       "      <td>1.00</td>\n",
       "      <td>4</td>\n",
       "      <td>7</td>\n",
       "      <td>1978</td>\n",
       "      <td>2049</td>\n",
       "      <td>260,000.00</td>\n",
       "    </tr>\n",
       "    <tr>\n",
       "      <th>1</th>\n",
       "      <td>1</td>\n",
       "      <td>98001</td>\n",
       "      <td>264,750.00</td>\n",
       "      <td>3</td>\n",
       "      <td>1.00</td>\n",
       "      <td>1150</td>\n",
       "      <td>6480</td>\n",
       "      <td>1.50</td>\n",
       "      <td>4</td>\n",
       "      <td>5</td>\n",
       "      <td>1946</td>\n",
       "      <td>1100</td>\n",
       "      <td>171,500.00</td>\n",
       "    </tr>\n",
       "    <tr>\n",
       "      <th>2</th>\n",
       "      <td>2</td>\n",
       "      <td>98001</td>\n",
       "      <td>264,750.00</td>\n",
       "      <td>3</td>\n",
       "      <td>2.00</td>\n",
       "      <td>1050</td>\n",
       "      <td>18304</td>\n",
       "      <td>1.00</td>\n",
       "      <td>4</td>\n",
       "      <td>7</td>\n",
       "      <td>1953</td>\n",
       "      <td>1690</td>\n",
       "      <td>250,000.00</td>\n",
       "    </tr>\n",
       "    <tr>\n",
       "      <th>3</th>\n",
       "      <td>3</td>\n",
       "      <td>98001</td>\n",
       "      <td>264,750.00</td>\n",
       "      <td>5</td>\n",
       "      <td>2.50</td>\n",
       "      <td>2406</td>\n",
       "      <td>7093</td>\n",
       "      <td>2.00</td>\n",
       "      <td>3</td>\n",
       "      <td>8</td>\n",
       "      <td>2006</td>\n",
       "      <td>1767</td>\n",
       "      <td>270,500.00</td>\n",
       "    </tr>\n",
       "    <tr>\n",
       "      <th>4</th>\n",
       "      <td>4</td>\n",
       "      <td>98001</td>\n",
       "      <td>264,750.00</td>\n",
       "      <td>3</td>\n",
       "      <td>2.25</td>\n",
       "      <td>1830</td>\n",
       "      <td>11331</td>\n",
       "      <td>1.00</td>\n",
       "      <td>3</td>\n",
       "      <td>7</td>\n",
       "      <td>1965</td>\n",
       "      <td>2240</td>\n",
       "      <td>230,000.00</td>\n",
       "    </tr>\n",
       "  </tbody>\n",
       "</table>\n",
       "</div>"
      ],
      "text/plain": [
       "   index  zipcode  med_price_for_zip  bedrooms  bathrooms  sqft_living  \\\n",
       "0      0    98001         264,750.00         3       1.75         2170   \n",
       "1      1    98001         264,750.00         3       1.00         1150   \n",
       "2      2    98001         264,750.00         3       2.00         1050   \n",
       "3      3    98001         264,750.00         5       2.50         2406   \n",
       "4      4    98001         264,750.00         3       2.25         1830   \n",
       "\n",
       "   sqft_lot  floors  condition  grade  yr_built  sqft_living15    price_y  \n",
       "0     10018    1.00          4      7      1978           2049 260,000.00  \n",
       "1      6480    1.50          4      5      1946           1100 171,500.00  \n",
       "2     18304    1.00          4      7      1953           1690 250,000.00  \n",
       "3      7093    2.00          3      8      2006           1767 270,500.00  \n",
       "4     11331    1.00          3      7      1965           2240 230,000.00  "
      ]
     },
     "execution_count": 110,
     "metadata": {},
     "output_type": "execute_result"
    }
   ],
   "source": [
    "# Do the same with test data\n",
    "test_zip = joined_test_zip.rename(columns={\"price_x\": \"med_price_for_zip\"})\n",
    "test_zip.head()"
   ]
  },
  {
   "cell_type": "code",
   "execution_count": 111,
   "metadata": {},
   "outputs": [
    {
     "data": {
      "text/html": [
       "<div>\n",
       "<style scoped>\n",
       "    .dataframe tbody tr th:only-of-type {\n",
       "        vertical-align: middle;\n",
       "    }\n",
       "\n",
       "    .dataframe tbody tr th {\n",
       "        vertical-align: top;\n",
       "    }\n",
       "\n",
       "    .dataframe thead th {\n",
       "        text-align: right;\n",
       "    }\n",
       "</style>\n",
       "<table border=\"1\" class=\"dataframe\">\n",
       "  <thead>\n",
       "    <tr style=\"text-align: right;\">\n",
       "      <th></th>\n",
       "      <th>price_x</th>\n",
       "      <th>bedrooms</th>\n",
       "      <th>bathrooms</th>\n",
       "      <th>sqft_living</th>\n",
       "      <th>sqft_lot</th>\n",
       "      <th>floors</th>\n",
       "      <th>condition</th>\n",
       "      <th>grade</th>\n",
       "      <th>yr_built</th>\n",
       "      <th>sqft_living15</th>\n",
       "      <th>price_y</th>\n",
       "    </tr>\n",
       "  </thead>\n",
       "  <tbody>\n",
       "    <tr>\n",
       "      <th>0</th>\n",
       "      <td>264,750.00</td>\n",
       "      <td>3</td>\n",
       "      <td>1.75</td>\n",
       "      <td>2170</td>\n",
       "      <td>10018</td>\n",
       "      <td>1.00</td>\n",
       "      <td>4</td>\n",
       "      <td>7</td>\n",
       "      <td>1978</td>\n",
       "      <td>2049</td>\n",
       "      <td>260,000.00</td>\n",
       "    </tr>\n",
       "    <tr>\n",
       "      <th>1</th>\n",
       "      <td>264,750.00</td>\n",
       "      <td>3</td>\n",
       "      <td>1.00</td>\n",
       "      <td>1150</td>\n",
       "      <td>6480</td>\n",
       "      <td>1.50</td>\n",
       "      <td>4</td>\n",
       "      <td>5</td>\n",
       "      <td>1946</td>\n",
       "      <td>1100</td>\n",
       "      <td>171,500.00</td>\n",
       "    </tr>\n",
       "    <tr>\n",
       "      <th>2</th>\n",
       "      <td>264,750.00</td>\n",
       "      <td>3</td>\n",
       "      <td>2.00</td>\n",
       "      <td>1050</td>\n",
       "      <td>18304</td>\n",
       "      <td>1.00</td>\n",
       "      <td>4</td>\n",
       "      <td>7</td>\n",
       "      <td>1953</td>\n",
       "      <td>1690</td>\n",
       "      <td>250,000.00</td>\n",
       "    </tr>\n",
       "    <tr>\n",
       "      <th>3</th>\n",
       "      <td>264,750.00</td>\n",
       "      <td>5</td>\n",
       "      <td>2.50</td>\n",
       "      <td>2406</td>\n",
       "      <td>7093</td>\n",
       "      <td>2.00</td>\n",
       "      <td>3</td>\n",
       "      <td>8</td>\n",
       "      <td>2006</td>\n",
       "      <td>1767</td>\n",
       "      <td>270,500.00</td>\n",
       "    </tr>\n",
       "    <tr>\n",
       "      <th>4</th>\n",
       "      <td>264,750.00</td>\n",
       "      <td>3</td>\n",
       "      <td>2.25</td>\n",
       "      <td>1830</td>\n",
       "      <td>11331</td>\n",
       "      <td>1.00</td>\n",
       "      <td>3</td>\n",
       "      <td>7</td>\n",
       "      <td>1965</td>\n",
       "      <td>2240</td>\n",
       "      <td>230,000.00</td>\n",
       "    </tr>\n",
       "  </tbody>\n",
       "</table>\n",
       "</div>"
      ],
      "text/plain": [
       "     price_x  bedrooms  bathrooms  sqft_living  sqft_lot  floors  condition  \\\n",
       "0 264,750.00         3       1.75         2170     10018    1.00          4   \n",
       "1 264,750.00         3       1.00         1150      6480    1.50          4   \n",
       "2 264,750.00         3       2.00         1050     18304    1.00          4   \n",
       "3 264,750.00         5       2.50         2406      7093    2.00          3   \n",
       "4 264,750.00         3       2.25         1830     11331    1.00          3   \n",
       "\n",
       "   grade  yr_built  sqft_living15    price_y  \n",
       "0      7      1978           2049 260,000.00  \n",
       "1      5      1946           1100 171,500.00  \n",
       "2      7      1953           1690 250,000.00  \n",
       "3      8      2006           1767 270,500.00  \n",
       "4      7      1965           2240 230,000.00  "
      ]
     },
     "execution_count": 111,
     "metadata": {},
     "output_type": "execute_result"
    }
   ],
   "source": [
    "test_zip = joined_test_zip.drop(['index', 'zipcode'], axis=1)\n",
    "test_zip.head()"
   ]
  },
  {
   "cell_type": "code",
   "execution_count": 112,
   "metadata": {},
   "outputs": [],
   "source": [
    "# Divide data in to x predictors and y targets \n",
    "# divide dataset into X predictors and y target\n",
    "X_test_zip = test_zip.drop(['price_y'], axis=1)\n",
    "y_test_zip = test_zip[['price_y']]\n",
    "\n",
    "X_trained_zip = trained_zip.drop(['price_y'], axis=1)\n",
    "y_trained_zip = trained_zip[['price_y']]"
   ]
  },
  {
   "cell_type": "code",
   "execution_count": 113,
   "metadata": {},
   "outputs": [],
   "source": [
    "# Train our scaler on training data, then fit to testing\n",
    "X_trained_zip_scaled = scaler.fit_transform(X_trained_zip)\n",
    "X_test_zip_scaled = scaler.transform(X_test_zip)"
   ]
  },
  {
   "cell_type": "code",
   "execution_count": 114,
   "metadata": {},
   "outputs": [
    {
     "data": {
      "text/plain": [
       "LinearRegression()"
      ]
     },
     "execution_count": 114,
     "metadata": {},
     "output_type": "execute_result"
    }
   ],
   "source": [
    "# Fit our model on our scaled data\n",
    "lr.fit(X_trained_zip_scaled, y_trained_zip)"
   ]
  },
  {
   "cell_type": "code",
   "execution_count": 115,
   "metadata": {},
   "outputs": [
    {
     "name": "stdout",
     "output_type": "stream",
     "text": [
      "Training Scores:\n",
      "R2: 0.7363291865117058\n",
      "Mean Absolute Error: 112465.36617955659\n",
      "---\n",
      "Testing Scores:\n",
      "R2: 0.7229711101210686\n",
      "Mean Absolute Error: 111841.20169660255\n"
     ]
    }
   ],
   "source": [
    "# Evaluate\n",
    "y_train_pred = lr.predict(X_trained_zip_scaled)\n",
    "y_test_pred = lr.predict(X_test_zip_scaled)\n",
    "\n",
    "print(\"Training Scores:\")\n",
    "print(f\"R2: {r2_score(y_trained_zip, y_train_pred)}\")\n",
    "print(f\"Mean Absolute Error: {mean_absolute_error(y_trained_zip, y_train_pred)}\")\n",
    "print(\"---\")\n",
    "print(\"Testing Scores:\")\n",
    "print(f\"R2: {r2_score(y_test_zip, y_test_pred)}\")\n",
    "print(f\"Mean Absolute Error: {mean_absolute_error(y_test_zip, y_test_pred)}\")"
   ]
  },
  {
   "cell_type": "markdown",
   "metadata": {},
   "source": [
    "* A little better than our FSM\n",
    "* Training now higher than testing, which is an indication of overfitting \n",
    "* MAE went down slightly which is a good sign\n",
    "* MAE a little less than half of one standard deviation"
   ]
  },
  {
   "cell_type": "markdown",
   "metadata": {},
   "source": [
    "# 6. Checking Some Assumptions"
   ]
  },
  {
   "cell_type": "code",
   "execution_count": 116,
   "metadata": {},
   "outputs": [],
   "source": [
    "# Check for linearity and multicollinearity with sns pairplot\n",
    "#sns.pairplot(trained_zip)"
   ]
  },
  {
   "cell_type": "markdown",
   "metadata": {},
   "source": [
    "* No x variables look especially multicollinear... \n",
    "* Squareft_living15, sqft_living and bathrooms look to be the most linearly related"
   ]
  },
  {
   "cell_type": "code",
   "execution_count": 117,
   "metadata": {},
   "outputs": [
    {
     "data": {
      "text/html": [
       "<div>\n",
       "<style scoped>\n",
       "    .dataframe tbody tr th:only-of-type {\n",
       "        vertical-align: middle;\n",
       "    }\n",
       "\n",
       "    .dataframe tbody tr th {\n",
       "        vertical-align: top;\n",
       "    }\n",
       "\n",
       "    .dataframe thead th {\n",
       "        text-align: right;\n",
       "    }\n",
       "</style>\n",
       "<table border=\"1\" class=\"dataframe\">\n",
       "  <thead>\n",
       "    <tr style=\"text-align: right;\">\n",
       "      <th></th>\n",
       "      <th>med_price_for_zip</th>\n",
       "      <th>bedrooms</th>\n",
       "      <th>bathrooms</th>\n",
       "      <th>sqft_living</th>\n",
       "      <th>sqft_lot</th>\n",
       "      <th>floors</th>\n",
       "      <th>condition</th>\n",
       "      <th>grade</th>\n",
       "      <th>yr_built</th>\n",
       "      <th>sqft_living15</th>\n",
       "      <th>price_y</th>\n",
       "    </tr>\n",
       "  </thead>\n",
       "  <tbody>\n",
       "    <tr>\n",
       "      <th>med_price_for_zip</th>\n",
       "      <td>1.00</td>\n",
       "      <td>0.12</td>\n",
       "      <td>0.24</td>\n",
       "      <td>0.31</td>\n",
       "      <td>-0.03</td>\n",
       "      <td>0.15</td>\n",
       "      <td>0.04</td>\n",
       "      <td>0.38</td>\n",
       "      <td>-0.04</td>\n",
       "      <td>0.35</td>\n",
       "      <td>0.64</td>\n",
       "    </tr>\n",
       "    <tr>\n",
       "      <th>bedrooms</th>\n",
       "      <td>0.12</td>\n",
       "      <td>1.00</td>\n",
       "      <td>0.53</td>\n",
       "      <td>0.59</td>\n",
       "      <td>0.04</td>\n",
       "      <td>0.18</td>\n",
       "      <td>0.02</td>\n",
       "      <td>0.36</td>\n",
       "      <td>0.16</td>\n",
       "      <td>0.40</td>\n",
       "      <td>0.32</td>\n",
       "    </tr>\n",
       "    <tr>\n",
       "      <th>bathrooms</th>\n",
       "      <td>0.24</td>\n",
       "      <td>0.53</td>\n",
       "      <td>1.00</td>\n",
       "      <td>0.76</td>\n",
       "      <td>0.08</td>\n",
       "      <td>0.50</td>\n",
       "      <td>-0.13</td>\n",
       "      <td>0.66</td>\n",
       "      <td>0.50</td>\n",
       "      <td>0.57</td>\n",
       "      <td>0.53</td>\n",
       "    </tr>\n",
       "    <tr>\n",
       "      <th>sqft_living</th>\n",
       "      <td>0.31</td>\n",
       "      <td>0.59</td>\n",
       "      <td>0.76</td>\n",
       "      <td>1.00</td>\n",
       "      <td>0.17</td>\n",
       "      <td>0.35</td>\n",
       "      <td>-0.06</td>\n",
       "      <td>0.76</td>\n",
       "      <td>0.31</td>\n",
       "      <td>0.76</td>\n",
       "      <td>0.70</td>\n",
       "    </tr>\n",
       "    <tr>\n",
       "      <th>sqft_lot</th>\n",
       "      <td>-0.03</td>\n",
       "      <td>0.04</td>\n",
       "      <td>0.08</td>\n",
       "      <td>0.17</td>\n",
       "      <td>1.00</td>\n",
       "      <td>-0.01</td>\n",
       "      <td>-0.01</td>\n",
       "      <td>0.11</td>\n",
       "      <td>0.05</td>\n",
       "      <td>0.15</td>\n",
       "      <td>0.09</td>\n",
       "    </tr>\n",
       "    <tr>\n",
       "      <th>floors</th>\n",
       "      <td>0.15</td>\n",
       "      <td>0.18</td>\n",
       "      <td>0.50</td>\n",
       "      <td>0.35</td>\n",
       "      <td>-0.01</td>\n",
       "      <td>1.00</td>\n",
       "      <td>-0.26</td>\n",
       "      <td>0.46</td>\n",
       "      <td>0.48</td>\n",
       "      <td>0.28</td>\n",
       "      <td>0.26</td>\n",
       "    </tr>\n",
       "    <tr>\n",
       "      <th>condition</th>\n",
       "      <td>0.04</td>\n",
       "      <td>0.02</td>\n",
       "      <td>-0.13</td>\n",
       "      <td>-0.06</td>\n",
       "      <td>-0.01</td>\n",
       "      <td>-0.26</td>\n",
       "      <td>1.00</td>\n",
       "      <td>-0.14</td>\n",
       "      <td>-0.36</td>\n",
       "      <td>-0.09</td>\n",
       "      <td>0.04</td>\n",
       "    </tr>\n",
       "    <tr>\n",
       "      <th>grade</th>\n",
       "      <td>0.38</td>\n",
       "      <td>0.36</td>\n",
       "      <td>0.66</td>\n",
       "      <td>0.76</td>\n",
       "      <td>0.11</td>\n",
       "      <td>0.46</td>\n",
       "      <td>-0.14</td>\n",
       "      <td>1.00</td>\n",
       "      <td>0.44</td>\n",
       "      <td>0.72</td>\n",
       "      <td>0.67</td>\n",
       "    </tr>\n",
       "    <tr>\n",
       "      <th>yr_built</th>\n",
       "      <td>-0.04</td>\n",
       "      <td>0.16</td>\n",
       "      <td>0.50</td>\n",
       "      <td>0.31</td>\n",
       "      <td>0.05</td>\n",
       "      <td>0.48</td>\n",
       "      <td>-0.36</td>\n",
       "      <td>0.44</td>\n",
       "      <td>1.00</td>\n",
       "      <td>0.33</td>\n",
       "      <td>0.05</td>\n",
       "    </tr>\n",
       "    <tr>\n",
       "      <th>sqft_living15</th>\n",
       "      <td>0.35</td>\n",
       "      <td>0.40</td>\n",
       "      <td>0.57</td>\n",
       "      <td>0.76</td>\n",
       "      <td>0.15</td>\n",
       "      <td>0.28</td>\n",
       "      <td>-0.09</td>\n",
       "      <td>0.72</td>\n",
       "      <td>0.33</td>\n",
       "      <td>1.00</td>\n",
       "      <td>0.59</td>\n",
       "    </tr>\n",
       "    <tr>\n",
       "      <th>price_y</th>\n",
       "      <td>0.64</td>\n",
       "      <td>0.32</td>\n",
       "      <td>0.53</td>\n",
       "      <td>0.70</td>\n",
       "      <td>0.09</td>\n",
       "      <td>0.26</td>\n",
       "      <td>0.04</td>\n",
       "      <td>0.67</td>\n",
       "      <td>0.05</td>\n",
       "      <td>0.59</td>\n",
       "      <td>1.00</td>\n",
       "    </tr>\n",
       "  </tbody>\n",
       "</table>\n",
       "</div>"
      ],
      "text/plain": [
       "                   med_price_for_zip  bedrooms  bathrooms  sqft_living  \\\n",
       "med_price_for_zip               1.00      0.12       0.24         0.31   \n",
       "bedrooms                        0.12      1.00       0.53         0.59   \n",
       "bathrooms                       0.24      0.53       1.00         0.76   \n",
       "sqft_living                     0.31      0.59       0.76         1.00   \n",
       "sqft_lot                       -0.03      0.04       0.08         0.17   \n",
       "floors                          0.15      0.18       0.50         0.35   \n",
       "condition                       0.04      0.02      -0.13        -0.06   \n",
       "grade                           0.38      0.36       0.66         0.76   \n",
       "yr_built                       -0.04      0.16       0.50         0.31   \n",
       "sqft_living15                   0.35      0.40       0.57         0.76   \n",
       "price_y                         0.64      0.32       0.53         0.70   \n",
       "\n",
       "                   sqft_lot  floors  condition  grade  yr_built  \\\n",
       "med_price_for_zip     -0.03    0.15       0.04   0.38     -0.04   \n",
       "bedrooms               0.04    0.18       0.02   0.36      0.16   \n",
       "bathrooms              0.08    0.50      -0.13   0.66      0.50   \n",
       "sqft_living            0.17    0.35      -0.06   0.76      0.31   \n",
       "sqft_lot               1.00   -0.01      -0.01   0.11      0.05   \n",
       "floors                -0.01    1.00      -0.26   0.46      0.48   \n",
       "condition             -0.01   -0.26       1.00  -0.14     -0.36   \n",
       "grade                  0.11    0.46      -0.14   1.00      0.44   \n",
       "yr_built               0.05    0.48      -0.36   0.44      1.00   \n",
       "sqft_living15          0.15    0.28      -0.09   0.72      0.33   \n",
       "price_y                0.09    0.26       0.04   0.67      0.05   \n",
       "\n",
       "                   sqft_living15  price_y  \n",
       "med_price_for_zip           0.35     0.64  \n",
       "bedrooms                    0.40     0.32  \n",
       "bathrooms                   0.57     0.53  \n",
       "sqft_living                 0.76     0.70  \n",
       "sqft_lot                    0.15     0.09  \n",
       "floors                      0.28     0.26  \n",
       "condition                  -0.09     0.04  \n",
       "grade                       0.72     0.67  \n",
       "yr_built                    0.33     0.05  \n",
       "sqft_living15               1.00     0.59  \n",
       "price_y                     0.59     1.00  "
      ]
     },
     "execution_count": 117,
     "metadata": {},
     "output_type": "execute_result"
    }
   ],
   "source": [
    "trained_zip.corr()"
   ]
  },
  {
   "cell_type": "markdown",
   "metadata": {},
   "source": [
    "* Could probably drop some columns that aren't doing as much for us - yr_built and condition, for example"
   ]
  },
  {
   "cell_type": "code",
   "execution_count": 118,
   "metadata": {
    "scrolled": true
   },
   "outputs": [
    {
     "data": {
      "image/png": "[encoded data removed]",
      "text/plain": [
       "<Figure size 576x396 with 3 Axes>"
      ]
     },
     "metadata": {},
     "output_type": "display_data"
    }
   ],
   "source": [
    "# Checking for last 3 linear assumptions - \n",
    "# errors are normally distributed, errors are homoskedastic, errors are not correlated\n",
    "from sklearn.linear_model import Ridge\n",
    "from yellowbrick.datasets import load_concrete\n",
    "from yellowbrick.regressor import ResidualsPlot\n",
    "\n",
    "model = Ridge()\n",
    "visualizer = ResidualsPlot(model)\n",
    "\n",
    "visualizer = ResidualsPlot(model, hist=True, qqplot=False)\n",
    "visualizer.fit(X_trained_zip_scaled, y_trained_zip)  # Fit the training data to the visualizer\n",
    "visualizer.score(X_test_zip_scaled, y_test_zip)  # Evaluate the model on the test data\n",
    "visualizer.show();# Finalize and render the figure"
   ]
  },
  {
   "cell_type": "markdown",
   "metadata": {},
   "source": [
    "* Errors are slightly skewed negative \n",
    "* Errors are heteroskedastic (cone shaped pattern) -> potential fix: variable transformation (log)"
   ]
  },
  {
   "cell_type": "markdown",
   "metadata": {},
   "source": [
    "# 7. Model 2 (Log-Transform)"
   ]
  },
  {
   "cell_type": "code",
   "execution_count": 119,
   "metadata": {
    "scrolled": true
   },
   "outputs": [
    {
     "data": {
      "text/html": [
       "<div>\n",
       "<style scoped>\n",
       "    .dataframe tbody tr th:only-of-type {\n",
       "        vertical-align: middle;\n",
       "    }\n",
       "\n",
       "    .dataframe tbody tr th {\n",
       "        vertical-align: top;\n",
       "    }\n",
       "\n",
       "    .dataframe thead th {\n",
       "        text-align: right;\n",
       "    }\n",
       "</style>\n",
       "<table border=\"1\" class=\"dataframe\">\n",
       "  <thead>\n",
       "    <tr style=\"text-align: right;\">\n",
       "      <th></th>\n",
       "      <th>med_price_for_zip</th>\n",
       "      <th>bedrooms</th>\n",
       "      <th>bathrooms</th>\n",
       "      <th>sqft_living</th>\n",
       "      <th>sqft_lot</th>\n",
       "      <th>floors</th>\n",
       "      <th>condition</th>\n",
       "      <th>grade</th>\n",
       "      <th>yr_built</th>\n",
       "      <th>sqft_living15</th>\n",
       "      <th>price_y</th>\n",
       "    </tr>\n",
       "  </thead>\n",
       "  <tbody>\n",
       "    <tr>\n",
       "      <th>0</th>\n",
       "      <td>264,750.00</td>\n",
       "      <td>2</td>\n",
       "      <td>1.75</td>\n",
       "      <td>1220</td>\n",
       "      <td>15600</td>\n",
       "      <td>1.00</td>\n",
       "      <td>3</td>\n",
       "      <td>6</td>\n",
       "      <td>1972</td>\n",
       "      <td>1510</td>\n",
       "      <td>215,500.00</td>\n",
       "    </tr>\n",
       "    <tr>\n",
       "      <th>1</th>\n",
       "      <td>264,750.00</td>\n",
       "      <td>4</td>\n",
       "      <td>2.50</td>\n",
       "      <td>2400</td>\n",
       "      <td>4596</td>\n",
       "      <td>2.00</td>\n",
       "      <td>3</td>\n",
       "      <td>8</td>\n",
       "      <td>2004</td>\n",
       "      <td>2230</td>\n",
       "      <td>280,000.00</td>\n",
       "    </tr>\n",
       "    <tr>\n",
       "      <th>2</th>\n",
       "      <td>264,750.00</td>\n",
       "      <td>5</td>\n",
       "      <td>1.75</td>\n",
       "      <td>1950</td>\n",
       "      <td>8720</td>\n",
       "      <td>1.00</td>\n",
       "      <td>3</td>\n",
       "      <td>7</td>\n",
       "      <td>1962</td>\n",
       "      <td>1660</td>\n",
       "      <td>274,000.00</td>\n",
       "    </tr>\n",
       "    <tr>\n",
       "      <th>3</th>\n",
       "      <td>264,750.00</td>\n",
       "      <td>3</td>\n",
       "      <td>1.00</td>\n",
       "      <td>1390</td>\n",
       "      <td>16000</td>\n",
       "      <td>1.00</td>\n",
       "      <td>4</td>\n",
       "      <td>6</td>\n",
       "      <td>1960</td>\n",
       "      <td>1420</td>\n",
       "      <td>230,000.00</td>\n",
       "    </tr>\n",
       "    <tr>\n",
       "      <th>4</th>\n",
       "      <td>264,750.00</td>\n",
       "      <td>4</td>\n",
       "      <td>1.75</td>\n",
       "      <td>1790</td>\n",
       "      <td>12000</td>\n",
       "      <td>1.00</td>\n",
       "      <td>5</td>\n",
       "      <td>6</td>\n",
       "      <td>1944</td>\n",
       "      <td>1550</td>\n",
       "      <td>199,900.00</td>\n",
       "    </tr>\n",
       "  </tbody>\n",
       "</table>\n",
       "</div>"
      ],
      "text/plain": [
       "   med_price_for_zip  bedrooms  bathrooms  sqft_living  sqft_lot  floors  \\\n",
       "0         264,750.00         2       1.75         1220     15600    1.00   \n",
       "1         264,750.00         4       2.50         2400      4596    2.00   \n",
       "2         264,750.00         5       1.75         1950      8720    1.00   \n",
       "3         264,750.00         3       1.00         1390     16000    1.00   \n",
       "4         264,750.00         4       1.75         1790     12000    1.00   \n",
       "\n",
       "   condition  grade  yr_built  sqft_living15    price_y  \n",
       "0          3      6      1972           1510 215,500.00  \n",
       "1          3      8      2004           2230 280,000.00  \n",
       "2          3      7      1962           1660 274,000.00  \n",
       "3          4      6      1960           1420 230,000.00  \n",
       "4          5      6      1944           1550 199,900.00  "
      ]
     },
     "execution_count": 119,
     "metadata": {},
     "output_type": "execute_result"
    }
   ],
   "source": [
    "trained_zip.head()"
   ]
  },
  {
   "cell_type": "code",
   "execution_count": 120,
   "metadata": {
    "scrolled": true
   },
   "outputs": [
    {
     "name": "stdout",
     "output_type": "stream",
     "text": [
      "<class 'pandas.core.frame.DataFrame'>\n",
      "RangeIndex: 17276 entries, 0 to 17275\n",
      "Data columns (total 11 columns):\n",
      " #   Column             Non-Null Count  Dtype\n",
      "---  ------             --------------  -----\n",
      " 0   med_price_for_zip  17276 non-null  int64\n",
      " 1   bedrooms           17276 non-null  int64\n",
      " 2   bathrooms          17276 non-null  int64\n",
      " 3   sqft_living        17276 non-null  int64\n",
      " 4   sqft_lot           17276 non-null  int64\n",
      " 5   floors             17276 non-null  int64\n",
      " 6   condition          17276 non-null  int64\n",
      " 7   grade              17276 non-null  int64\n",
      " 8   yr_built           17276 non-null  int64\n",
      " 9   sqft_living15      17276 non-null  int64\n",
      " 10  price_y            17276 non-null  int64\n",
      "dtypes: int64(11)\n",
      "memory usage: 1.4 MB\n"
     ]
    }
   ],
   "source": [
    "trained_zip.astype('int64').info()"
   ]
  },
  {
   "cell_type": "code",
   "execution_count": 121,
   "metadata": {},
   "outputs": [],
   "source": [
    "# Transforming non-normal features \n",
    "non_normal = ['med_price_for_zip', 'bedrooms', 'bathrooms', 'sqft_living', 'sqft_lot', 'floors','condition', 'yr_built', 'sqft_living15', 'price_y']"
   ]
  },
  {
   "cell_type": "code",
   "execution_count": 122,
   "metadata": {},
   "outputs": [],
   "source": [
    "for feat in non_normal:\n",
    "    trained_zip[feat] = trained_zip[feat].map(lambda x: np.log(x))\n",
    "#pd.plotting.scatter_matrix(x_cols, figsize=(10,12));"
   ]
  },
  {
   "cell_type": "code",
   "execution_count": 123,
   "metadata": {
    "scrolled": true
   },
   "outputs": [
    {
     "name": "stdout",
     "output_type": "stream",
     "text": [
      "0\n"
     ]
    }
   ],
   "source": [
    "# Checking for infinity values\n",
    "ds = trained_zip.isin([np.inf, -np.inf]).values.sum()\n",
    "print(ds)"
   ]
  },
  {
   "cell_type": "code",
   "execution_count": 124,
   "metadata": {},
   "outputs": [
    {
     "data": {
      "text/html": [
       "<div>\n",
       "<style scoped>\n",
       "    .dataframe tbody tr th:only-of-type {\n",
       "        vertical-align: middle;\n",
       "    }\n",
       "\n",
       "    .dataframe tbody tr th {\n",
       "        vertical-align: top;\n",
       "    }\n",
       "\n",
       "    .dataframe thead th {\n",
       "        text-align: right;\n",
       "    }\n",
       "</style>\n",
       "<table border=\"1\" class=\"dataframe\">\n",
       "  <thead>\n",
       "    <tr style=\"text-align: right;\">\n",
       "      <th></th>\n",
       "      <th>med_price_for_zip</th>\n",
       "      <th>bedrooms</th>\n",
       "      <th>bathrooms</th>\n",
       "      <th>sqft_living</th>\n",
       "      <th>sqft_lot</th>\n",
       "      <th>floors</th>\n",
       "      <th>condition</th>\n",
       "      <th>grade</th>\n",
       "      <th>yr_built</th>\n",
       "      <th>sqft_living15</th>\n",
       "      <th>price_y</th>\n",
       "    </tr>\n",
       "  </thead>\n",
       "  <tbody>\n",
       "    <tr>\n",
       "      <th>0</th>\n",
       "      <td>12.49</td>\n",
       "      <td>0.69</td>\n",
       "      <td>0.56</td>\n",
       "      <td>7.11</td>\n",
       "      <td>9.66</td>\n",
       "      <td>0.00</td>\n",
       "      <td>1.10</td>\n",
       "      <td>6</td>\n",
       "      <td>7.59</td>\n",
       "      <td>7.32</td>\n",
       "      <td>12.28</td>\n",
       "    </tr>\n",
       "    <tr>\n",
       "      <th>1</th>\n",
       "      <td>12.49</td>\n",
       "      <td>1.39</td>\n",
       "      <td>0.92</td>\n",
       "      <td>7.78</td>\n",
       "      <td>8.43</td>\n",
       "      <td>0.69</td>\n",
       "      <td>1.10</td>\n",
       "      <td>8</td>\n",
       "      <td>7.60</td>\n",
       "      <td>7.71</td>\n",
       "      <td>12.54</td>\n",
       "    </tr>\n",
       "    <tr>\n",
       "      <th>2</th>\n",
       "      <td>12.49</td>\n",
       "      <td>1.61</td>\n",
       "      <td>0.56</td>\n",
       "      <td>7.58</td>\n",
       "      <td>9.07</td>\n",
       "      <td>0.00</td>\n",
       "      <td>1.10</td>\n",
       "      <td>7</td>\n",
       "      <td>7.58</td>\n",
       "      <td>7.41</td>\n",
       "      <td>12.52</td>\n",
       "    </tr>\n",
       "    <tr>\n",
       "      <th>3</th>\n",
       "      <td>12.49</td>\n",
       "      <td>1.10</td>\n",
       "      <td>0.00</td>\n",
       "      <td>7.24</td>\n",
       "      <td>9.68</td>\n",
       "      <td>0.00</td>\n",
       "      <td>1.39</td>\n",
       "      <td>6</td>\n",
       "      <td>7.58</td>\n",
       "      <td>7.26</td>\n",
       "      <td>12.35</td>\n",
       "    </tr>\n",
       "    <tr>\n",
       "      <th>4</th>\n",
       "      <td>12.49</td>\n",
       "      <td>1.39</td>\n",
       "      <td>0.56</td>\n",
       "      <td>7.49</td>\n",
       "      <td>9.39</td>\n",
       "      <td>0.00</td>\n",
       "      <td>1.61</td>\n",
       "      <td>6</td>\n",
       "      <td>7.57</td>\n",
       "      <td>7.35</td>\n",
       "      <td>12.21</td>\n",
       "    </tr>\n",
       "  </tbody>\n",
       "</table>\n",
       "</div>"
      ],
      "text/plain": [
       "   med_price_for_zip  bedrooms  bathrooms  sqft_living  sqft_lot  floors  \\\n",
       "0              12.49      0.69       0.56         7.11      9.66    0.00   \n",
       "1              12.49      1.39       0.92         7.78      8.43    0.69   \n",
       "2              12.49      1.61       0.56         7.58      9.07    0.00   \n",
       "3              12.49      1.10       0.00         7.24      9.68    0.00   \n",
       "4              12.49      1.39       0.56         7.49      9.39    0.00   \n",
       "\n",
       "   condition  grade  yr_built  sqft_living15  price_y  \n",
       "0       1.10      6      7.59           7.32    12.28  \n",
       "1       1.10      8      7.60           7.71    12.54  \n",
       "2       1.10      7      7.58           7.41    12.52  \n",
       "3       1.39      6      7.58           7.26    12.35  \n",
       "4       1.61      6      7.57           7.35    12.21  "
      ]
     },
     "execution_count": 124,
     "metadata": {},
     "output_type": "execute_result"
    }
   ],
   "source": [
    "trained_zip.head()"
   ]
  },
  {
   "cell_type": "code",
   "execution_count": 125,
   "metadata": {},
   "outputs": [],
   "source": [
    "non_normal_test = ['price_x', 'bedrooms', 'bathrooms', 'sqft_living', 'sqft_lot', 'floors','condition', 'yr_built', 'sqft_living15', 'price_y']"
   ]
  },
  {
   "cell_type": "code",
   "execution_count": 126,
   "metadata": {
    "scrolled": true
   },
   "outputs": [],
   "source": [
    "for feat in non_normal_test:\n",
    "    test_zip[feat] = test_zip[feat].map(lambda x: np.log(x))\n",
    "#pd.plotting.scatter_matrix(x_cols_test, figsize=(10,12));"
   ]
  },
  {
   "cell_type": "code",
   "execution_count": 127,
   "metadata": {
    "scrolled": true
   },
   "outputs": [
    {
     "data": {
      "text/html": [
       "<div>\n",
       "<style scoped>\n",
       "    .dataframe tbody tr th:only-of-type {\n",
       "        vertical-align: middle;\n",
       "    }\n",
       "\n",
       "    .dataframe tbody tr th {\n",
       "        vertical-align: top;\n",
       "    }\n",
       "\n",
       "    .dataframe thead th {\n",
       "        text-align: right;\n",
       "    }\n",
       "</style>\n",
       "<table border=\"1\" class=\"dataframe\">\n",
       "  <thead>\n",
       "    <tr style=\"text-align: right;\">\n",
       "      <th></th>\n",
       "      <th>price_x</th>\n",
       "      <th>bedrooms</th>\n",
       "      <th>bathrooms</th>\n",
       "      <th>sqft_living</th>\n",
       "      <th>sqft_lot</th>\n",
       "      <th>floors</th>\n",
       "      <th>condition</th>\n",
       "      <th>grade</th>\n",
       "      <th>yr_built</th>\n",
       "      <th>sqft_living15</th>\n",
       "      <th>price_y</th>\n",
       "    </tr>\n",
       "  </thead>\n",
       "  <tbody>\n",
       "    <tr>\n",
       "      <th>0</th>\n",
       "      <td>12.49</td>\n",
       "      <td>1.10</td>\n",
       "      <td>0.56</td>\n",
       "      <td>7.68</td>\n",
       "      <td>9.21</td>\n",
       "      <td>0.00</td>\n",
       "      <td>1.39</td>\n",
       "      <td>7</td>\n",
       "      <td>7.59</td>\n",
       "      <td>7.63</td>\n",
       "      <td>12.47</td>\n",
       "    </tr>\n",
       "    <tr>\n",
       "      <th>1</th>\n",
       "      <td>12.49</td>\n",
       "      <td>1.10</td>\n",
       "      <td>0.00</td>\n",
       "      <td>7.05</td>\n",
       "      <td>8.78</td>\n",
       "      <td>0.41</td>\n",
       "      <td>1.39</td>\n",
       "      <td>5</td>\n",
       "      <td>7.57</td>\n",
       "      <td>7.00</td>\n",
       "      <td>12.05</td>\n",
       "    </tr>\n",
       "    <tr>\n",
       "      <th>2</th>\n",
       "      <td>12.49</td>\n",
       "      <td>1.10</td>\n",
       "      <td>0.69</td>\n",
       "      <td>6.96</td>\n",
       "      <td>9.81</td>\n",
       "      <td>0.00</td>\n",
       "      <td>1.39</td>\n",
       "      <td>7</td>\n",
       "      <td>7.58</td>\n",
       "      <td>7.43</td>\n",
       "      <td>12.43</td>\n",
       "    </tr>\n",
       "    <tr>\n",
       "      <th>3</th>\n",
       "      <td>12.49</td>\n",
       "      <td>1.61</td>\n",
       "      <td>0.92</td>\n",
       "      <td>7.79</td>\n",
       "      <td>8.87</td>\n",
       "      <td>0.69</td>\n",
       "      <td>1.10</td>\n",
       "      <td>8</td>\n",
       "      <td>7.60</td>\n",
       "      <td>7.48</td>\n",
       "      <td>12.51</td>\n",
       "    </tr>\n",
       "    <tr>\n",
       "      <th>4</th>\n",
       "      <td>12.49</td>\n",
       "      <td>1.10</td>\n",
       "      <td>0.81</td>\n",
       "      <td>7.51</td>\n",
       "      <td>9.34</td>\n",
       "      <td>0.00</td>\n",
       "      <td>1.10</td>\n",
       "      <td>7</td>\n",
       "      <td>7.58</td>\n",
       "      <td>7.71</td>\n",
       "      <td>12.35</td>\n",
       "    </tr>\n",
       "  </tbody>\n",
       "</table>\n",
       "</div>"
      ],
      "text/plain": [
       "   price_x  bedrooms  bathrooms  sqft_living  sqft_lot  floors  condition  \\\n",
       "0    12.49      1.10       0.56         7.68      9.21    0.00       1.39   \n",
       "1    12.49      1.10       0.00         7.05      8.78    0.41       1.39   \n",
       "2    12.49      1.10       0.69         6.96      9.81    0.00       1.39   \n",
       "3    12.49      1.61       0.92         7.79      8.87    0.69       1.10   \n",
       "4    12.49      1.10       0.81         7.51      9.34    0.00       1.10   \n",
       "\n",
       "   grade  yr_built  sqft_living15  price_y  \n",
       "0      7      7.59           7.63    12.47  \n",
       "1      5      7.57           7.00    12.05  \n",
       "2      7      7.58           7.43    12.43  \n",
       "3      8      7.60           7.48    12.51  \n",
       "4      7      7.58           7.71    12.35  "
      ]
     },
     "execution_count": 127,
     "metadata": {},
     "output_type": "execute_result"
    }
   ],
   "source": [
    "test_zip.head()"
   ]
  },
  {
   "cell_type": "code",
   "execution_count": 128,
   "metadata": {},
   "outputs": [],
   "source": [
    "# Divide data in to x predictors and y targets \n",
    "X_test_2 = test_zip.drop(['price_y'], axis=1)\n",
    "y_test_2 = test_zip[['price_y']]\n",
    "\n",
    "X_train_2 = trained_zip.drop(['price_y'], axis=1)\n",
    "y_train_2 = trained_zip[['price_y']]"
   ]
  },
  {
   "cell_type": "code",
   "execution_count": 129,
   "metadata": {},
   "outputs": [],
   "source": [
    "# Train our scaler on training data, then fit to testing\n",
    "X_train_2_scaled = scaler.fit_transform(X_train_2)\n",
    "X_test_2_scaled = scaler.transform(X_test_2)"
   ]
  },
  {
   "cell_type": "code",
   "execution_count": 130,
   "metadata": {},
   "outputs": [
    {
     "data": {
      "text/plain": [
       "LinearRegression()"
      ]
     },
     "execution_count": 130,
     "metadata": {},
     "output_type": "execute_result"
    }
   ],
   "source": [
    "# Fit our model on our scaled data\n",
    "lr.fit(X_train_2_scaled, y_train_2)"
   ]
  },
  {
   "cell_type": "markdown",
   "metadata": {},
   "source": [
    "* Some overfitting"
   ]
  },
  {
   "cell_type": "code",
   "execution_count": 131,
   "metadata": {},
   "outputs": [
    {
     "name": "stdout",
     "output_type": "stream",
     "text": [
      "Training Scores:\n",
      "R2: 0.82671349418667\n",
      "Mean Absolute Error: 0.1645997033759281\n",
      "---\n",
      "Testing Scores:\n",
      "R2: 0.8227638239724818\n",
      "Mean Absolute Error: 0.16450586856045463\n"
     ]
    }
   ],
   "source": [
    "y_train_2_pred = lr.predict(X_train_2_scaled)\n",
    "y_test_2_pred = lr.predict(X_test_2_scaled)\n",
    "\n",
    "print(\"Training Scores:\")\n",
    "print(f\"R2: {r2_score(y_train_2, y_train_2_pred)}\")\n",
    "print(f\"Mean Absolute Error: {mean_absolute_error(y_train_2, y_train_2_pred)}\")\n",
    "print(\"---\")\n",
    "print(\"Testing Scores:\")\n",
    "print(f\"R2: {r2_score(y_test_2, y_test_2_pred)}\")\n",
    "print(f\"Mean Absolute Error: {mean_absolute_error(y_test_2, y_test_2_pred)}\")"
   ]
  },
  {
   "cell_type": "code",
   "execution_count": 132,
   "metadata": {
    "scrolled": false
   },
   "outputs": [
    {
     "name": "stdout",
     "output_type": "stream",
     "text": [
      "Training Scores\n",
      "----------\n",
      "R2: 0.8267\n",
      "RMSE: 174228.1287\n",
      "MAE: 94313.9688\n",
      "\n",
      "**********\n",
      "Testing Scores\n",
      "----------\n",
      "R2: 0.8228\n",
      "RMSE: 180291.1385\n",
      "MAE: 93459.3011\n"
     ]
    }
   ],
   "source": [
    "#now to print MAE in terms of $$ and not logged price, function provided by Lindsey and is imported from py file\n",
    "fn.print_metrics(y_train_2, y_train_2_pred, y_test_2, y_test_2_pred, log=True)"
   ]
  },
  {
   "cell_type": "code",
   "execution_count": 133,
   "metadata": {},
   "outputs": [
    {
     "data": {
      "text/html": [
       "<table class=\"simpletable\">\n",
       "<caption>OLS Regression Results</caption>\n",
       "<tr>\n",
       "  <th>Dep. Variable:</th>         <td>price_y</td>     <th>  R-squared:         </th> <td>   0.827</td>\n",
       "</tr>\n",
       "<tr>\n",
       "  <th>Model:</th>                   <td>OLS</td>       <th>  Adj. R-squared:    </th> <td>   0.827</td>\n",
       "</tr>\n",
       "<tr>\n",
       "  <th>Method:</th>             <td>Least Squares</td>  <th>  F-statistic:       </th> <td>   8237.</td>\n",
       "</tr>\n",
       "<tr>\n",
       "  <th>Date:</th>             <td>Tue, 29 Jun 2021</td> <th>  Prob (F-statistic):</th>  <td>  0.00</td> \n",
       "</tr>\n",
       "<tr>\n",
       "  <th>Time:</th>                 <td>20:51:59</td>     <th>  Log-Likelihood:    </th> <td>  1675.7</td>\n",
       "</tr>\n",
       "<tr>\n",
       "  <th>No. Observations:</th>      <td> 17276</td>      <th>  AIC:               </th> <td>  -3329.</td>\n",
       "</tr>\n",
       "<tr>\n",
       "  <th>Df Residuals:</th>          <td> 17265</td>      <th>  BIC:               </th> <td>  -3244.</td>\n",
       "</tr>\n",
       "<tr>\n",
       "  <th>Df Model:</th>              <td>    10</td>      <th>                     </th>     <td> </td>   \n",
       "</tr>\n",
       "<tr>\n",
       "  <th>Covariance Type:</th>      <td>nonrobust</td>    <th>                     </th>     <td> </td>   \n",
       "</tr>\n",
       "</table>\n",
       "<table class=\"simpletable\">\n",
       "<tr>\n",
       "    <td></td>       <th>coef</th>     <th>std err</th>      <th>t</th>      <th>P>|t|</th>  <th>[0.025</th>    <th>0.975]</th>  \n",
       "</tr>\n",
       "<tr>\n",
       "  <th>const</th> <td>   13.0493</td> <td>    0.002</td> <td> 7807.837</td> <td> 0.000</td> <td>   13.046</td> <td>   13.053</td>\n",
       "</tr>\n",
       "<tr>\n",
       "  <th>x1</th>    <td>    0.2553</td> <td>    0.002</td> <td>  131.703</td> <td> 0.000</td> <td>    0.251</td> <td>    0.259</td>\n",
       "</tr>\n",
       "<tr>\n",
       "  <th>x2</th>    <td>   -0.0313</td> <td>    0.002</td> <td>  -13.799</td> <td> 0.000</td> <td>   -0.036</td> <td>   -0.027</td>\n",
       "</tr>\n",
       "<tr>\n",
       "  <th>x3</th>    <td>    0.0345</td> <td>    0.003</td> <td>   11.414</td> <td> 0.000</td> <td>    0.029</td> <td>    0.040</td>\n",
       "</tr>\n",
       "<tr>\n",
       "  <th>x4</th>    <td>    0.1803</td> <td>    0.004</td> <td>   45.630</td> <td> 0.000</td> <td>    0.173</td> <td>    0.188</td>\n",
       "</tr>\n",
       "<tr>\n",
       "  <th>x5</th>    <td>   -0.0024</td> <td>    0.002</td> <td>   -1.196</td> <td> 0.232</td> <td>   -0.006</td> <td>    0.002</td>\n",
       "</tr>\n",
       "<tr>\n",
       "  <th>x6</th>    <td>    0.0183</td> <td>    0.002</td> <td>    8.287</td> <td> 0.000</td> <td>    0.014</td> <td>    0.023</td>\n",
       "</tr>\n",
       "<tr>\n",
       "  <th>x7</th>    <td>    0.0201</td> <td>    0.002</td> <td>   11.114</td> <td> 0.000</td> <td>    0.017</td> <td>    0.024</td>\n",
       "</tr>\n",
       "<tr>\n",
       "  <th>x8</th>    <td>    0.1536</td> <td>    0.003</td> <td>   52.391</td> <td> 0.000</td> <td>    0.148</td> <td>    0.159</td>\n",
       "</tr>\n",
       "<tr>\n",
       "  <th>x9</th>    <td>   -0.1018</td> <td>    0.002</td> <td>  -44.771</td> <td> 0.000</td> <td>   -0.106</td> <td>   -0.097</td>\n",
       "</tr>\n",
       "<tr>\n",
       "  <th>x10</th>   <td>    0.0235</td> <td>    0.003</td> <td>    8.447</td> <td> 0.000</td> <td>    0.018</td> <td>    0.029</td>\n",
       "</tr>\n",
       "</table>\n",
       "<table class=\"simpletable\">\n",
       "<tr>\n",
       "  <th>Omnibus:</th>       <td>1192.549</td> <th>  Durbin-Watson:     </th> <td>   1.708</td>\n",
       "</tr>\n",
       "<tr>\n",
       "  <th>Prob(Omnibus):</th>  <td> 0.000</td>  <th>  Jarque-Bera (JB):  </th> <td>3699.195</td>\n",
       "</tr>\n",
       "<tr>\n",
       "  <th>Skew:</th>           <td> 0.342</td>  <th>  Prob(JB):          </th> <td>    0.00</td>\n",
       "</tr>\n",
       "<tr>\n",
       "  <th>Kurtosis:</th>       <td> 5.161</td>  <th>  Cond. No.          </th> <td>    5.73</td>\n",
       "</tr>\n",
       "</table><br/><br/>Notes:<br/>[1] Standard Errors assume that the covariance matrix of the errors is correctly specified."
      ],
      "text/plain": [
       "<class 'statsmodels.iolib.summary.Summary'>\n",
       "\"\"\"\n",
       "                            OLS Regression Results                            \n",
       "==============================================================================\n",
       "Dep. Variable:                price_y   R-squared:                       0.827\n",
       "Model:                            OLS   Adj. R-squared:                  0.827\n",
       "Method:                 Least Squares   F-statistic:                     8237.\n",
       "Date:                Tue, 29 Jun 2021   Prob (F-statistic):               0.00\n",
       "Time:                        20:51:59   Log-Likelihood:                 1675.7\n",
       "No. Observations:               17276   AIC:                            -3329.\n",
       "Df Residuals:                   17265   BIC:                            -3244.\n",
       "Df Model:                          10                                         \n",
       "Covariance Type:            nonrobust                                         \n",
       "==============================================================================\n",
       "                 coef    std err          t      P>|t|      [0.025      0.975]\n",
       "------------------------------------------------------------------------------\n",
       "const         13.0493      0.002   7807.837      0.000      13.046      13.053\n",
       "x1             0.2553      0.002    131.703      0.000       0.251       0.259\n",
       "x2            -0.0313      0.002    -13.799      0.000      -0.036      -0.027\n",
       "x3             0.0345      0.003     11.414      0.000       0.029       0.040\n",
       "x4             0.1803      0.004     45.630      0.000       0.173       0.188\n",
       "x5            -0.0024      0.002     -1.196      0.232      -0.006       0.002\n",
       "x6             0.0183      0.002      8.287      0.000       0.014       0.023\n",
       "x7             0.0201      0.002     11.114      0.000       0.017       0.024\n",
       "x8             0.1536      0.003     52.391      0.000       0.148       0.159\n",
       "x9            -0.1018      0.002    -44.771      0.000      -0.106      -0.097\n",
       "x10            0.0235      0.003      8.447      0.000       0.018       0.029\n",
       "==============================================================================\n",
       "Omnibus:                     1192.549   Durbin-Watson:                   1.708\n",
       "Prob(Omnibus):                  0.000   Jarque-Bera (JB):             3699.195\n",
       "Skew:                           0.342   Prob(JB):                         0.00\n",
       "Kurtosis:                       5.161   Cond. No.                         5.73\n",
       "==============================================================================\n",
       "\n",
       "Notes:\n",
       "[1] Standard Errors assume that the covariance matrix of the errors is correctly specified.\n",
       "\"\"\""
      ]
     },
     "execution_count": 133,
     "metadata": {},
     "output_type": "execute_result"
    }
   ],
   "source": [
    "model_two = sm.OLS(y_train_2, sm.add_constant(X_train_2_scaled)).fit()\n",
    "\n",
    "model_two.summary()"
   ]
  },
  {
   "cell_type": "markdown",
   "metadata": {},
   "source": [
    "On the training data, about 83% of the data fits the regression model. The fact that the training r-squared is higher than the testing r-squared indicates slight overfitting. The p-values for all but one of the predictors (sqft_lot) seem to be significant. The Root Mean Squared Error is about half of the standard deviation, while the Mean Absolute Error is about a quarter of the standard deviation (lower than what it was in the first model, but still a substantial amount of error in the context of home prices). "
   ]
  },
  {
   "cell_type": "markdown",
   "metadata": {},
   "source": [
    "# 8. Checking Assumptions, Again"
   ]
  },
  {
   "cell_type": "code",
   "execution_count": 134,
   "metadata": {},
   "outputs": [
    {
     "data": {
      "image/png": "[encoded data removed]",
      "text/plain": [
       "<Figure size 576x396 with 2 Axes>"
      ]
     },
     "metadata": {},
     "output_type": "display_data"
    },
    {
     "data": {
      "text/plain": [
       "<AxesSubplot:title={'center':'Residuals for Ridge Model'}, xlabel='Predicted Value', ylabel='Residuals'>"
      ]
     },
     "execution_count": 134,
     "metadata": {},
     "output_type": "execute_result"
    }
   ],
   "source": [
    "model = Ridge()\n",
    "visualizer = ResidualsPlot(model)\n",
    "\n",
    "visualizer.fit(X_train_2_scaled, y_train_2)  # Fit the training data to the visualizer\n",
    "visualizer.score(X_test_2_scaled, y_test_2)  # Evaluate the model on the test data\n",
    "visualizer.show()           "
   ]
  },
  {
   "cell_type": "code",
   "execution_count": 135,
   "metadata": {},
   "outputs": [],
   "source": [
    "X_train_2_scaled = pd.DataFrame(X_train_2_scaled, columns = ['price_x', 'bedrooms', 'bathrooms', 'sqft_living', 'sqft_lot','floors', 'condition', 'grade', 'yr_built', 'sqft_living15'])"
   ]
  },
  {
   "cell_type": "code",
   "execution_count": 136,
   "metadata": {
    "scrolled": true
   },
   "outputs": [
    {
     "data": {
      "image/png": "[encoded data removed]",
      "text/plain": [
       "<Figure size 720x576 with 2 Axes>"
      ]
     },
     "metadata": {},
     "output_type": "display_data"
    }
   ],
   "source": [
    "plt.figure(figsize=(10,8))\n",
    "sns.heatmap(X_train_2_scaled.corr().abs(), annot=True)\n",
    "plt.show()"
   ]
  },
  {
   "cell_type": "markdown",
   "metadata": {},
   "source": [
    "* sqft_living and bathroms may be multicollinear at .76 \n",
    "* sqft_living and sqft_living15 may be multicollinear at .75\n",
    "* sqft_living and grade may be multicollinear at .74\n",
    "\n",
    "Since we already tested for multicollinearity at the beginning of the analysis, we will focus the multicollinearity check for the variables I flagged above. "
   ]
  },
  {
   "cell_type": "code",
   "execution_count": 137,
   "metadata": {},
   "outputs": [
    {
     "data": {
      "image/png": "[encoded data removed]",
      "text/plain": [
       "<Figure size 720x720 with 20 Axes>"
      ]
     },
     "metadata": {},
     "output_type": "display_data"
    }
   ],
   "source": [
    "sns.pairplot(\n",
    "    X_train_2_scaled,\n",
    "    x_vars=[\"sqft_living\", \"sqft_living15\", \"bathrooms\",\"grade\"],\n",
    "    y_vars=[\"sqft_living\", \"sqft_living15\", \"bathrooms\",\"grade\"],\n",
    ");"
   ]
  },
  {
   "cell_type": "markdown",
   "metadata": {},
   "source": [
    "None of these appear to be extreme cases of multicollinearity; however, there is evidence of linear relationships amongst many of these variables. Interestingly, grade and sqft_living seem to have a positive linear correlation. In addition, sqft_living and sqft_living 15 appear to have higher multicollinearity relative to the rest of the variables in these plots. "
   ]
  },
  {
   "cell_type": "markdown",
   "metadata": {},
   "source": [
    "# 9. Model 3 (Add combined square footage feature) "
   ]
  },
  {
   "cell_type": "markdown",
   "metadata": {},
   "source": [
    "For this project, we have changed only one element at a time so that the effects on the model can be easily tracked. Though there are several potential multicollinear relationships above, one of the easiest things to try and mitigate woul be the sqft_living and the sqft_living15 multicollinearity issue. It makes sense that a home's square footage would be closely related to the square footage of a home's neighbors, especially as you get either closer to and farther away from the Seattle city center. We can turn this column into a ratio (house size/neighbor size or \"sqft_ratio\") that could tell us about the size of a property relative to nearby properties. A ratio of more than 1 would tell us that the property is larger than those of the nearest 15 neighbors, while a value of less than 1 would indicate that the property is smaller than the surrounding homes. This is also valuable because it'll additional input  into our model that reflects a home's location."
   ]
  },
  {
   "cell_type": "code",
   "execution_count": 138,
   "metadata": {},
   "outputs": [],
   "source": [
    "# Adding new column to training data from Model 2 \n",
    "trained_zip['sqft_living_ratio'] = trained_zip['sqft_living']/trained_zip['sqft_living15']"
   ]
  },
  {
   "cell_type": "code",
   "execution_count": 139,
   "metadata": {},
   "outputs": [
    {
     "data": {
      "text/html": [
       "<div>\n",
       "<style scoped>\n",
       "    .dataframe tbody tr th:only-of-type {\n",
       "        vertical-align: middle;\n",
       "    }\n",
       "\n",
       "    .dataframe tbody tr th {\n",
       "        vertical-align: top;\n",
       "    }\n",
       "\n",
       "    .dataframe thead th {\n",
       "        text-align: right;\n",
       "    }\n",
       "</style>\n",
       "<table border=\"1\" class=\"dataframe\">\n",
       "  <thead>\n",
       "    <tr style=\"text-align: right;\">\n",
       "      <th></th>\n",
       "      <th>med_price_for_zip</th>\n",
       "      <th>bedrooms</th>\n",
       "      <th>bathrooms</th>\n",
       "      <th>sqft_living</th>\n",
       "      <th>sqft_lot</th>\n",
       "      <th>floors</th>\n",
       "      <th>condition</th>\n",
       "      <th>grade</th>\n",
       "      <th>yr_built</th>\n",
       "      <th>sqft_living15</th>\n",
       "      <th>price_y</th>\n",
       "      <th>sqft_living_ratio</th>\n",
       "    </tr>\n",
       "  </thead>\n",
       "  <tbody>\n",
       "    <tr>\n",
       "      <th>0</th>\n",
       "      <td>12.49</td>\n",
       "      <td>0.69</td>\n",
       "      <td>0.56</td>\n",
       "      <td>7.11</td>\n",
       "      <td>9.66</td>\n",
       "      <td>0.00</td>\n",
       "      <td>1.10</td>\n",
       "      <td>6</td>\n",
       "      <td>7.59</td>\n",
       "      <td>7.32</td>\n",
       "      <td>12.28</td>\n",
       "      <td>0.97</td>\n",
       "    </tr>\n",
       "    <tr>\n",
       "      <th>1</th>\n",
       "      <td>12.49</td>\n",
       "      <td>1.39</td>\n",
       "      <td>0.92</td>\n",
       "      <td>7.78</td>\n",
       "      <td>8.43</td>\n",
       "      <td>0.69</td>\n",
       "      <td>1.10</td>\n",
       "      <td>8</td>\n",
       "      <td>7.60</td>\n",
       "      <td>7.71</td>\n",
       "      <td>12.54</td>\n",
       "      <td>1.01</td>\n",
       "    </tr>\n",
       "    <tr>\n",
       "      <th>2</th>\n",
       "      <td>12.49</td>\n",
       "      <td>1.61</td>\n",
       "      <td>0.56</td>\n",
       "      <td>7.58</td>\n",
       "      <td>9.07</td>\n",
       "      <td>0.00</td>\n",
       "      <td>1.10</td>\n",
       "      <td>7</td>\n",
       "      <td>7.58</td>\n",
       "      <td>7.41</td>\n",
       "      <td>12.52</td>\n",
       "      <td>1.02</td>\n",
       "    </tr>\n",
       "    <tr>\n",
       "      <th>3</th>\n",
       "      <td>12.49</td>\n",
       "      <td>1.10</td>\n",
       "      <td>0.00</td>\n",
       "      <td>7.24</td>\n",
       "      <td>9.68</td>\n",
       "      <td>0.00</td>\n",
       "      <td>1.39</td>\n",
       "      <td>6</td>\n",
       "      <td>7.58</td>\n",
       "      <td>7.26</td>\n",
       "      <td>12.35</td>\n",
       "      <td>1.00</td>\n",
       "    </tr>\n",
       "    <tr>\n",
       "      <th>4</th>\n",
       "      <td>12.49</td>\n",
       "      <td>1.39</td>\n",
       "      <td>0.56</td>\n",
       "      <td>7.49</td>\n",
       "      <td>9.39</td>\n",
       "      <td>0.00</td>\n",
       "      <td>1.61</td>\n",
       "      <td>6</td>\n",
       "      <td>7.57</td>\n",
       "      <td>7.35</td>\n",
       "      <td>12.21</td>\n",
       "      <td>1.02</td>\n",
       "    </tr>\n",
       "  </tbody>\n",
       "</table>\n",
       "</div>"
      ],
      "text/plain": [
       "   med_price_for_zip  bedrooms  bathrooms  sqft_living  sqft_lot  floors  \\\n",
       "0              12.49      0.69       0.56         7.11      9.66    0.00   \n",
       "1              12.49      1.39       0.92         7.78      8.43    0.69   \n",
       "2              12.49      1.61       0.56         7.58      9.07    0.00   \n",
       "3              12.49      1.10       0.00         7.24      9.68    0.00   \n",
       "4              12.49      1.39       0.56         7.49      9.39    0.00   \n",
       "\n",
       "   condition  grade  yr_built  sqft_living15  price_y  sqft_living_ratio  \n",
       "0       1.10      6      7.59           7.32    12.28               0.97  \n",
       "1       1.10      8      7.60           7.71    12.54               1.01  \n",
       "2       1.10      7      7.58           7.41    12.52               1.02  \n",
       "3       1.39      6      7.58           7.26    12.35               1.00  \n",
       "4       1.61      6      7.57           7.35    12.21               1.02  "
      ]
     },
     "execution_count": 139,
     "metadata": {},
     "output_type": "execute_result"
    }
   ],
   "source": [
    "model_3_train = trained_zip\n",
    "model_3_train.head()"
   ]
  },
  {
   "cell_type": "code",
   "execution_count": 140,
   "metadata": {},
   "outputs": [],
   "source": [
    "# Do the same for testing data from Model 2 \n",
    "test_zip['sqft_living_ratio'] = test_zip['sqft_living']/test_zip['sqft_living15']"
   ]
  },
  {
   "cell_type": "code",
   "execution_count": 141,
   "metadata": {},
   "outputs": [
    {
     "data": {
      "text/html": [
       "<div>\n",
       "<style scoped>\n",
       "    .dataframe tbody tr th:only-of-type {\n",
       "        vertical-align: middle;\n",
       "    }\n",
       "\n",
       "    .dataframe tbody tr th {\n",
       "        vertical-align: top;\n",
       "    }\n",
       "\n",
       "    .dataframe thead th {\n",
       "        text-align: right;\n",
       "    }\n",
       "</style>\n",
       "<table border=\"1\" class=\"dataframe\">\n",
       "  <thead>\n",
       "    <tr style=\"text-align: right;\">\n",
       "      <th></th>\n",
       "      <th>price_x</th>\n",
       "      <th>bedrooms</th>\n",
       "      <th>bathrooms</th>\n",
       "      <th>sqft_living</th>\n",
       "      <th>sqft_lot</th>\n",
       "      <th>floors</th>\n",
       "      <th>condition</th>\n",
       "      <th>grade</th>\n",
       "      <th>yr_built</th>\n",
       "      <th>sqft_living15</th>\n",
       "      <th>price_y</th>\n",
       "      <th>sqft_living_ratio</th>\n",
       "    </tr>\n",
       "  </thead>\n",
       "  <tbody>\n",
       "    <tr>\n",
       "      <th>0</th>\n",
       "      <td>12.49</td>\n",
       "      <td>1.10</td>\n",
       "      <td>0.56</td>\n",
       "      <td>7.68</td>\n",
       "      <td>9.21</td>\n",
       "      <td>0.00</td>\n",
       "      <td>1.39</td>\n",
       "      <td>7</td>\n",
       "      <td>7.59</td>\n",
       "      <td>7.63</td>\n",
       "      <td>12.47</td>\n",
       "      <td>1.01</td>\n",
       "    </tr>\n",
       "    <tr>\n",
       "      <th>1</th>\n",
       "      <td>12.49</td>\n",
       "      <td>1.10</td>\n",
       "      <td>0.00</td>\n",
       "      <td>7.05</td>\n",
       "      <td>8.78</td>\n",
       "      <td>0.41</td>\n",
       "      <td>1.39</td>\n",
       "      <td>5</td>\n",
       "      <td>7.57</td>\n",
       "      <td>7.00</td>\n",
       "      <td>12.05</td>\n",
       "      <td>1.01</td>\n",
       "    </tr>\n",
       "    <tr>\n",
       "      <th>2</th>\n",
       "      <td>12.49</td>\n",
       "      <td>1.10</td>\n",
       "      <td>0.69</td>\n",
       "      <td>6.96</td>\n",
       "      <td>9.81</td>\n",
       "      <td>0.00</td>\n",
       "      <td>1.39</td>\n",
       "      <td>7</td>\n",
       "      <td>7.58</td>\n",
       "      <td>7.43</td>\n",
       "      <td>12.43</td>\n",
       "      <td>0.94</td>\n",
       "    </tr>\n",
       "    <tr>\n",
       "      <th>3</th>\n",
       "      <td>12.49</td>\n",
       "      <td>1.61</td>\n",
       "      <td>0.92</td>\n",
       "      <td>7.79</td>\n",
       "      <td>8.87</td>\n",
       "      <td>0.69</td>\n",
       "      <td>1.10</td>\n",
       "      <td>8</td>\n",
       "      <td>7.60</td>\n",
       "      <td>7.48</td>\n",
       "      <td>12.51</td>\n",
       "      <td>1.04</td>\n",
       "    </tr>\n",
       "    <tr>\n",
       "      <th>4</th>\n",
       "      <td>12.49</td>\n",
       "      <td>1.10</td>\n",
       "      <td>0.81</td>\n",
       "      <td>7.51</td>\n",
       "      <td>9.34</td>\n",
       "      <td>0.00</td>\n",
       "      <td>1.10</td>\n",
       "      <td>7</td>\n",
       "      <td>7.58</td>\n",
       "      <td>7.71</td>\n",
       "      <td>12.35</td>\n",
       "      <td>0.97</td>\n",
       "    </tr>\n",
       "  </tbody>\n",
       "</table>\n",
       "</div>"
      ],
      "text/plain": [
       "   price_x  bedrooms  bathrooms  sqft_living  sqft_lot  floors  condition  \\\n",
       "0    12.49      1.10       0.56         7.68      9.21    0.00       1.39   \n",
       "1    12.49      1.10       0.00         7.05      8.78    0.41       1.39   \n",
       "2    12.49      1.10       0.69         6.96      9.81    0.00       1.39   \n",
       "3    12.49      1.61       0.92         7.79      8.87    0.69       1.10   \n",
       "4    12.49      1.10       0.81         7.51      9.34    0.00       1.10   \n",
       "\n",
       "   grade  yr_built  sqft_living15  price_y  sqft_living_ratio  \n",
       "0      7      7.59           7.63    12.47               1.01  \n",
       "1      5      7.57           7.00    12.05               1.01  \n",
       "2      7      7.58           7.43    12.43               0.94  \n",
       "3      8      7.60           7.48    12.51               1.04  \n",
       "4      7      7.58           7.71    12.35               0.97  "
      ]
     },
     "execution_count": 141,
     "metadata": {},
     "output_type": "execute_result"
    }
   ],
   "source": [
    "model_3_test = test_zip\n",
    "model_3_test.head()"
   ]
  },
  {
   "cell_type": "code",
   "execution_count": 142,
   "metadata": {},
   "outputs": [
    {
     "data": {
      "text/plain": [
       "0.11860384348228757"
      ]
     },
     "execution_count": 142,
     "metadata": {},
     "output_type": "execute_result"
    }
   ],
   "source": [
    "# What percentage of the homes' square footage is identical to their neighbors'? \n",
    "len(model_3_train[model_3_train['sqft_living_ratio']==1]) / len(model_3_train)"
   ]
  },
  {
   "cell_type": "markdown",
   "metadata": {},
   "source": [
    "Only about 12% of homes are in neighborhoods with identical home sizes. There doesn't seem to be a ton of tract housing in Seattle - since this is a fairly small percentage of my data, I'll keep these in. "
   ]
  },
  {
   "cell_type": "code",
   "execution_count": 143,
   "metadata": {},
   "outputs": [
    {
     "data": {
      "image/png": "[encoded data removed]",
      "text/plain": [
       "<Figure size 864x288 with 2 Axes>"
      ]
     },
     "metadata": {},
     "output_type": "display_data"
    }
   ],
   "source": [
    "# Plotting histogram of this new column to check for normality \n",
    "\n",
    "fig, (ax1, ax2) = plt.subplots(1, 2, figsize=(12, 4))\n",
    "\n",
    "model_3_train.hist('sqft_living_ratio', ax = ax1, bins=50)\n",
    "\n",
    "model_3_log = np.log(model_3_train['sqft_living_ratio'])\n",
    "model_3_log.hist(ax = ax2, bins=50)\n",
    "\n",
    "ax2.set_title('log(sqft_living_ratio)');"
   ]
  },
  {
   "cell_type": "markdown",
   "metadata": {},
   "source": [
    "The data is pretty normally distributed, and symmetric, but the mean falls at 1 instead of 0. Logging the data appears to correct this problem, so I will log this feature in my model going forward. "
   ]
  },
  {
   "cell_type": "code",
   "execution_count": 144,
   "metadata": {},
   "outputs": [],
   "source": [
    "# Creating the log-transformed column\n",
    "model_3_train['log_sqft_living_ratio'] = np.log(model_3_train['sqft_living_ratio'])\n",
    "model_3_test['log_sqft_living_ratio'] = np.log(model_3_test['sqft_living_ratio'])"
   ]
  },
  {
   "cell_type": "code",
   "execution_count": 145,
   "metadata": {},
   "outputs": [
    {
     "data": {
      "text/html": [
       "<div>\n",
       "<style scoped>\n",
       "    .dataframe tbody tr th:only-of-type {\n",
       "        vertical-align: middle;\n",
       "    }\n",
       "\n",
       "    .dataframe tbody tr th {\n",
       "        vertical-align: top;\n",
       "    }\n",
       "\n",
       "    .dataframe thead th {\n",
       "        text-align: right;\n",
       "    }\n",
       "</style>\n",
       "<table border=\"1\" class=\"dataframe\">\n",
       "  <thead>\n",
       "    <tr style=\"text-align: right;\">\n",
       "      <th></th>\n",
       "      <th>med_price_for_zip</th>\n",
       "      <th>bedrooms</th>\n",
       "      <th>bathrooms</th>\n",
       "      <th>sqft_living</th>\n",
       "      <th>sqft_lot</th>\n",
       "      <th>floors</th>\n",
       "      <th>condition</th>\n",
       "      <th>grade</th>\n",
       "      <th>yr_built</th>\n",
       "      <th>sqft_living15</th>\n",
       "      <th>price_y</th>\n",
       "      <th>sqft_living_ratio</th>\n",
       "      <th>log_sqft_living_ratio</th>\n",
       "    </tr>\n",
       "  </thead>\n",
       "  <tbody>\n",
       "    <tr>\n",
       "      <th>0</th>\n",
       "      <td>12.49</td>\n",
       "      <td>0.69</td>\n",
       "      <td>0.56</td>\n",
       "      <td>7.11</td>\n",
       "      <td>9.66</td>\n",
       "      <td>0.00</td>\n",
       "      <td>1.10</td>\n",
       "      <td>6</td>\n",
       "      <td>7.59</td>\n",
       "      <td>7.32</td>\n",
       "      <td>12.28</td>\n",
       "      <td>0.97</td>\n",
       "      <td>-0.03</td>\n",
       "    </tr>\n",
       "    <tr>\n",
       "      <th>1</th>\n",
       "      <td>12.49</td>\n",
       "      <td>1.39</td>\n",
       "      <td>0.92</td>\n",
       "      <td>7.78</td>\n",
       "      <td>8.43</td>\n",
       "      <td>0.69</td>\n",
       "      <td>1.10</td>\n",
       "      <td>8</td>\n",
       "      <td>7.60</td>\n",
       "      <td>7.71</td>\n",
       "      <td>12.54</td>\n",
       "      <td>1.01</td>\n",
       "      <td>0.01</td>\n",
       "    </tr>\n",
       "    <tr>\n",
       "      <th>2</th>\n",
       "      <td>12.49</td>\n",
       "      <td>1.61</td>\n",
       "      <td>0.56</td>\n",
       "      <td>7.58</td>\n",
       "      <td>9.07</td>\n",
       "      <td>0.00</td>\n",
       "      <td>1.10</td>\n",
       "      <td>7</td>\n",
       "      <td>7.58</td>\n",
       "      <td>7.41</td>\n",
       "      <td>12.52</td>\n",
       "      <td>1.02</td>\n",
       "      <td>0.02</td>\n",
       "    </tr>\n",
       "    <tr>\n",
       "      <th>3</th>\n",
       "      <td>12.49</td>\n",
       "      <td>1.10</td>\n",
       "      <td>0.00</td>\n",
       "      <td>7.24</td>\n",
       "      <td>9.68</td>\n",
       "      <td>0.00</td>\n",
       "      <td>1.39</td>\n",
       "      <td>6</td>\n",
       "      <td>7.58</td>\n",
       "      <td>7.26</td>\n",
       "      <td>12.35</td>\n",
       "      <td>1.00</td>\n",
       "      <td>-0.00</td>\n",
       "    </tr>\n",
       "    <tr>\n",
       "      <th>4</th>\n",
       "      <td>12.49</td>\n",
       "      <td>1.39</td>\n",
       "      <td>0.56</td>\n",
       "      <td>7.49</td>\n",
       "      <td>9.39</td>\n",
       "      <td>0.00</td>\n",
       "      <td>1.61</td>\n",
       "      <td>6</td>\n",
       "      <td>7.57</td>\n",
       "      <td>7.35</td>\n",
       "      <td>12.21</td>\n",
       "      <td>1.02</td>\n",
       "      <td>0.02</td>\n",
       "    </tr>\n",
       "  </tbody>\n",
       "</table>\n",
       "</div>"
      ],
      "text/plain": [
       "   med_price_for_zip  bedrooms  bathrooms  sqft_living  sqft_lot  floors  \\\n",
       "0              12.49      0.69       0.56         7.11      9.66    0.00   \n",
       "1              12.49      1.39       0.92         7.78      8.43    0.69   \n",
       "2              12.49      1.61       0.56         7.58      9.07    0.00   \n",
       "3              12.49      1.10       0.00         7.24      9.68    0.00   \n",
       "4              12.49      1.39       0.56         7.49      9.39    0.00   \n",
       "\n",
       "   condition  grade  yr_built  sqft_living15  price_y  sqft_living_ratio  \\\n",
       "0       1.10      6      7.59           7.32    12.28               0.97   \n",
       "1       1.10      8      7.60           7.71    12.54               1.01   \n",
       "2       1.10      7      7.58           7.41    12.52               1.02   \n",
       "3       1.39      6      7.58           7.26    12.35               1.00   \n",
       "4       1.61      6      7.57           7.35    12.21               1.02   \n",
       "\n",
       "   log_sqft_living_ratio  \n",
       "0                  -0.03  \n",
       "1                   0.01  \n",
       "2                   0.02  \n",
       "3                  -0.00  \n",
       "4                   0.02  "
      ]
     },
     "execution_count": 145,
     "metadata": {},
     "output_type": "execute_result"
    }
   ],
   "source": [
    "model_3_train.head()"
   ]
  },
  {
   "cell_type": "code",
   "execution_count": 146,
   "metadata": {},
   "outputs": [],
   "source": [
    "# Drop unnecessary columns from these dataframes\n",
    "model_3_train = model_3_train.drop(['sqft_living','sqft_living15','sqft_living_ratio'], axis =1)"
   ]
  },
  {
   "cell_type": "code",
   "execution_count": 147,
   "metadata": {
    "scrolled": true
   },
   "outputs": [
    {
     "data": {
      "text/html": [
       "<div>\n",
       "<style scoped>\n",
       "    .dataframe tbody tr th:only-of-type {\n",
       "        vertical-align: middle;\n",
       "    }\n",
       "\n",
       "    .dataframe tbody tr th {\n",
       "        vertical-align: top;\n",
       "    }\n",
       "\n",
       "    .dataframe thead th {\n",
       "        text-align: right;\n",
       "    }\n",
       "</style>\n",
       "<table border=\"1\" class=\"dataframe\">\n",
       "  <thead>\n",
       "    <tr style=\"text-align: right;\">\n",
       "      <th></th>\n",
       "      <th>med_price_for_zip</th>\n",
       "      <th>bedrooms</th>\n",
       "      <th>bathrooms</th>\n",
       "      <th>sqft_lot</th>\n",
       "      <th>floors</th>\n",
       "      <th>condition</th>\n",
       "      <th>grade</th>\n",
       "      <th>yr_built</th>\n",
       "      <th>price_y</th>\n",
       "      <th>log_sqft_living_ratio</th>\n",
       "    </tr>\n",
       "  </thead>\n",
       "  <tbody>\n",
       "    <tr>\n",
       "      <th>0</th>\n",
       "      <td>12.49</td>\n",
       "      <td>0.69</td>\n",
       "      <td>0.56</td>\n",
       "      <td>9.66</td>\n",
       "      <td>0.00</td>\n",
       "      <td>1.10</td>\n",
       "      <td>6</td>\n",
       "      <td>7.59</td>\n",
       "      <td>12.28</td>\n",
       "      <td>-0.03</td>\n",
       "    </tr>\n",
       "    <tr>\n",
       "      <th>1</th>\n",
       "      <td>12.49</td>\n",
       "      <td>1.39</td>\n",
       "      <td>0.92</td>\n",
       "      <td>8.43</td>\n",
       "      <td>0.69</td>\n",
       "      <td>1.10</td>\n",
       "      <td>8</td>\n",
       "      <td>7.60</td>\n",
       "      <td>12.54</td>\n",
       "      <td>0.01</td>\n",
       "    </tr>\n",
       "    <tr>\n",
       "      <th>2</th>\n",
       "      <td>12.49</td>\n",
       "      <td>1.61</td>\n",
       "      <td>0.56</td>\n",
       "      <td>9.07</td>\n",
       "      <td>0.00</td>\n",
       "      <td>1.10</td>\n",
       "      <td>7</td>\n",
       "      <td>7.58</td>\n",
       "      <td>12.52</td>\n",
       "      <td>0.02</td>\n",
       "    </tr>\n",
       "    <tr>\n",
       "      <th>3</th>\n",
       "      <td>12.49</td>\n",
       "      <td>1.10</td>\n",
       "      <td>0.00</td>\n",
       "      <td>9.68</td>\n",
       "      <td>0.00</td>\n",
       "      <td>1.39</td>\n",
       "      <td>6</td>\n",
       "      <td>7.58</td>\n",
       "      <td>12.35</td>\n",
       "      <td>-0.00</td>\n",
       "    </tr>\n",
       "    <tr>\n",
       "      <th>4</th>\n",
       "      <td>12.49</td>\n",
       "      <td>1.39</td>\n",
       "      <td>0.56</td>\n",
       "      <td>9.39</td>\n",
       "      <td>0.00</td>\n",
       "      <td>1.61</td>\n",
       "      <td>6</td>\n",
       "      <td>7.57</td>\n",
       "      <td>12.21</td>\n",
       "      <td>0.02</td>\n",
       "    </tr>\n",
       "  </tbody>\n",
       "</table>\n",
       "</div>"
      ],
      "text/plain": [
       "   med_price_for_zip  bedrooms  bathrooms  sqft_lot  floors  condition  grade  \\\n",
       "0              12.49      0.69       0.56      9.66    0.00       1.10      6   \n",
       "1              12.49      1.39       0.92      8.43    0.69       1.10      8   \n",
       "2              12.49      1.61       0.56      9.07    0.00       1.10      7   \n",
       "3              12.49      1.10       0.00      9.68    0.00       1.39      6   \n",
       "4              12.49      1.39       0.56      9.39    0.00       1.61      6   \n",
       "\n",
       "   yr_built  price_y  log_sqft_living_ratio  \n",
       "0      7.59    12.28                  -0.03  \n",
       "1      7.60    12.54                   0.01  \n",
       "2      7.58    12.52                   0.02  \n",
       "3      7.58    12.35                  -0.00  \n",
       "4      7.57    12.21                   0.02  "
      ]
     },
     "execution_count": 147,
     "metadata": {},
     "output_type": "execute_result"
    }
   ],
   "source": [
    "model_3_train.head()"
   ]
  },
  {
   "cell_type": "code",
   "execution_count": 148,
   "metadata": {},
   "outputs": [
    {
     "data": {
      "text/plain": [
       "(17276, 10)"
      ]
     },
     "execution_count": 148,
     "metadata": {},
     "output_type": "execute_result"
    }
   ],
   "source": [
    "model_3_train.shape"
   ]
  },
  {
   "cell_type": "code",
   "execution_count": 149,
   "metadata": {},
   "outputs": [],
   "source": [
    "model_3_test = model_3_test.drop(['sqft_living','sqft_living15','sqft_living_ratio'], axis =1)"
   ]
  },
  {
   "cell_type": "code",
   "execution_count": 150,
   "metadata": {},
   "outputs": [
    {
     "data": {
      "text/html": [
       "<div>\n",
       "<style scoped>\n",
       "    .dataframe tbody tr th:only-of-type {\n",
       "        vertical-align: middle;\n",
       "    }\n",
       "\n",
       "    .dataframe tbody tr th {\n",
       "        vertical-align: top;\n",
       "    }\n",
       "\n",
       "    .dataframe thead th {\n",
       "        text-align: right;\n",
       "    }\n",
       "</style>\n",
       "<table border=\"1\" class=\"dataframe\">\n",
       "  <thead>\n",
       "    <tr style=\"text-align: right;\">\n",
       "      <th></th>\n",
       "      <th>price_x</th>\n",
       "      <th>bedrooms</th>\n",
       "      <th>bathrooms</th>\n",
       "      <th>sqft_lot</th>\n",
       "      <th>floors</th>\n",
       "      <th>condition</th>\n",
       "      <th>grade</th>\n",
       "      <th>yr_built</th>\n",
       "      <th>price_y</th>\n",
       "      <th>log_sqft_living_ratio</th>\n",
       "    </tr>\n",
       "  </thead>\n",
       "  <tbody>\n",
       "    <tr>\n",
       "      <th>0</th>\n",
       "      <td>12.49</td>\n",
       "      <td>1.10</td>\n",
       "      <td>0.56</td>\n",
       "      <td>9.21</td>\n",
       "      <td>0.00</td>\n",
       "      <td>1.39</td>\n",
       "      <td>7</td>\n",
       "      <td>7.59</td>\n",
       "      <td>12.47</td>\n",
       "      <td>0.01</td>\n",
       "    </tr>\n",
       "    <tr>\n",
       "      <th>1</th>\n",
       "      <td>12.49</td>\n",
       "      <td>1.10</td>\n",
       "      <td>0.00</td>\n",
       "      <td>8.78</td>\n",
       "      <td>0.41</td>\n",
       "      <td>1.39</td>\n",
       "      <td>5</td>\n",
       "      <td>7.57</td>\n",
       "      <td>12.05</td>\n",
       "      <td>0.01</td>\n",
       "    </tr>\n",
       "    <tr>\n",
       "      <th>2</th>\n",
       "      <td>12.49</td>\n",
       "      <td>1.10</td>\n",
       "      <td>0.69</td>\n",
       "      <td>9.81</td>\n",
       "      <td>0.00</td>\n",
       "      <td>1.39</td>\n",
       "      <td>7</td>\n",
       "      <td>7.58</td>\n",
       "      <td>12.43</td>\n",
       "      <td>-0.07</td>\n",
       "    </tr>\n",
       "    <tr>\n",
       "      <th>3</th>\n",
       "      <td>12.49</td>\n",
       "      <td>1.61</td>\n",
       "      <td>0.92</td>\n",
       "      <td>8.87</td>\n",
       "      <td>0.69</td>\n",
       "      <td>1.10</td>\n",
       "      <td>8</td>\n",
       "      <td>7.60</td>\n",
       "      <td>12.51</td>\n",
       "      <td>0.04</td>\n",
       "    </tr>\n",
       "    <tr>\n",
       "      <th>4</th>\n",
       "      <td>12.49</td>\n",
       "      <td>1.10</td>\n",
       "      <td>0.81</td>\n",
       "      <td>9.34</td>\n",
       "      <td>0.00</td>\n",
       "      <td>1.10</td>\n",
       "      <td>7</td>\n",
       "      <td>7.58</td>\n",
       "      <td>12.35</td>\n",
       "      <td>-0.03</td>\n",
       "    </tr>\n",
       "  </tbody>\n",
       "</table>\n",
       "</div>"
      ],
      "text/plain": [
       "   price_x  bedrooms  bathrooms  sqft_lot  floors  condition  grade  yr_built  \\\n",
       "0    12.49      1.10       0.56      9.21    0.00       1.39      7      7.59   \n",
       "1    12.49      1.10       0.00      8.78    0.41       1.39      5      7.57   \n",
       "2    12.49      1.10       0.69      9.81    0.00       1.39      7      7.58   \n",
       "3    12.49      1.61       0.92      8.87    0.69       1.10      8      7.60   \n",
       "4    12.49      1.10       0.81      9.34    0.00       1.10      7      7.58   \n",
       "\n",
       "   price_y  log_sqft_living_ratio  \n",
       "0    12.47                   0.01  \n",
       "1    12.05                   0.01  \n",
       "2    12.43                  -0.07  \n",
       "3    12.51                   0.04  \n",
       "4    12.35                  -0.03  "
      ]
     },
     "execution_count": 150,
     "metadata": {},
     "output_type": "execute_result"
    }
   ],
   "source": [
    "model_3_test.head()"
   ]
  },
  {
   "cell_type": "code",
   "execution_count": 151,
   "metadata": {},
   "outputs": [],
   "source": [
    "# Divide data in to x predictors and y targets \n",
    "X_train_3 = model_3_train.drop(['price_y'], axis=1)\n",
    "y_train_3 = model_3_train[['price_y']]\n",
    "\n",
    "X_test_3 = model_3_test.drop(['price_y'], axis=1)\n",
    "y_test_3 = model_3_test[['price_y']]"
   ]
  },
  {
   "cell_type": "code",
   "execution_count": null,
   "metadata": {},
   "outputs": [],
   "source": [
    "y_train_3.shape"
   ]
  },
  {
   "cell_type": "code",
   "execution_count": 152,
   "metadata": {},
   "outputs": [],
   "source": [
    "# Train our scaler on training data, then fit to testing\n",
    "X_train_3_scaled = scaler.fit_transform(X_train_3)\n",
    "X_test_3_scaled = scaler.transform(X_test_3)"
   ]
  },
  {
   "cell_type": "code",
   "execution_count": 153,
   "metadata": {},
   "outputs": [
    {
     "data": {
      "text/plain": [
       "LinearRegression()"
      ]
     },
     "execution_count": 153,
     "metadata": {},
     "output_type": "execute_result"
    }
   ],
   "source": [
    "# Fit our model on our scaled data\n",
    "lr.fit(X_train_3_scaled, y_train_3)"
   ]
  },
  {
   "cell_type": "code",
   "execution_count": 154,
   "metadata": {},
   "outputs": [
    {
     "name": "stdout",
     "output_type": "stream",
     "text": [
      "Training Scores:\n",
      "R2: 0.8023777345291427\n",
      "Mean Absolute Error: 0.17654766868870625\n",
      "---\n",
      "Testing Scores:\n",
      "R2: 0.8037440060304246\n",
      "Mean Absolute Error: 0.1742813544491742\n"
     ]
    }
   ],
   "source": [
    "y_train_3_pred = lr.predict(X_train_3_scaled)\n",
    "y_test_3_pred = lr.predict(X_test_3_scaled)\n",
    "\n",
    "print(\"Training Scores:\")\n",
    "print(f\"R2: {r2_score(y_train_3, y_train_3_pred)}\")\n",
    "print(f\"Mean Absolute Error: {mean_absolute_error(y_train_3, y_train_3_pred)}\")\n",
    "print(\"---\")\n",
    "print(\"Testing Scores:\")\n",
    "print(f\"R2: {r2_score(y_test_3, y_test_3_pred)}\")\n",
    "print(f\"Mean Absolute Error: {mean_absolute_error(y_test_3, y_test_3_pred)}\")"
   ]
  },
  {
   "cell_type": "code",
   "execution_count": 155,
   "metadata": {},
   "outputs": [
    {
     "name": "stdout",
     "output_type": "stream",
     "text": [
      "Training Scores\n",
      "----------\n",
      "R2: 0.8024\n",
      "RMSE: 183285.3838\n",
      "MAE: 100840.3496\n",
      "\n",
      "**********\n",
      "Testing Scores\n",
      "----------\n",
      "R2: 0.8037\n",
      "RMSE: 188501.1256\n",
      "MAE: 98757.0083\n"
     ]
    }
   ],
   "source": [
    "#Using Lindsey's function to print our errors in dollar amounts\n",
    "fn.print_metrics(y_train_3, y_train_3_pred, y_test_3, y_test_3_pred, log=True)"
   ]
  },
  {
   "cell_type": "markdown",
   "metadata": {},
   "source": [
    "Combining the square footage and square footage of nearest 15 neighbors into one ratio feature apparently does not result in a model with less error. The coefficient of determination went down slightly, while both the root mean squared error and the mean absolute error went up slightly, by about  $ 5k for the mean absolute error and about $ 8k for the root mean squared error - a chunk of change for the down payment of an average-priced home."
   ]
  },
  {
   "cell_type": "markdown",
   "metadata": {},
   "source": [
    "However, I think accounting for this potential multicollinearity is ultimately a good thing for the integrity of our model, and combining these two columns did not ding our r-squared by *that* much. Therefore, I think this is overall a fairly reliable model and a good stopping point for right now. "
   ]
  },
  {
   "cell_type": "markdown",
   "metadata": {},
   "source": [
    "# 10. Evaluation"
   ]
  },
  {
   "cell_type": "markdown",
   "metadata": {},
   "source": [
    "This time, let's check the residuals of our final model using a histogram."
   ]
  },
  {
   "cell_type": "code",
   "execution_count": 156,
   "metadata": {},
   "outputs": [],
   "source": [
    "# Note: I will use the residuals for the training dataset\n",
    "residuals_mod_3 = y_train_3 - y_train_3_pred"
   ]
  },
  {
   "cell_type": "code",
   "execution_count": 162,
   "metadata": {
    "scrolled": true
   },
   "outputs": [
    {
     "name": "stderr",
     "output_type": "stream",
     "text": [
      "/opt/anaconda3/envs/learn-env/lib/python3.8/site-packages/seaborn/distributions.py:2551: FutureWarning: `distplot` is a deprecated function and will be removed in a future version. Please adapt your code to use either `displot` (a figure-level function with similar flexibility) or `histplot` (an axes-level function for histograms).\n",
      "  warnings.warn(msg, FutureWarning)\n"
     ]
    },
    {
     "data": {
      "image/png": "[encoded data removed]",
      "text/plain": [
       "<Figure size 576x396 with 1 Axes>"
      ]
     },
     "metadata": {},
     "output_type": "display_data"
    }
   ],
   "source": [
    "# Now plot the distribution of residuals\n",
    "sns.distplot(residuals_mod_3, bins = 10)\n",
    "plt.xlabel('Residuals', fontsize = 15)     \n",
    "plt.show()"
   ]
  },
  {
   "cell_type": "markdown",
   "metadata": {},
   "source": [
    "Woohoo! Residuals are more or less normally distributed and symmetrical at 0. "
   ]
  },
  {
   "cell_type": "markdown",
   "metadata": {},
   "source": [
    "## Coefficient Evaluation"
   ]
  },
  {
   "cell_type": "code",
   "execution_count": 171,
   "metadata": {},
   "outputs": [
    {
     "data": {
      "text/html": [
       "<table class=\"simpletable\">\n",
       "<caption>OLS Regression Results</caption>\n",
       "<tr>\n",
       "  <th>Dep. Variable:</th>         <td>price_y</td>     <th>  R-squared:         </th> <td>   0.802</td>\n",
       "</tr>\n",
       "<tr>\n",
       "  <th>Model:</th>                   <td>OLS</td>       <th>  Adj. R-squared:    </th> <td>   0.802</td>\n",
       "</tr>\n",
       "<tr>\n",
       "  <th>Method:</th>             <td>Least Squares</td>  <th>  F-statistic:       </th> <td>   7789.</td>\n",
       "</tr>\n",
       "<tr>\n",
       "  <th>Date:</th>             <td>Tue, 29 Jun 2021</td> <th>  Prob (F-statistic):</th>  <td>  0.00</td> \n",
       "</tr>\n",
       "<tr>\n",
       "  <th>Time:</th>                 <td>21:38:07</td>     <th>  Log-Likelihood:    </th> <td>  540.57</td>\n",
       "</tr>\n",
       "<tr>\n",
       "  <th>No. Observations:</th>      <td> 17276</td>      <th>  AIC:               </th> <td>  -1061.</td>\n",
       "</tr>\n",
       "<tr>\n",
       "  <th>Df Residuals:</th>          <td> 17266</td>      <th>  BIC:               </th> <td>  -983.6</td>\n",
       "</tr>\n",
       "<tr>\n",
       "  <th>Df Model:</th>              <td>     9</td>      <th>                     </th>     <td> </td>   \n",
       "</tr>\n",
       "<tr>\n",
       "  <th>Covariance Type:</th>      <td>nonrobust</td>    <th>                     </th>     <td> </td>   \n",
       "</tr>\n",
       "</table>\n",
       "<table class=\"simpletable\">\n",
       "<tr>\n",
       "    <td></td>       <th>coef</th>     <th>std err</th>      <th>t</th>      <th>P>|t|</th>  <th>[0.025</th>    <th>0.975]</th>  \n",
       "</tr>\n",
       "<tr>\n",
       "  <th>const</th> <td>   13.0493</td> <td>    0.002</td> <td> 7311.522</td> <td> 0.000</td> <td>   13.046</td> <td>   13.053</td>\n",
       "</tr>\n",
       "<tr>\n",
       "  <th>x1</th>    <td>    0.2663</td> <td>    0.002</td> <td>  129.547</td> <td> 0.000</td> <td>    0.262</td> <td>    0.270</td>\n",
       "</tr>\n",
       "<tr>\n",
       "  <th>x2</th>    <td>    0.0092</td> <td>    0.002</td> <td>    4.073</td> <td> 0.000</td> <td>    0.005</td> <td>    0.014</td>\n",
       "</tr>\n",
       "<tr>\n",
       "  <th>x3</th>    <td>    0.0938</td> <td>    0.003</td> <td>   31.680</td> <td> 0.000</td> <td>    0.088</td> <td>    0.100</td>\n",
       "</tr>\n",
       "<tr>\n",
       "  <th>x4</th>    <td>    0.0380</td> <td>    0.002</td> <td>   19.185</td> <td> 0.000</td> <td>    0.034</td> <td>    0.042</td>\n",
       "</tr>\n",
       "<tr>\n",
       "  <th>x5</th>    <td>    0.0242</td> <td>    0.002</td> <td>   10.298</td> <td> 0.000</td> <td>    0.020</td> <td>    0.029</td>\n",
       "</tr>\n",
       "<tr>\n",
       "  <th>x6</th>    <td>    0.0197</td> <td>    0.002</td> <td>   10.197</td> <td> 0.000</td> <td>    0.016</td> <td>    0.024</td>\n",
       "</tr>\n",
       "<tr>\n",
       "  <th>x7</th>    <td>    0.2280</td> <td>    0.003</td> <td>   84.980</td> <td> 0.000</td> <td>    0.223</td> <td>    0.233</td>\n",
       "</tr>\n",
       "<tr>\n",
       "  <th>x8</th>    <td>   -0.1111</td> <td>    0.002</td> <td>  -45.956</td> <td> 0.000</td> <td>   -0.116</td> <td>   -0.106</td>\n",
       "</tr>\n",
       "<tr>\n",
       "  <th>x9</th>    <td>    0.0378</td> <td>    0.002</td> <td>   17.280</td> <td> 0.000</td> <td>    0.034</td> <td>    0.042</td>\n",
       "</tr>\n",
       "</table>\n",
       "<table class=\"simpletable\">\n",
       "<tr>\n",
       "  <th>Omnibus:</th>       <td>1157.675</td> <th>  Durbin-Watson:     </th> <td>   1.792</td>\n",
       "</tr>\n",
       "<tr>\n",
       "  <th>Prob(Omnibus):</th>  <td> 0.000</td>  <th>  Jarque-Bera (JB):  </th> <td>3482.043</td>\n",
       "</tr>\n",
       "<tr>\n",
       "  <th>Skew:</th>           <td> 0.340</td>  <th>  Prob(JB):          </th> <td>    0.00</td>\n",
       "</tr>\n",
       "<tr>\n",
       "  <th>Kurtosis:</th>       <td> 5.092</td>  <th>  Cond. No.          </th> <td>    3.43</td>\n",
       "</tr>\n",
       "</table><br/><br/>Notes:<br/>[1] Standard Errors assume that the covariance matrix of the errors is correctly specified."
      ],
      "text/plain": [
       "<class 'statsmodels.iolib.summary.Summary'>\n",
       "\"\"\"\n",
       "                            OLS Regression Results                            \n",
       "==============================================================================\n",
       "Dep. Variable:                price_y   R-squared:                       0.802\n",
       "Model:                            OLS   Adj. R-squared:                  0.802\n",
       "Method:                 Least Squares   F-statistic:                     7789.\n",
       "Date:                Tue, 29 Jun 2021   Prob (F-statistic):               0.00\n",
       "Time:                        21:38:07   Log-Likelihood:                 540.57\n",
       "No. Observations:               17276   AIC:                            -1061.\n",
       "Df Residuals:                   17266   BIC:                            -983.6\n",
       "Df Model:                           9                                         \n",
       "Covariance Type:            nonrobust                                         \n",
       "==============================================================================\n",
       "                 coef    std err          t      P>|t|      [0.025      0.975]\n",
       "------------------------------------------------------------------------------\n",
       "const         13.0493      0.002   7311.522      0.000      13.046      13.053\n",
       "x1             0.2663      0.002    129.547      0.000       0.262       0.270\n",
       "x2             0.0092      0.002      4.073      0.000       0.005       0.014\n",
       "x3             0.0938      0.003     31.680      0.000       0.088       0.100\n",
       "x4             0.0380      0.002     19.185      0.000       0.034       0.042\n",
       "x5             0.0242      0.002     10.298      0.000       0.020       0.029\n",
       "x6             0.0197      0.002     10.197      0.000       0.016       0.024\n",
       "x7             0.2280      0.003     84.980      0.000       0.223       0.233\n",
       "x8            -0.1111      0.002    -45.956      0.000      -0.116      -0.106\n",
       "x9             0.0378      0.002     17.280      0.000       0.034       0.042\n",
       "==============================================================================\n",
       "Omnibus:                     1157.675   Durbin-Watson:                   1.792\n",
       "Prob(Omnibus):                  0.000   Jarque-Bera (JB):             3482.043\n",
       "Skew:                           0.340   Prob(JB):                         0.00\n",
       "Kurtosis:                       5.092   Cond. No.                         3.43\n",
       "==============================================================================\n",
       "\n",
       "Notes:\n",
       "[1] Standard Errors assume that the covariance matrix of the errors is correctly specified.\n",
       "\"\"\""
      ]
     },
     "execution_count": 171,
     "metadata": {},
     "output_type": "execute_result"
    }
   ],
   "source": [
    "X = X_train_3_scaled\n",
    "y = y_train_3\n",
    "\n",
    "model_3 = sm.OLS(y, sm.add_constant(X))\n",
    "\n",
    "results_mod_3 = model_3.fit()\n",
    "\n",
    "results_mod_3.summary()"
   ]
  },
  {
   "cell_type": "code",
   "execution_count": 175,
   "metadata": {},
   "outputs": [
    {
     "data": {
      "text/html": [
       "<div>\n",
       "<style scoped>\n",
       "    .dataframe tbody tr th:only-of-type {\n",
       "        vertical-align: middle;\n",
       "    }\n",
       "\n",
       "    .dataframe tbody tr th {\n",
       "        vertical-align: top;\n",
       "    }\n",
       "\n",
       "    .dataframe thead th {\n",
       "        text-align: right;\n",
       "    }\n",
       "</style>\n",
       "<table border=\"1\" class=\"dataframe\">\n",
       "  <thead>\n",
       "    <tr style=\"text-align: right;\">\n",
       "      <th></th>\n",
       "      <th>med_price_for_zip</th>\n",
       "      <th>bedrooms</th>\n",
       "      <th>bathrooms</th>\n",
       "      <th>sqft_lot</th>\n",
       "      <th>floors</th>\n",
       "      <th>condition</th>\n",
       "      <th>grade</th>\n",
       "      <th>yr_built</th>\n",
       "      <th>log_sqft_living_ratio</th>\n",
       "    </tr>\n",
       "  </thead>\n",
       "  <tbody>\n",
       "    <tr>\n",
       "      <th>0</th>\n",
       "      <td>12.49</td>\n",
       "      <td>0.69</td>\n",
       "      <td>0.56</td>\n",
       "      <td>9.66</td>\n",
       "      <td>0.00</td>\n",
       "      <td>1.10</td>\n",
       "      <td>6</td>\n",
       "      <td>7.59</td>\n",
       "      <td>-0.03</td>\n",
       "    </tr>\n",
       "    <tr>\n",
       "      <th>1</th>\n",
       "      <td>12.49</td>\n",
       "      <td>1.39</td>\n",
       "      <td>0.92</td>\n",
       "      <td>8.43</td>\n",
       "      <td>0.69</td>\n",
       "      <td>1.10</td>\n",
       "      <td>8</td>\n",
       "      <td>7.60</td>\n",
       "      <td>0.01</td>\n",
       "    </tr>\n",
       "    <tr>\n",
       "      <th>2</th>\n",
       "      <td>12.49</td>\n",
       "      <td>1.61</td>\n",
       "      <td>0.56</td>\n",
       "      <td>9.07</td>\n",
       "      <td>0.00</td>\n",
       "      <td>1.10</td>\n",
       "      <td>7</td>\n",
       "      <td>7.58</td>\n",
       "      <td>0.02</td>\n",
       "    </tr>\n",
       "    <tr>\n",
       "      <th>3</th>\n",
       "      <td>12.49</td>\n",
       "      <td>1.10</td>\n",
       "      <td>0.00</td>\n",
       "      <td>9.68</td>\n",
       "      <td>0.00</td>\n",
       "      <td>1.39</td>\n",
       "      <td>6</td>\n",
       "      <td>7.58</td>\n",
       "      <td>-0.00</td>\n",
       "    </tr>\n",
       "    <tr>\n",
       "      <th>4</th>\n",
       "      <td>12.49</td>\n",
       "      <td>1.39</td>\n",
       "      <td>0.56</td>\n",
       "      <td>9.39</td>\n",
       "      <td>0.00</td>\n",
       "      <td>1.61</td>\n",
       "      <td>6</td>\n",
       "      <td>7.57</td>\n",
       "      <td>0.02</td>\n",
       "    </tr>\n",
       "  </tbody>\n",
       "</table>\n",
       "</div>"
      ],
      "text/plain": [
       "   med_price_for_zip  bedrooms  bathrooms  sqft_lot  floors  condition  grade  \\\n",
       "0              12.49      0.69       0.56      9.66    0.00       1.10      6   \n",
       "1              12.49      1.39       0.92      8.43    0.69       1.10      8   \n",
       "2              12.49      1.61       0.56      9.07    0.00       1.10      7   \n",
       "3              12.49      1.10       0.00      9.68    0.00       1.39      6   \n",
       "4              12.49      1.39       0.56      9.39    0.00       1.61      6   \n",
       "\n",
       "   yr_built  log_sqft_living_ratio  \n",
       "0      7.59                  -0.03  \n",
       "1      7.60                   0.01  \n",
       "2      7.58                   0.02  \n",
       "3      7.58                  -0.00  \n",
       "4      7.57                   0.02  "
      ]
     },
     "execution_count": 175,
     "metadata": {},
     "output_type": "execute_result"
    }
   ],
   "source": [
    "# printing column names again, because coefficients above are not identified by column names. \n",
    "X_train_3.head()"
   ]
  },
  {
   "cell_type": "markdown",
   "metadata": {},
   "source": [
    "Probably most important is the fact that the constant value is much higher than any of the coefficient values. This implies that there are some factors influencing house price that are not accounted for in my model. \n",
    "\n",
    "By far, median sales price for a home's zip code is the strongest predictor in this current model. Grade was the second most-powerful predictor. Going up one standard deviation with the zip code feature increased a home's price by almost 27%, while going up one standard deviation in condition can increase price by 23%. \n",
    "\n",
    "Also noteworthy is the fact that a home's lot size as a standalone predictor seems to affect a home sales price about  as much as the ratio of its square footage compared to that of its neighbors. This may tell us that lot size is not nearly as influential as interior square footage, as de-emphasizing the latter feature by combining the two square footage columns into one feature still resulted in a feature with equivalent influence as lot size. This also lends support to the idea that location is an important predictor, as the squarefootage/ratio feature implicitly took location into account. "
   ]
  },
  {
   "cell_type": "code",
   "execution_count": null,
   "metadata": {},
   "outputs": [],
   "source": []
  }
 ],
 "metadata": {
  "kernelspec": {
   "display_name": "Python 3",
   "language": "python",
   "name": "python3"
  },
  "language_info": {
   "codemirror_mode": {
    "name": "ipython",
    "version": 3
   },
   "file_extension": ".py",
   "mimetype": "text/x-python",
   "name": "python",
   "nbconvert_exporter": "python",
   "pygments_lexer": "ipython3",
   "version": "3.8.5"
  }
 },
 "nbformat": 4,
 "nbformat_minor": 4
}
